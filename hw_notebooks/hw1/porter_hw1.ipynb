{
 "cells": [
  {
   "cell_type": "markdown",
   "id": "749f539a-260b-4778-b4ce-f3424871ab5d",
   "metadata": {},
   "source": [
    "# **ELLIOT PORTER - EE263 - Matrix Methods - HW1** \n",
    "## September 28, 2025"
   ]
  },
  {
   "cell_type": "code",
   "execution_count": 1,
   "id": "de99811c-605e-40a0-9902-c5703714d916",
   "metadata": {},
   "outputs": [
    {
     "data": {
      "image/svg+xml": [
       "<?xml version=\"1.0\" encoding=\"UTF-8\"?>\n",
       "<!DOCTYPE svg PUBLIC \"-//W3C//DTD SVG 1.1//EN\"\n",
       " \"http://www.w3.org/Graphics/SVG/1.1/DTD/svg11.dtd\">\n",
       "<svg xmlns=\"http://www.w3.org/2000/svg\" version=\"1.1\"\n",
       "     width=\"25mm\" height=\"25mm\" viewBox=\"0 0 1 1\">\n",
       "    <rect width=\"1\" height=\"1\" fill=\"#8C1515\" stroke=\"none\"/>\n",
       "</svg>\n"
      ],
      "text/plain": [
       "RGB{N0f8}(0.549,0.082,0.082)"
      ]
     },
     "execution_count": 1,
     "metadata": {},
     "output_type": "execute_result"
    }
   ],
   "source": [
    "### PREMBLE\n",
    "#import Pkg\n",
    "#Pkg.add(\"Markdown\")\n",
    "\n",
    "using LinearAlgebra\n",
    "using Plots\n",
    "using Statistics\n",
    "using Random\n",
    "using Graphs\n",
    "using GraphPlot\n",
    "using Colors\n",
    "using Markdown\n",
    "Random.seed!(42)\n",
    "cardinal = colorant\"#8C1515\"\n"
   ]
  },
  {
   "cell_type": "markdown",
   "id": "81e10342-b7f3-4847-8ec3-77aac6d51b0b",
   "metadata": {},
   "source": [
    "### Helper Functions for Plotting calculated adjacencies"
   ]
  },
  {
   "cell_type": "code",
   "execution_count": 2,
   "id": "da1c6941-eeb9-40e4-b10c-6bc156003be0",
   "metadata": {},
   "outputs": [
    {
     "data": {
      "text/plain": [
       "latex_matrix (generic function with 1 method)"
      ]
     },
     "execution_count": 2,
     "metadata": {},
     "output_type": "execute_result"
    }
   ],
   "source": [
    "function latex_matrix(A::AbstractMatrix)\n",
    "    # ensure dense, but avoid reconverting if already a Matrix\n",
    "    denseA = A isa Matrix ? A : Matrix(A)\n",
    "    \n",
    "    latex_str = \"\\\\begin{bmatrix}\\n\" *\n",
    "        join([join(string.(row), \" & \") for row in eachrow(denseA)], \" \\\\\\\\\\n\") *\n",
    "        \"\\n\\\\end{bmatrix}\"\n",
    "    \n",
    "    # escape $ so Julia doesn't think it's interpolation\n",
    "    return Markdown.parse(\"\\$\\$\" * latex_str * \"\\$\\$\")\n",
    "end"
   ]
  },
  {
   "cell_type": "markdown",
   "id": "e238f83c-8ae4-42e7-aa61-b6a9bf0c1d14",
   "metadata": {},
   "source": [
    "## Problem 2.61: Matrix representation of polynomial differentiation\n",
    "\n",
    "Let  \n",
    "\n",
    "$$\n",
    "p(x) = a_{n-1}x^{n-1} + a_{n-2}x^{n-2} + \\cdots + a_1x + a_0,\n",
    "$$  \n",
    "\n",
    "with coefficient vector  \n",
    "$$(a_0, a_1, \\ldots, a_{n-1}) \\in \\mathbb{R}^n.$$  \n",
    "\n",
    "Consider the linear transformation \\(D\\) that differentiates polynomials, i.e.,  \n",
    "\n",
    "$$\n",
    "Dp = \\frac{dp}{dx}.\n",
    "$$  \n",
    "\n",
    "Find the matrix \\(D\\) that represents this operation (i.e., if the coefficients of \\(p\\) are given by \\(a\\), then the coefficients of \\(dp/dx\\) are given by \\(Da\\)).  \n"
   ]
  },
  {
   "cell_type": "markdown",
   "id": "62f3f2cb-b1c2-4527-9b61-ccb3a01ff08f",
   "metadata": {},
   "source": [
    "### Q2.61 Analysis"
   ]
  },
  {
   "cell_type": "markdown",
   "id": "b28300d8-0009-4c26-808b-7da6edb8d890",
   "metadata": {},
   "source": [
    "Okay we can denote a vector $a \\in \\mathbb{R}^{nx1}$\n",
    "Where the order is of ascending indices:\n",
    "$$\n",
    "\\begin{bmatrix}\n",
    "a_0\\\\\n",
    "a_1 \\\\\n",
    "a_2 \\\\\n",
    "a_3 \\\\\n",
    "\\vdots \\\\\n",
    "a_n\n",
    "\\end{bmatrix}\n",
    "$$\n",
    "\n",
    "Likewise for the vector, $x \\in \\mathbb{R}^{1xn}$\n",
    "$$\n",
    "[\\, x_0\\: x_1 \\; x_2 \\; x_3 \\; \\cdots \\; x_n \\,]\n",
    "$$"
   ]
  },
  {
   "cell_type": "code",
   "execution_count": 3,
   "id": "b8669fcb-d640-4887-bb92-f3e59e87cea4",
   "metadata": {},
   "outputs": [
    {
     "data": {
      "text/plain": [
       "take_derive (generic function with 1 method)"
      ]
     },
     "execution_count": 3,
     "metadata": {},
     "output_type": "execute_result"
    }
   ],
   "source": [
    "function p(x, a)\n",
    "    if length(x) != length(a)\n",
    "        error(\"vectors x and a are not the same size\")\n",
    "    end\n",
    "    n = length(x)\n",
    "    x_poly = zeros(n)\n",
    "    for i in 1:n\n",
    "        x_poly[i] = x[i] ^ i\n",
    "    end\n",
    "    return x_poly .* a\n",
    "end\n",
    "\n",
    "function take_derive(p::Vector)\n",
    "    n = length(p)\n",
    "    dp = zeros(n)\n",
    "    for i in 2:n\n",
    "        dp[i-1] = (i-1) * p[i]\n",
    "    end\n",
    "    return dp\n",
    "end\n",
    "\n",
    "    "
   ]
  },
  {
   "cell_type": "code",
   "execution_count": 4,
   "id": "50b4c62f-6860-456e-a410-da1c8634c801",
   "metadata": {},
   "outputs": [
    {
     "name": "stdout",
     "output_type": "stream",
     "text": [
      "[1, 2, 3]\n",
      "[1.0, 1.0, 1.0]\n",
      "[1.0, 4.0, 27.0]\n"
     ]
    },
    {
     "data": {
      "text/plain": [
       "3-element Vector{Float64}:\n",
       "  4.0\n",
       " 54.0\n",
       "  0.0"
      ]
     },
     "execution_count": 4,
     "metadata": {},
     "output_type": "execute_result"
    }
   ],
   "source": [
    "#example usage\n",
    "x = collect(1:3)\n",
    "println(x)\n",
    "a = ones(3)\n",
    "println(a)\n",
    "f = p(x, a)\n",
    "println(f)\n",
    "df = take_derive(f)\n"
   ]
  },
  {
   "cell_type": "markdown",
   "id": "42685841-f14c-4b57-b093-17a1b8484014",
   "metadata": {},
   "source": [
    "### Finding the transition matrix\n",
    "\n",
    "We know that the relationship between the vectors satisfies:  \n",
    "\n",
    "$$\n",
    "A \\, X = y\n",
    "$$  \n",
    "\n",
    "#### where:\n",
    "- $A$ is the transition matrix $D$\n",
    "- $X$ is our polynomial coefficient vector $a = [a_0, a_1, \\ldots, a_{n-1}]^T$\n",
    "- $y$ is our derivative polynomial coefficient vector, $Da$\n",
    "\n",
    "#### We know:\n",
    "- $X$ is of length $n$\n",
    "- $y$ is also of length $n$ (last entry is always $0$) because of the chain rule\n",
    "\n",
    "#### Therefore:\n",
    "- $A$ (i.e. $D$) must be of shape $n \\times n$\n",
    "- The action of $D$ is to shift coefficients down one index, multiplying by the original index $k$\n",
    "\n",
    "#### Explicitly:\n",
    "$$\n",
    "Da = \\big[\\, a_1,\\; 2a_2,\\; 3a_3,\\; \\ldots,\\; (n-1)a_{n-1},\\; 0 \\,\\big]^T\n",
    "$$  \n",
    "\n",
    "Thus $D$ has entries $1,2,3,\\ldots,n-1$ above its diagonal (super diagonal) , with zeros elsewhere.\n"
   ]
  },
  {
   "cell_type": "code",
   "execution_count": 5,
   "id": "8d2d09c9-7c41-4f1c-a584-7d3771e421bf",
   "metadata": {},
   "outputs": [
    {
     "data": {
      "text/plain": [
       "make_diff_coeff (generic function with 1 method)"
      ]
     },
     "execution_count": 5,
     "metadata": {},
     "output_type": "execute_result"
    }
   ],
   "source": [
    "# make coefficient matrix\n",
    "function get_diff_coeff_matrix(n::Int)\n",
    "    D = zeros(n, n)\n",
    "    for i in 1:n-1\n",
    "        D[i, i+1] = i\n",
    "    end\n",
    "    return D\n",
    "end\n",
    "\n",
    "function make_diff_coeff(a::Vector)\n",
    "    n = length(a)\n",
    "    D = get_diff_coeff_matrix(n)\n",
    "    return round.(D*a, digits=3)\n",
    "end\n"
   ]
  },
  {
   "cell_type": "code",
   "execution_count": 6,
   "id": "248a37aa-58b7-4c77-9d55-275c671a2d3f",
   "metadata": {},
   "outputs": [
    {
     "name": "stdout",
     "output_type": "stream",
     "text": [
      "On example 1\n",
      "a = [1.0, 1.0, 1.0, 1.0, 1.0, 1.0, 1.0]\n"
     ]
    },
    {
     "data": {
      "text/plain": [
       "7×7 Matrix{Float64}:\n",
       " 0.0  1.0  0.0  0.0  0.0  0.0  0.0\n",
       " 0.0  0.0  2.0  0.0  0.0  0.0  0.0\n",
       " 0.0  0.0  0.0  3.0  0.0  0.0  0.0\n",
       " 0.0  0.0  0.0  0.0  4.0  0.0  0.0\n",
       " 0.0  0.0  0.0  0.0  0.0  5.0  0.0\n",
       " 0.0  0.0  0.0  0.0  0.0  0.0  6.0\n",
       " 0.0  0.0  0.0  0.0  0.0  0.0  0.0"
      ]
     },
     "metadata": {},
     "output_type": "display_data"
    },
    {
     "name": "stdout",
     "output_type": "stream",
     "text": [
      "da = make_diff_coeff(a)\n",
      "\n",
      "On example 2\n",
      "a = [1.0, 2.0, 3.0, 4.0, 5.0, 6.0]\n"
     ]
    },
    {
     "data": {
      "text/plain": [
       "6×6 Matrix{Float64}:\n",
       " 0.0  1.0  0.0  0.0  0.0  0.0\n",
       " 0.0  0.0  2.0  0.0  0.0  0.0\n",
       " 0.0  0.0  0.0  3.0  0.0  0.0\n",
       " 0.0  0.0  0.0  0.0  4.0  0.0\n",
       " 0.0  0.0  0.0  0.0  0.0  5.0\n",
       " 0.0  0.0  0.0  0.0  0.0  0.0"
      ]
     },
     "metadata": {},
     "output_type": "display_data"
    },
    {
     "name": "stdout",
     "output_type": "stream",
     "text": [
      "da = make_diff_coeff(a)\n",
      "\n",
      "On example 3\n",
      "a = [1.0, 2.0, 2.5, 1.4]\n"
     ]
    },
    {
     "data": {
      "text/plain": [
       "4×4 Matrix{Float64}:\n",
       " 0.0  1.0  0.0  0.0\n",
       " 0.0  0.0  2.0  0.0\n",
       " 0.0  0.0  0.0  3.0\n",
       " 0.0  0.0  0.0  0.0"
      ]
     },
     "metadata": {},
     "output_type": "display_data"
    },
    {
     "name": "stdout",
     "output_type": "stream",
     "text": [
      "da = make_diff_coeff(a)\n",
      "\n"
     ]
    }
   ],
   "source": [
    "# Example coefficient vectors\n",
    "a_vecs = [\n",
    "    ones(7),               # vector of 7 ones\n",
    "    collect(1:6),          # [1,2,3,4,5,6]\n",
    "    [1.0, 2.0, 2.5, 1.4]   # custom vector\n",
    "]\n",
    "\n",
    "for (i, a) in enumerate(a_vecs)\n",
    "    println(\"On example $i\")\n",
    "    println(\"a = $a\")\n",
    "    display(get_diff_coeff_matrix(length(a)))\n",
    "    println(\"da = $make_diff_coeff(a)\")\n",
    "    println(\"\")\n",
    "end"
   ]
  },
  {
   "cell_type": "markdown",
   "id": "fecfc4ce-846c-48f9-b4b3-615fdde08919",
   "metadata": {},
   "source": [
    "## Problem 2.100: A mass subject to applied forces\n",
    "\n",
    "A unit mass is subject to a time-varying force $f(t)$ for $0 \\leq t \\leq n$.  \n",
    "The initial position and velocity of the mass are zero. Suppose that the force has the form  \n",
    "\n",
    "$$\n",
    "f(t) = x_j, \\quad \\text{for } j-1 \\leq t < j, \\quad j = 1, \\ldots, n.\n",
    "$$  \n",
    "\n",
    "Let $y_1$ and $y_2$ denote, respectively, the position and velocity of the mass at time $t=n$.  \n",
    "\n",
    "1. Find the matrix $A \\in \\mathbb{R}^{2 \\times n}$ such that  \n",
    "\n",
    "$$\n",
    "y = Ax.\n",
    "$$  \n",
    "\n",
    "2. For $n=4$, find a sequence of input forces $x_1, \\ldots, x_4$ that moves the mass to position 1 with velocity 0 at time $n$.  \n"
   ]
  },
  {
   "cell_type": "markdown",
   "id": "3f54d630-0661-4295-93c6-79304e1b47c3",
   "metadata": {},
   "source": [
    "### **Q2.100 Analysis**"
   ]
  },
  {
   "cell_type": "markdown",
   "id": "e27b8d45-69fe-4a46-8864-ec44ca9b5dca",
   "metadata": {},
   "source": [
    "**Dynamics**\n",
    "\n",
    "$$F = m a, \\qquad m=1 \\;\\;\\Rightarrow\\;\\; F = a$$\n",
    "\n",
    "Let the applied force be $F = f(t)$. Then\n",
    "\n",
    "\n",
    "$$a = \\frac{dv}{dt} = f(t)$$\n",
    "\n",
    "Where: \n",
    "$$f(t) = x_j \\text{ for } t \\in [0, n] \\text{ and } [j-1, j]$$\n",
    "\n",
    "Lets denote speed as $v$ and position as $z$, Integrating:\n",
    "\n",
    "\n",
    "$$v(t) = \\int f(t)\\,dt + v_0 = f(t)\\,dt + v_0,$$\n",
    "\n",
    "$$z(t) = \\frac{1}{2} f(t)\\,dt^2 + v_0 t + z_0.$$\n",
    "\n",
    "---\n",
    "\n",
    "**Discrete Timesteps**\n",
    "\n",
    "But for discrete intervals of size $dt$, which is just 1:\n",
    "\n",
    "$$v_j = f(t)\\,dt + v_{j-1},$$\n",
    "\n",
    "$$z_j = \\tfrac{1}{2} f(t)\\,dt^2 + v_{j-1}\\,dt + z_{j-1}.$$\n",
    "\n",
    "But $dt=1$ in this case. \n",
    "\n",
    "---\n",
    "\n",
    "\n",
    "**Vector Representation**\n",
    "\n",
    "$$\n",
    "\\begin{bmatrix}\n",
    "z_i \\\\\n",
    "v_i\n",
    "\\end{bmatrix}\n",
    "=\n",
    "\\begin{bmatrix}\n",
    "\\tfrac{1}{2} f(t)\\,dt^2 + v_{i-1}\\,dt + z_{i-1} \\\\\n",
    "f(t)\\,dt + v_{i-1}\n",
    "\\end{bmatrix}$$\n",
    "\n",
    "** Simplifying for $f(t) = x_j$ and $dt=1$ **\n",
    "$$\n",
    "\\begin{bmatrix}\n",
    "z_j \\\\\n",
    "v_j\n",
    "\\end{bmatrix}\n",
    "\\begin{bmatrix}\n",
    "\\tfrac{1}{2} x_j\\, + v_{j-1}\\, + z_{j-1} \\\\\n",
    "x_j + v_{j-1}\n",
    "\\end{bmatrix}$$\n",
    "\n",
    "Identity! because $v_j = x_j - v{j-1}$ and $v_{j-1} = x_{j-1} + v_{j-2} ...$ we can rewrite each term as a series. \n",
    "So $v_j$ becomes:\n",
    "$$ v_j = \\sum_{k=1}^{j} x_k$$\n",
    "And then $z_j$ would become:\n",
    "$$z_j = \\sum_{k=1}^j \\frac{1}{2}x_j + v_{j-1} + z_{j-1}  $$\n",
    "\n",
    "Since:\n",
    "$$v_{j-1} = \\sum_{k=1}^{j-1} x_k $$ \n",
    "\n",
    "And: \n",
    "$$z_{j-1} = \\sum_{m=1}^{j-1} \\left( \\sum_{k=1}^{m-1} x_k + \\tfrac{1}{2}x_m \\right)$$ \n",
    "\n",
    "We can substitute into the $z_j$ equation:\n",
    "\n",
    "$$z_n = \\sum_{j=1}^n \\left( \\sum_{k=1}^{j-1} x_k + \\tfrac{1}{2}x_j \\right).$$\n",
    "\n",
    "---\n",
    "\n",
    "**Step: Swap the order of summation**\n",
    "\n",
    "$$\\sum_{j=1}^n \\sum_{k=1}^{j-1} x_k = \\sum_{k=1}^n \\sum_{j=k+1}^n x_k.$$\n",
    "\n",
    "For a fixed $k$, the term $x_k$ appears whenever $j > k$, i.e. for\n",
    "$j = k+1, \\dots, n$. That gives $(n-k)$ occurrences of $x_k$.\n",
    "$$\\sum_{j=1}^n \\sum_{k=1}^{j-1} x_k = \\sum_{k=1}^n (n-k)\\,x_k.$$\n",
    "\n",
    "---\n",
    "\n",
    "**Final form for position**\n",
    "\n",
    "$$z_n = \\sum_{k=1}^n \\Big( (n-k) + \\tfrac{1}{2} \\Big)\\,x_k.$$\n",
    "\n",
    "Here:\n",
    "- $(n-k)$ counts how many full steps remain after force $x_k$ is applied,\n",
    "- $\\tfrac{1}{2}x_k$ is the extra distance from the acceleration during the same step.\n",
    "\n",
    "\n",
    "So the final expression for the vector, $y$ denoting position, $z_j$ and velocity, $v_j$\n",
    "$$ y = \n",
    "\\begin{bmatrix}\n",
    "z_j \\\\\n",
    "v_j\n",
    "\\end{bmatrix}\n",
    "=\n",
    "\\begin{bmatrix}\n",
    "\\sum_{k=1}^j \\Big( (j-k) + \\tfrac{1}{2} \\Big)\\,x_k \\\\\n",
    " \\sum_{k=1}^{j} x_k\n",
    "\\end{bmatrix} = Ax$$\n",
    "\n",
    "Each component is a **linear combination** of the inputs $x_k$, so we can write this as a matrix–vector product.\n",
    "\n",
    "**Factoring out $x = [x_1,\\dots,x_j]^T$:**\n",
    "\n",
    "$$\n",
    "y =\n",
    "\\begin{bmatrix}\n",
    "(j-1)+\\tfrac12 & (j-2)+\\tfrac12 & \\cdots & 1+\\tfrac12 & \\tfrac12 \\\\\n",
    "1 & 1 & \\cdots & 1 & 1\n",
    "\\end{bmatrix}\n",
    "\\begin{bmatrix}\n",
    "x_1 \\\\ x_2 \\\\ \\vdots \\\\ x_{j-1} \\\\ x_j\n",
    "\\end{bmatrix}.\n",
    "$$\n",
    "\n",
    "And so,\n",
    "\n",
    "$$\n",
    "y = A x,\n",
    "$$\n",
    "\n",
    "where the top row of $A$ encodes the decreasing weights $(j-k)+\\tfrac12$ for position, and the bottom row of $A$ is all ones for velocity.\n"
   ]
  },
  {
   "cell_type": "markdown",
   "id": "c6d41a55-cc10-4c56-850a-80fbee2b3141",
   "metadata": {},
   "source": [
    "### now write the code to express $y=Ax$"
   ]
  },
  {
   "cell_type": "code",
   "execution_count": 7,
   "id": "6972931f-a0df-460f-b553-10dcf4ece2fa",
   "metadata": {},
   "outputs": [
    {
     "name": "stdout",
     "output_type": "stream",
     "text": [
      "x vector: [1, 2, 3, 4, 5]\n",
      "\n",
      "v vector: [1.0, 3.0, 6.0, 10.0, 15.0]\n",
      "\n",
      "pos vector: [0.5, 2.5, 7.0, 15.0, 27.5]\n"
     ]
    },
    {
     "data": {
      "image/png": "[encoded data removed]",
      "image/svg+xml": [
       "<?xml version=\"1.0\" encoding=\"utf-8\"?>\n",
       "<svg xmlns=\"http://www.w3.org/2000/svg\" xmlns:xlink=\"http://www.w3.org/1999/xlink\" width=\"600\" height=\"400\" viewBox=\"0 0 2400 1600\">\n",
       "<defs>\n",
       "  <clipPath id=\"clip170\">\n",
       "    <rect x=\"0\" y=\"0\" width=\"2400\" height=\"1600\"/>\n",
       "  </clipPath>\n",
       "</defs>\n",
       "<path clip-path=\"url(#clip170)\" d=\"M0 1600 L2400 1600 L2400 8.88178e-14 L0 8.88178e-14  Z\" fill=\"#ffffff\" fill-rule=\"evenodd\" fill-opacity=\"1\"/>\n",
       "<defs>\n",
       "  <clipPath id=\"clip171\">\n",
       "    <rect x=\"480\" y=\"0\" width=\"1681\" height=\"1600\"/>\n",
       "  </clipPath>\n",
       "</defs>\n",
       "<path clip-path=\"url(#clip170)\" d=\"M203.964 1423.18 L2352.76 1423.18 L2352.76 47.2441 L203.964 47.2441  Z\" fill=\"#ffffff\" fill-rule=\"evenodd\" fill-opacity=\"1\"/>\n",
       "<defs>\n",
       "  <clipPath id=\"clip172\">\n",
       "    <rect x=\"203\" y=\"47\" width=\"2150\" height=\"1377\"/>\n",
       "  </clipPath>\n",
       "</defs>\n",
       "<polyline clip-path=\"url(#clip172)\" style=\"stroke:#000000; stroke-linecap:round; stroke-linejoin:round; stroke-width:2; stroke-opacity:0.1; fill:none\" points=\"264.778,1423.18 264.778,47.2441 \"/>\n",
       "<polyline clip-path=\"url(#clip172)\" style=\"stroke:#000000; stroke-linecap:round; stroke-linejoin:round; stroke-width:2; stroke-opacity:0.1; fill:none\" points=\"771.569,1423.18 771.569,47.2441 \"/>\n",
       "<polyline clip-path=\"url(#clip172)\" style=\"stroke:#000000; stroke-linecap:round; stroke-linejoin:round; stroke-width:2; stroke-opacity:0.1; fill:none\" points=\"1278.36,1423.18 1278.36,47.2441 \"/>\n",
       "<polyline clip-path=\"url(#clip172)\" style=\"stroke:#000000; stroke-linecap:round; stroke-linejoin:round; stroke-width:2; stroke-opacity:0.1; fill:none\" points=\"1785.15,1423.18 1785.15,47.2441 \"/>\n",
       "<polyline clip-path=\"url(#clip172)\" style=\"stroke:#000000; stroke-linecap:round; stroke-linejoin:round; stroke-width:2; stroke-opacity:0.1; fill:none\" points=\"2291.94,1423.18 2291.94,47.2441 \"/>\n",
       "<polyline clip-path=\"url(#clip172)\" style=\"stroke:#000000; stroke-linecap:round; stroke-linejoin:round; stroke-width:2; stroke-opacity:0.1; fill:none\" points=\"203.964,1408.28 2352.76,1408.28 \"/>\n",
       "<polyline clip-path=\"url(#clip172)\" style=\"stroke:#000000; stroke-linecap:round; stroke-linejoin:round; stroke-width:2; stroke-opacity:0.1; fill:none\" points=\"203.964,1167.9 2352.76,1167.9 \"/>\n",
       "<polyline clip-path=\"url(#clip172)\" style=\"stroke:#000000; stroke-linecap:round; stroke-linejoin:round; stroke-width:2; stroke-opacity:0.1; fill:none\" points=\"203.964,927.516 2352.76,927.516 \"/>\n",
       "<polyline clip-path=\"url(#clip172)\" style=\"stroke:#000000; stroke-linecap:round; stroke-linejoin:round; stroke-width:2; stroke-opacity:0.1; fill:none\" points=\"203.964,687.136 2352.76,687.136 \"/>\n",
       "<polyline clip-path=\"url(#clip172)\" style=\"stroke:#000000; stroke-linecap:round; stroke-linejoin:round; stroke-width:2; stroke-opacity:0.1; fill:none\" points=\"203.964,446.756 2352.76,446.756 \"/>\n",
       "<polyline clip-path=\"url(#clip172)\" style=\"stroke:#000000; stroke-linecap:round; stroke-linejoin:round; stroke-width:2; stroke-opacity:0.1; fill:none\" points=\"203.964,206.376 2352.76,206.376 \"/>\n",
       "<polyline clip-path=\"url(#clip170)\" style=\"stroke:#000000; stroke-linecap:round; stroke-linejoin:round; stroke-width:4; stroke-opacity:1; fill:none\" points=\"203.964,1423.18 2352.76,1423.18 \"/>\n",
       "<polyline clip-path=\"url(#clip170)\" style=\"stroke:#000000; stroke-linecap:round; stroke-linejoin:round; stroke-width:4; stroke-opacity:1; fill:none\" points=\"264.778,1423.18 264.778,1404.28 \"/>\n",
       "<polyline clip-path=\"url(#clip170)\" style=\"stroke:#000000; stroke-linecap:round; stroke-linejoin:round; stroke-width:4; stroke-opacity:1; fill:none\" points=\"771.569,1423.18 771.569,1404.28 \"/>\n",
       "<polyline clip-path=\"url(#clip170)\" style=\"stroke:#000000; stroke-linecap:round; stroke-linejoin:round; stroke-width:4; stroke-opacity:1; fill:none\" points=\"1278.36,1423.18 1278.36,1404.28 \"/>\n",
       "<polyline clip-path=\"url(#clip170)\" style=\"stroke:#000000; stroke-linecap:round; stroke-linejoin:round; stroke-width:4; stroke-opacity:1; fill:none\" points=\"1785.15,1423.18 1785.15,1404.28 \"/>\n",
       "<polyline clip-path=\"url(#clip170)\" style=\"stroke:#000000; stroke-linecap:round; stroke-linejoin:round; stroke-width:4; stroke-opacity:1; fill:none\" points=\"2291.94,1423.18 2291.94,1404.28 \"/>\n",
       "<path clip-path=\"url(#clip170)\" d=\"M255.16 1481.64 L262.799 1481.64 L262.799 1455.28 L254.489 1456.95 L254.489 1452.69 L262.753 1451.02 L267.429 1451.02 L267.429 1481.64 L275.068 1481.64 L275.068 1485.58 L255.16 1485.58 L255.16 1481.64 Z\" fill=\"#000000\" fill-rule=\"nonzero\" fill-opacity=\"1\" /><path clip-path=\"url(#clip170)\" d=\"M766.222 1481.64 L782.541 1481.64 L782.541 1485.58 L760.597 1485.58 L760.597 1481.64 Q763.259 1478.89 767.842 1474.26 Q772.449 1469.61 773.629 1468.27 Q775.875 1465.74 776.754 1464.01 Q777.657 1462.25 777.657 1460.56 Q777.657 1457.8 775.713 1456.07 Q773.791 1454.33 770.689 1454.33 Q768.49 1454.33 766.037 1455.09 Q763.606 1455.86 760.828 1457.41 L760.828 1452.69 Q763.652 1451.55 766.106 1450.97 Q768.56 1450.39 770.597 1450.39 Q775.967 1450.39 779.162 1453.08 Q782.356 1455.77 782.356 1460.26 Q782.356 1462.39 781.546 1464.31 Q780.759 1466.2 778.652 1468.8 Q778.074 1469.47 774.972 1472.69 Q771.87 1475.88 766.222 1481.64 Z\" fill=\"#000000\" fill-rule=\"nonzero\" fill-opacity=\"1\" /><path clip-path=\"url(#clip170)\" d=\"M1282.61 1466.95 Q1285.96 1467.66 1287.84 1469.93 Q1289.74 1472.2 1289.74 1475.53 Q1289.74 1480.65 1286.22 1483.45 Q1282.7 1486.25 1276.22 1486.25 Q1274.04 1486.25 1271.73 1485.81 Q1269.44 1485.39 1266.98 1484.54 L1266.98 1480.02 Q1268.93 1481.16 1271.24 1481.74 Q1273.56 1482.32 1276.08 1482.32 Q1280.48 1482.32 1282.77 1480.58 Q1285.08 1478.84 1285.08 1475.53 Q1285.08 1472.48 1282.93 1470.77 Q1280.8 1469.03 1276.98 1469.03 L1272.95 1469.03 L1272.95 1465.19 L1277.17 1465.19 Q1280.62 1465.19 1282.45 1463.82 Q1284.27 1462.43 1284.27 1459.84 Q1284.27 1457.18 1282.38 1455.77 Q1280.5 1454.33 1276.98 1454.33 Q1275.06 1454.33 1272.86 1454.75 Q1270.66 1455.16 1268.02 1456.04 L1268.02 1451.88 Q1270.69 1451.14 1273 1450.77 Q1275.34 1450.39 1277.4 1450.39 Q1282.72 1450.39 1285.82 1452.83 Q1288.93 1455.23 1288.93 1459.35 Q1288.93 1462.22 1287.28 1464.21 Q1285.64 1466.18 1282.61 1466.95 Z\" fill=\"#000000\" fill-rule=\"nonzero\" fill-opacity=\"1\" /><path clip-path=\"url(#clip170)\" d=\"M1788.16 1455.09 L1776.35 1473.54 L1788.16 1473.54 L1788.16 1455.09 M1786.93 1451.02 L1792.81 1451.02 L1792.81 1473.54 L1797.74 1473.54 L1797.74 1477.43 L1792.81 1477.43 L1792.81 1485.58 L1788.16 1485.58 L1788.16 1477.43 L1772.56 1477.43 L1772.56 1472.92 L1786.93 1451.02 Z\" fill=\"#000000\" fill-rule=\"nonzero\" fill-opacity=\"1\" /><path clip-path=\"url(#clip170)\" d=\"M2282.22 1451.02 L2300.58 1451.02 L2300.58 1454.96 L2286.5 1454.96 L2286.5 1463.43 Q2287.52 1463.08 2288.54 1462.92 Q2289.56 1462.73 2290.58 1462.73 Q2296.36 1462.73 2299.74 1465.9 Q2303.12 1469.08 2303.12 1474.49 Q2303.12 1480.07 2299.65 1483.17 Q2296.18 1486.25 2289.86 1486.25 Q2287.68 1486.25 2285.41 1485.88 Q2283.17 1485.51 2280.76 1484.77 L2280.76 1480.07 Q2282.84 1481.2 2285.07 1481.76 Q2287.29 1482.32 2289.77 1482.32 Q2293.77 1482.32 2296.11 1480.21 Q2298.45 1478.1 2298.45 1474.49 Q2298.45 1470.88 2296.11 1468.77 Q2293.77 1466.67 2289.77 1466.67 Q2287.89 1466.67 2286.02 1467.08 Q2284.16 1467.5 2282.22 1468.38 L2282.22 1451.02 Z\" fill=\"#000000\" fill-rule=\"nonzero\" fill-opacity=\"1\" /><path clip-path=\"url(#clip170)\" d=\"M1200.24 1520.52 L1240.44 1520.52 L1240.44 1525.93 L1223.57 1525.93 L1223.57 1568.04 L1217.11 1568.04 L1217.11 1525.93 L1200.24 1525.93 L1200.24 1520.52 Z\" fill=\"#000000\" fill-rule=\"nonzero\" fill-opacity=\"1\" /><path clip-path=\"url(#clip170)\" d=\"M1244.38 1532.4 L1250.24 1532.4 L1250.24 1568.04 L1244.38 1568.04 L1244.38 1532.4 M1244.38 1518.52 L1250.24 1518.52 L1250.24 1525.93 L1244.38 1525.93 L1244.38 1518.52 Z\" fill=\"#000000\" fill-rule=\"nonzero\" fill-opacity=\"1\" /><path clip-path=\"url(#clip170)\" d=\"M1290.25 1539.24 Q1292.44 1535.29 1295.5 1533.41 Q1298.55 1531.54 1302.69 1531.54 Q1308.26 1531.54 1311.29 1535.45 Q1314.31 1539.33 1314.31 1546.53 L1314.31 1568.04 L1308.42 1568.04 L1308.42 1546.72 Q1308.42 1541.59 1306.61 1539.11 Q1304.79 1536.63 1301.07 1536.63 Q1296.52 1536.63 1293.88 1539.65 Q1291.23 1542.68 1291.23 1547.9 L1291.23 1568.04 L1285.35 1568.04 L1285.35 1546.72 Q1285.35 1541.56 1283.53 1539.11 Q1281.72 1536.63 1277.93 1536.63 Q1273.44 1536.63 1270.8 1539.68 Q1268.16 1542.71 1268.16 1547.9 L1268.16 1568.04 L1262.27 1568.04 L1262.27 1532.4 L1268.16 1532.4 L1268.16 1537.93 Q1270.16 1534.66 1272.96 1533.1 Q1275.77 1531.54 1279.62 1531.54 Q1283.5 1531.54 1286.21 1533.51 Q1288.94 1535.48 1290.25 1539.24 Z\" fill=\"#000000\" fill-rule=\"nonzero\" fill-opacity=\"1\" /><path clip-path=\"url(#clip170)\" d=\"M1356.48 1548.76 L1356.48 1551.62 L1329.56 1551.62 Q1329.94 1557.67 1333.18 1560.85 Q1336.46 1564 1342.29 1564 Q1345.66 1564 1348.81 1563.17 Q1352 1562.35 1355.11 1560.69 L1355.11 1566.23 Q1351.96 1567.57 1348.65 1568.27 Q1345.34 1568.97 1341.94 1568.97 Q1333.41 1568.97 1328.41 1564 Q1323.44 1559.04 1323.44 1550.57 Q1323.44 1541.82 1328.16 1536.69 Q1332.9 1531.54 1340.92 1531.54 Q1348.11 1531.54 1352.28 1536.18 Q1356.48 1540.8 1356.48 1548.76 M1350.63 1547.04 Q1350.56 1542.23 1347.92 1539.37 Q1345.31 1536.5 1340.98 1536.5 Q1336.08 1536.5 1333.12 1539.27 Q1330.19 1542.04 1329.75 1547.07 L1350.63 1547.04 Z\" fill=\"#000000\" fill-rule=\"nonzero\" fill-opacity=\"1\" /><polyline clip-path=\"url(#clip170)\" style=\"stroke:#000000; stroke-linecap:round; stroke-linejoin:round; stroke-width:4; stroke-opacity:1; fill:none\" points=\"203.964,1423.18 203.964,47.2441 \"/>\n",
       "<polyline clip-path=\"url(#clip170)\" style=\"stroke:#000000; stroke-linecap:round; stroke-linejoin:round; stroke-width:4; stroke-opacity:1; fill:none\" points=\"203.964,1408.28 222.861,1408.28 \"/>\n",
       "<polyline clip-path=\"url(#clip170)\" style=\"stroke:#000000; stroke-linecap:round; stroke-linejoin:round; stroke-width:4; stroke-opacity:1; fill:none\" points=\"203.964,1167.9 222.861,1167.9 \"/>\n",
       "<polyline clip-path=\"url(#clip170)\" style=\"stroke:#000000; stroke-linecap:round; stroke-linejoin:round; stroke-width:4; stroke-opacity:1; fill:none\" points=\"203.964,927.516 222.861,927.516 \"/>\n",
       "<polyline clip-path=\"url(#clip170)\" style=\"stroke:#000000; stroke-linecap:round; stroke-linejoin:round; stroke-width:4; stroke-opacity:1; fill:none\" points=\"203.964,687.136 222.861,687.136 \"/>\n",
       "<polyline clip-path=\"url(#clip170)\" style=\"stroke:#000000; stroke-linecap:round; stroke-linejoin:round; stroke-width:4; stroke-opacity:1; fill:none\" points=\"203.964,446.756 222.861,446.756 \"/>\n",
       "<polyline clip-path=\"url(#clip170)\" style=\"stroke:#000000; stroke-linecap:round; stroke-linejoin:round; stroke-width:4; stroke-opacity:1; fill:none\" points=\"203.964,206.376 222.861,206.376 \"/>\n",
       "<path clip-path=\"url(#clip170)\" d=\"M156.019 1394.07 Q152.408 1394.07 150.579 1397.64 Q148.774 1401.18 148.774 1408.31 Q148.774 1415.42 150.579 1418.98 Q152.408 1422.52 156.019 1422.52 Q159.653 1422.52 161.459 1418.98 Q163.288 1415.42 163.288 1408.31 Q163.288 1401.18 161.459 1397.64 Q159.653 1394.07 156.019 1394.07 M156.019 1390.37 Q161.829 1390.37 164.885 1394.98 Q167.964 1399.56 167.964 1408.31 Q167.964 1417.04 164.885 1421.64 Q161.829 1426.23 156.019 1426.23 Q150.209 1426.23 147.13 1421.64 Q144.075 1417.04 144.075 1408.31 Q144.075 1399.56 147.13 1394.98 Q150.209 1390.37 156.019 1390.37 Z\" fill=\"#000000\" fill-rule=\"nonzero\" fill-opacity=\"1\" /><path clip-path=\"url(#clip170)\" d=\"M147.061 1150.62 L165.417 1150.62 L165.417 1154.55 L151.343 1154.55 L151.343 1163.02 Q152.362 1162.68 153.38 1162.51 Q154.399 1162.33 155.417 1162.33 Q161.204 1162.33 164.584 1165.5 Q167.964 1168.67 167.964 1174.09 Q167.964 1179.67 164.491 1182.77 Q161.019 1185.85 154.7 1185.85 Q152.524 1185.85 150.255 1185.48 Q148.01 1185.11 145.603 1184.37 L145.603 1179.67 Q147.686 1180.8 149.908 1181.36 Q152.13 1181.91 154.607 1181.91 Q158.612 1181.91 160.95 1179.81 Q163.288 1177.7 163.288 1174.09 Q163.288 1170.48 160.95 1168.37 Q158.612 1166.26 154.607 1166.26 Q152.732 1166.26 150.857 1166.68 Q149.005 1167.1 147.061 1167.98 L147.061 1150.62 Z\" fill=\"#000000\" fill-rule=\"nonzero\" fill-opacity=\"1\" /><path clip-path=\"url(#clip170)\" d=\"M116.668 940.861 L124.306 940.861 L124.306 914.495 L115.996 916.162 L115.996 911.903 L124.26 910.236 L128.936 910.236 L128.936 940.861 L136.575 940.861 L136.575 944.796 L116.668 944.796 L116.668 940.861 Z\" fill=\"#000000\" fill-rule=\"nonzero\" fill-opacity=\"1\" /><path clip-path=\"url(#clip170)\" d=\"M156.019 913.315 Q152.408 913.315 150.579 916.88 Q148.774 920.421 148.774 927.551 Q148.774 934.657 150.579 938.222 Q152.408 941.764 156.019 941.764 Q159.653 941.764 161.459 938.222 Q163.288 934.657 163.288 927.551 Q163.288 920.421 161.459 916.88 Q159.653 913.315 156.019 913.315 M156.019 909.611 Q161.829 909.611 164.885 914.218 Q167.964 918.801 167.964 927.551 Q167.964 936.278 164.885 940.884 Q161.829 945.467 156.019 945.467 Q150.209 945.467 147.13 940.884 Q144.075 936.278 144.075 927.551 Q144.075 918.801 147.13 914.218 Q150.209 909.611 156.019 909.611 Z\" fill=\"#000000\" fill-rule=\"nonzero\" fill-opacity=\"1\" /><path clip-path=\"url(#clip170)\" d=\"M117.663 700.481 L125.302 700.481 L125.302 674.115 L116.992 675.782 L116.992 671.523 L125.255 669.856 L129.931 669.856 L129.931 700.481 L137.57 700.481 L137.57 704.416 L117.663 704.416 L117.663 700.481 Z\" fill=\"#000000\" fill-rule=\"nonzero\" fill-opacity=\"1\" /><path clip-path=\"url(#clip170)\" d=\"M147.061 669.856 L165.417 669.856 L165.417 673.791 L151.343 673.791 L151.343 682.263 Q152.362 681.916 153.38 681.754 Q154.399 681.569 155.417 681.569 Q161.204 681.569 164.584 684.74 Q167.964 687.911 167.964 693.328 Q167.964 698.907 164.491 702.009 Q161.019 705.087 154.7 705.087 Q152.524 705.087 150.255 704.717 Q148.01 704.347 145.603 703.606 L145.603 698.907 Q147.686 700.041 149.908 700.597 Q152.13 701.152 154.607 701.152 Q158.612 701.152 160.95 699.046 Q163.288 696.939 163.288 693.328 Q163.288 689.717 160.95 687.61 Q158.612 685.504 154.607 685.504 Q152.732 685.504 150.857 685.921 Q149.005 686.337 147.061 687.217 L147.061 669.856 Z\" fill=\"#000000\" fill-rule=\"nonzero\" fill-opacity=\"1\" /><path clip-path=\"url(#clip170)\" d=\"M119.885 460.101 L136.204 460.101 L136.204 464.036 L114.26 464.036 L114.26 460.101 Q116.922 457.346 121.505 452.716 Q126.112 448.064 127.292 446.721 Q129.538 444.198 130.417 442.462 Q131.32 440.703 131.32 439.013 Q131.32 436.258 129.376 434.522 Q127.455 432.786 124.353 432.786 Q122.154 432.786 119.7 433.55 Q117.269 434.314 114.492 435.865 L114.492 431.142 Q117.316 430.008 119.769 429.43 Q122.223 428.851 124.26 428.851 Q129.63 428.851 132.825 431.536 Q136.019 434.221 136.019 438.712 Q136.019 440.842 135.209 442.763 Q134.422 444.661 132.316 447.254 Q131.737 447.925 128.635 451.142 Q125.533 454.337 119.885 460.101 Z\" fill=\"#000000\" fill-rule=\"nonzero\" fill-opacity=\"1\" /><path clip-path=\"url(#clip170)\" d=\"M156.019 432.555 Q152.408 432.555 150.579 436.119 Q148.774 439.661 148.774 446.791 Q148.774 453.897 150.579 457.462 Q152.408 461.003 156.019 461.003 Q159.653 461.003 161.459 457.462 Q163.288 453.897 163.288 446.791 Q163.288 439.661 161.459 436.119 Q159.653 432.555 156.019 432.555 M156.019 428.851 Q161.829 428.851 164.885 433.457 Q167.964 438.041 167.964 446.791 Q167.964 455.517 164.885 460.124 Q161.829 464.707 156.019 464.707 Q150.209 464.707 147.13 460.124 Q144.075 455.517 144.075 446.791 Q144.075 438.041 147.13 433.457 Q150.209 428.851 156.019 428.851 Z\" fill=\"#000000\" fill-rule=\"nonzero\" fill-opacity=\"1\" /><path clip-path=\"url(#clip170)\" d=\"M120.88 219.721 L137.2 219.721 L137.2 223.656 L115.256 223.656 L115.256 219.721 Q117.918 216.966 122.501 212.336 Q127.107 207.684 128.288 206.341 Q130.533 203.818 131.413 202.082 Q132.316 200.323 132.316 198.633 Q132.316 195.878 130.371 194.142 Q128.45 192.406 125.348 192.406 Q123.149 192.406 120.695 193.17 Q118.265 193.934 115.487 195.485 L115.487 190.762 Q118.311 189.628 120.765 189.049 Q123.218 188.471 125.255 188.471 Q130.626 188.471 133.82 191.156 Q137.015 193.841 137.015 198.332 Q137.015 200.461 136.204 202.383 Q135.417 204.281 133.311 206.873 Q132.732 207.545 129.63 210.762 Q126.529 213.957 120.88 219.721 Z\" fill=\"#000000\" fill-rule=\"nonzero\" fill-opacity=\"1\" /><path clip-path=\"url(#clip170)\" d=\"M147.061 189.096 L165.417 189.096 L165.417 193.031 L151.343 193.031 L151.343 201.503 Q152.362 201.156 153.38 200.994 Q154.399 200.809 155.417 200.809 Q161.204 200.809 164.584 203.98 Q167.964 207.151 167.964 212.568 Q167.964 218.146 164.491 221.248 Q161.019 224.327 154.7 224.327 Q152.524 224.327 150.255 223.957 Q148.01 223.586 145.603 222.846 L145.603 218.146 Q147.686 219.281 149.908 219.836 Q152.13 220.392 154.607 220.392 Q158.612 220.392 160.95 218.285 Q163.288 216.179 163.288 212.568 Q163.288 208.957 160.95 206.85 Q158.612 204.744 154.607 204.744 Q152.732 204.744 150.857 205.16 Q149.005 205.577 147.061 206.457 L147.061 189.096 Z\" fill=\"#000000\" fill-rule=\"nonzero\" fill-opacity=\"1\" /><path clip-path=\"url(#clip170)\" d=\"M64.0042 804.582 L16.4842 822.725 L16.4842 816.009 L56.4926 800.954 L16.4842 785.867 L16.4842 779.183 L64.0042 797.294 L64.0042 804.582 Z\" fill=\"#000000\" fill-rule=\"nonzero\" fill-opacity=\"1\" /><path clip-path=\"url(#clip170)\" d=\"M46.0847 761.359 Q46.0847 768.457 47.7079 771.194 Q49.3312 773.931 53.2461 773.931 Q56.3653 773.931 58.2114 771.894 Q60.0256 769.825 60.0256 766.293 Q60.0256 761.423 56.5881 758.495 Q53.1188 755.534 47.3897 755.534 L46.0847 755.534 L46.0847 761.359 M43.6657 749.678 L64.0042 749.678 L64.0042 755.534 L58.5933 755.534 Q61.8398 757.54 63.3994 760.532 Q64.9272 763.523 64.9272 767.852 Q64.9272 773.327 61.8716 776.573 Q58.7843 779.788 53.6281 779.788 Q47.6125 779.788 44.5569 775.777 Q41.5014 771.735 41.5014 763.746 L41.5014 755.534 L40.9285 755.534 Q36.8862 755.534 34.6901 758.208 Q32.4621 760.85 32.4621 765.656 Q32.4621 768.711 33.1941 771.608 Q33.9262 774.504 35.3903 777.178 L29.9795 777.178 Q28.7381 773.963 28.1334 770.939 Q27.4968 767.916 27.4968 765.051 Q27.4968 757.317 31.5072 753.497 Q35.5176 749.678 43.6657 749.678 Z\" fill=\"#000000\" fill-rule=\"nonzero\" fill-opacity=\"1\" /><path clip-path=\"url(#clip170)\" d=\"M14.479 737.615 L14.479 731.759 L64.0042 731.759 L64.0042 737.615 L14.479 737.615 Z\" fill=\"#000000\" fill-rule=\"nonzero\" fill-opacity=\"1\" /><path clip-path=\"url(#clip170)\" d=\"M49.9359 720.109 L28.3562 720.109 L28.3562 714.253 L49.7131 714.253 Q54.7739 714.253 57.3202 712.28 Q59.8346 710.306 59.8346 706.359 Q59.8346 701.617 56.8109 698.88 Q53.7872 696.111 48.5673 696.111 L28.3562 696.111 L28.3562 690.254 L64.0042 690.254 L64.0042 696.111 L58.5296 696.111 Q61.7762 698.243 63.3676 701.076 Q64.9272 703.877 64.9272 707.601 Q64.9272 713.744 61.1078 716.926 Q57.2883 720.109 49.9359 720.109 M27.4968 705.373 L27.4968 705.373 Z\" fill=\"#000000\" fill-rule=\"nonzero\" fill-opacity=\"1\" /><path clip-path=\"url(#clip170)\" d=\"M44.7161 647.699 L47.5806 647.699 L47.5806 674.626 Q53.6281 674.244 56.8109 670.998 Q59.9619 667.72 59.9619 661.895 Q59.9619 658.521 59.1344 655.37 Q58.3069 652.187 56.6518 649.068 L62.1899 649.068 Q63.5267 652.219 64.227 655.529 Q64.9272 658.839 64.9272 662.245 Q64.9272 670.775 59.9619 675.772 Q54.9967 680.737 46.5303 680.737 Q37.7774 680.737 32.6531 676.027 Q27.4968 671.284 27.4968 663.264 Q27.4968 656.07 32.1438 651.901 Q36.7589 647.699 44.7161 647.699 M42.9973 653.556 Q38.1912 653.62 35.3266 656.261 Q32.4621 658.871 32.4621 663.2 Q32.4621 668.102 35.2312 671.062 Q38.0002 673.99 43.0292 674.435 L42.9973 653.556 Z\" fill=\"#000000\" fill-rule=\"nonzero\" fill-opacity=\"1\" /><polyline clip-path=\"url(#clip172)\" style=\"stroke:#009af9; stroke-linecap:round; stroke-linejoin:round; stroke-width:4; stroke-opacity:1; fill:none\" points=\"264.778,1360.2 771.569,1312.12 1278.36,1264.05 1785.15,1215.97 2291.94,1167.9 \"/>\n",
       "<polyline clip-path=\"url(#clip172)\" style=\"stroke:#e26f46; stroke-linecap:round; stroke-linejoin:round; stroke-width:4; stroke-opacity:1; fill:none\" points=\"264.778,1360.2 771.569,1264.05 1278.36,1119.82 1785.15,927.516 2291.94,687.136 \"/>\n",
       "<polyline clip-path=\"url(#clip172)\" style=\"stroke:#3da44d; stroke-linecap:round; stroke-linejoin:round; stroke-width:4; stroke-opacity:1; fill:none\" points=\"264.778,1384.24 771.569,1288.09 1278.36,1071.74 1785.15,687.136 2291.94,86.1857 \"/>\n",
       "<path clip-path=\"url(#clip170)\" d=\"M1883.8 300.469 L2281.13 300.469 L2281.13 93.1086 L1883.8 93.1086  Z\" fill=\"#ffffff\" fill-rule=\"evenodd\" fill-opacity=\"1\"/>\n",
       "<polyline clip-path=\"url(#clip170)\" style=\"stroke:#000000; stroke-linecap:round; stroke-linejoin:round; stroke-width:4; stroke-opacity:1; fill:none\" points=\"1883.8,300.469 2281.13,300.469 2281.13,93.1086 1883.8,93.1086 1883.8,300.469 \"/>\n",
       "<polyline clip-path=\"url(#clip170)\" style=\"stroke:#009af9; stroke-linecap:round; stroke-linejoin:round; stroke-width:4; stroke-opacity:1; fill:none\" points=\"1907.67,144.949 2050.93,144.949 \"/>\n",
       "<path clip-path=\"url(#clip170)\" d=\"M2091.31 126.21 L2091.31 129.752 L2087.23 129.752 Q2084.94 129.752 2084.04 130.678 Q2083.16 131.604 2083.16 134.011 L2083.16 136.303 L2090.17 136.303 L2090.17 139.613 L2083.16 139.613 L2083.16 162.229 L2078.88 162.229 L2078.88 139.613 L2074.8 139.613 L2074.8 136.303 L2078.88 136.303 L2078.88 134.497 Q2078.88 130.169 2080.89 128.201 Q2082.9 126.21 2087.28 126.21 L2091.31 126.21 Z\" fill=\"#000000\" fill-rule=\"nonzero\" fill-opacity=\"1\" /><path clip-path=\"url(#clip170)\" d=\"M2104.92 139.289 Q2101.49 139.289 2099.5 141.974 Q2097.51 144.636 2097.51 149.289 Q2097.51 153.942 2099.48 156.627 Q2101.47 159.289 2104.92 159.289 Q2108.32 159.289 2110.31 156.604 Q2112.3 153.918 2112.3 149.289 Q2112.3 144.682 2110.31 141.997 Q2108.32 139.289 2104.92 139.289 M2104.92 135.678 Q2110.47 135.678 2113.64 139.289 Q2116.81 142.9 2116.81 149.289 Q2116.81 155.655 2113.64 159.289 Q2110.47 162.9 2104.92 162.9 Q2099.34 162.9 2096.17 159.289 Q2093.02 155.655 2093.02 149.289 Q2093.02 142.9 2096.17 139.289 Q2099.34 135.678 2104.92 135.678 Z\" fill=\"#000000\" fill-rule=\"nonzero\" fill-opacity=\"1\" /><path clip-path=\"url(#clip170)\" d=\"M2138.9 140.284 Q2138.18 139.868 2137.32 139.682 Q2136.49 139.474 2135.47 139.474 Q2131.86 139.474 2129.92 141.835 Q2128 144.173 2128 148.571 L2128 162.229 L2123.71 162.229 L2123.71 136.303 L2128 136.303 L2128 140.331 Q2129.34 137.969 2131.49 136.835 Q2133.64 135.678 2136.72 135.678 Q2137.16 135.678 2137.69 135.747 Q2138.23 135.794 2138.88 135.909 L2138.9 140.284 Z\" fill=\"#000000\" fill-rule=\"nonzero\" fill-opacity=\"1\" /><path clip-path=\"url(#clip170)\" d=\"M2160.98 137.298 L2160.98 141.28 Q2159.18 140.284 2157.35 139.798 Q2155.54 139.289 2153.69 139.289 Q2149.55 139.289 2147.25 141.928 Q2144.96 144.544 2144.96 149.289 Q2144.96 154.034 2147.25 156.673 Q2149.55 159.289 2153.69 159.289 Q2155.54 159.289 2157.35 158.803 Q2159.18 158.293 2160.98 157.298 L2160.98 161.233 Q2159.2 162.067 2157.28 162.483 Q2155.38 162.9 2153.23 162.9 Q2147.37 162.9 2143.92 159.219 Q2140.47 155.539 2140.47 149.289 Q2140.47 142.946 2143.94 139.312 Q2147.44 135.678 2153.5 135.678 Q2155.47 135.678 2157.35 136.095 Q2159.22 136.488 2160.98 137.298 Z\" fill=\"#000000\" fill-rule=\"nonzero\" fill-opacity=\"1\" /><path clip-path=\"url(#clip170)\" d=\"M2190.56 148.201 L2190.56 150.284 L2170.98 150.284 Q2171.26 154.682 2173.62 156.997 Q2176 159.289 2180.24 159.289 Q2182.69 159.289 2184.99 158.687 Q2187.3 158.085 2189.57 156.881 L2189.57 160.909 Q2187.28 161.881 2184.87 162.391 Q2182.46 162.9 2179.99 162.9 Q2173.78 162.9 2170.15 159.289 Q2166.54 155.678 2166.54 149.52 Q2166.54 143.155 2169.96 139.428 Q2173.41 135.678 2179.25 135.678 Q2184.48 135.678 2187.51 139.057 Q2190.56 142.414 2190.56 148.201 M2186.31 146.951 Q2186.26 143.456 2184.34 141.372 Q2182.44 139.289 2179.29 139.289 Q2175.73 139.289 2173.57 141.303 Q2171.44 143.317 2171.12 146.974 L2186.31 146.951 Z\" fill=\"#000000\" fill-rule=\"nonzero\" fill-opacity=\"1\" /><polyline clip-path=\"url(#clip170)\" style=\"stroke:#e26f46; stroke-linecap:round; stroke-linejoin:round; stroke-width:4; stroke-opacity:1; fill:none\" points=\"1907.67,196.789 2050.93,196.789 \"/>\n",
       "<path clip-path=\"url(#clip170)\" d=\"M2074.8 188.143 L2079.32 188.143 L2087.42 209.902 L2095.52 188.143 L2100.03 188.143 L2090.31 214.069 L2084.52 214.069 L2074.8 188.143 Z\" fill=\"#000000\" fill-rule=\"nonzero\" fill-opacity=\"1\" /><path clip-path=\"url(#clip170)\" d=\"M2128.09 200.041 L2128.09 202.124 L2108.5 202.124 Q2108.78 206.522 2111.14 208.837 Q2113.53 211.129 2117.76 211.129 Q2120.22 211.129 2122.51 210.527 Q2124.82 209.925 2127.09 208.721 L2127.09 212.749 Q2124.8 213.721 2122.39 214.231 Q2119.99 214.74 2117.51 214.74 Q2111.31 214.74 2107.67 211.129 Q2104.06 207.518 2104.06 201.36 Q2104.06 194.995 2107.49 191.268 Q2110.94 187.518 2116.77 187.518 Q2122 187.518 2125.03 190.897 Q2128.09 194.254 2128.09 200.041 M2123.83 198.791 Q2123.78 195.296 2121.86 193.212 Q2119.96 191.129 2116.81 191.129 Q2113.25 191.129 2111.1 193.143 Q2108.97 195.157 2108.64 198.814 L2123.83 198.791 Z\" fill=\"#000000\" fill-rule=\"nonzero\" fill-opacity=\"1\" /><path clip-path=\"url(#clip170)\" d=\"M2135.08 178.05 L2139.34 178.05 L2139.34 214.069 L2135.08 214.069 L2135.08 178.05 Z\" fill=\"#000000\" fill-rule=\"nonzero\" fill-opacity=\"1\" /><path clip-path=\"url(#clip170)\" d=\"M2158.3 191.129 Q2154.87 191.129 2152.88 193.814 Q2150.89 196.476 2150.89 201.129 Q2150.89 205.782 2152.86 208.467 Q2154.85 211.129 2158.3 211.129 Q2161.7 211.129 2163.69 208.444 Q2165.68 205.758 2165.68 201.129 Q2165.68 196.522 2163.69 193.837 Q2161.7 191.129 2158.3 191.129 M2158.3 187.518 Q2163.85 187.518 2167.02 191.129 Q2170.19 194.74 2170.19 201.129 Q2170.19 207.495 2167.02 211.129 Q2163.85 214.74 2158.3 214.74 Q2152.72 214.74 2149.55 211.129 Q2146.4 207.495 2146.4 201.129 Q2146.4 194.74 2149.55 191.129 Q2152.72 187.518 2158.3 187.518 Z\" fill=\"#000000\" fill-rule=\"nonzero\" fill-opacity=\"1\" /><path clip-path=\"url(#clip170)\" d=\"M2195.91 189.138 L2195.91 193.12 Q2194.11 192.124 2192.28 191.638 Q2190.47 191.129 2188.62 191.129 Q2184.48 191.129 2182.18 193.768 Q2179.89 196.384 2179.89 201.129 Q2179.89 205.874 2182.18 208.513 Q2184.48 211.129 2188.62 211.129 Q2190.47 211.129 2192.28 210.643 Q2194.11 210.133 2195.91 209.138 L2195.91 213.073 Q2194.13 213.907 2192.21 214.323 Q2190.31 214.74 2188.16 214.74 Q2182.3 214.74 2178.85 211.059 Q2175.4 207.379 2175.4 201.129 Q2175.4 194.786 2178.87 191.152 Q2182.37 187.518 2188.43 187.518 Q2190.4 187.518 2192.28 187.935 Q2194.15 188.328 2195.91 189.138 Z\" fill=\"#000000\" fill-rule=\"nonzero\" fill-opacity=\"1\" /><path clip-path=\"url(#clip170)\" d=\"M2203.32 188.143 L2207.58 188.143 L2207.58 214.069 L2203.32 214.069 L2203.32 188.143 M2203.32 178.05 L2207.58 178.05 L2207.58 183.444 L2203.32 183.444 L2203.32 178.05 Z\" fill=\"#000000\" fill-rule=\"nonzero\" fill-opacity=\"1\" /><path clip-path=\"url(#clip170)\" d=\"M2220.7 180.782 L2220.7 188.143 L2229.48 188.143 L2229.48 191.453 L2220.7 191.453 L2220.7 205.527 Q2220.7 208.698 2221.56 209.601 Q2222.44 210.504 2225.1 210.504 L2229.48 210.504 L2229.48 214.069 L2225.1 214.069 Q2220.17 214.069 2218.3 212.24 Q2216.42 210.388 2216.42 205.527 L2216.42 191.453 L2213.3 191.453 L2213.3 188.143 L2216.42 188.143 L2216.42 180.782 L2220.7 180.782 Z\" fill=\"#000000\" fill-rule=\"nonzero\" fill-opacity=\"1\" /><path clip-path=\"url(#clip170)\" d=\"M2245.87 216.476 Q2244.06 221.106 2242.35 222.518 Q2240.63 223.93 2237.76 223.93 L2234.36 223.93 L2234.36 220.365 L2236.86 220.365 Q2238.62 220.365 2239.59 219.532 Q2240.56 218.698 2241.74 215.596 L2242.51 213.652 L2232.02 188.143 L2236.54 188.143 L2244.64 208.421 L2252.74 188.143 L2257.25 188.143 L2245.87 216.476 Z\" fill=\"#000000\" fill-rule=\"nonzero\" fill-opacity=\"1\" /><polyline clip-path=\"url(#clip170)\" style=\"stroke:#3da44d; stroke-linecap:round; stroke-linejoin:round; stroke-width:4; stroke-opacity:1; fill:none\" points=\"1907.67,248.629 2050.93,248.629 \"/>\n",
       "<path clip-path=\"url(#clip170)\" d=\"M2079.08 262.02 L2079.08 275.77 L2074.8 275.77 L2074.8 239.983 L2079.08 239.983 L2079.08 243.918 Q2080.43 241.603 2082.46 240.492 Q2084.52 239.358 2087.37 239.358 Q2092.09 239.358 2095.03 243.108 Q2098 246.858 2098 252.969 Q2098 259.08 2095.03 262.83 Q2092.09 266.58 2087.37 266.58 Q2084.52 266.58 2082.46 265.469 Q2080.43 264.335 2079.08 262.02 M2093.57 252.969 Q2093.57 248.27 2091.63 245.608 Q2089.71 242.923 2086.33 242.923 Q2082.95 242.923 2081 245.608 Q2079.08 248.27 2079.08 252.969 Q2079.08 257.668 2081 260.353 Q2082.95 263.015 2086.33 263.015 Q2089.71 263.015 2091.63 260.353 Q2093.57 257.668 2093.57 252.969 Z\" fill=\"#000000\" fill-rule=\"nonzero\" fill-opacity=\"1\" /><path clip-path=\"url(#clip170)\" d=\"M2115.1 242.969 Q2111.68 242.969 2109.69 245.654 Q2107.69 248.316 2107.69 252.969 Q2107.69 257.622 2109.66 260.307 Q2111.65 262.969 2115.1 262.969 Q2118.5 262.969 2120.5 260.284 Q2122.49 257.598 2122.49 252.969 Q2122.49 248.362 2120.5 245.677 Q2118.5 242.969 2115.1 242.969 M2115.1 239.358 Q2120.66 239.358 2123.83 242.969 Q2127 246.58 2127 252.969 Q2127 259.335 2123.83 262.969 Q2120.66 266.58 2115.1 266.58 Q2109.52 266.58 2106.35 262.969 Q2103.2 259.335 2103.2 252.969 Q2103.2 246.58 2106.35 242.969 Q2109.52 239.358 2115.1 239.358 Z\" fill=\"#000000\" fill-rule=\"nonzero\" fill-opacity=\"1\" /><path clip-path=\"url(#clip170)\" d=\"M2150.59 240.747 L2150.59 244.774 Q2148.78 243.849 2146.84 243.386 Q2144.89 242.923 2142.81 242.923 Q2139.64 242.923 2138.04 243.895 Q2136.47 244.867 2136.47 246.811 Q2136.47 248.293 2137.6 249.149 Q2138.74 249.983 2142.16 250.747 L2143.62 251.071 Q2148.16 252.043 2150.06 253.825 Q2151.98 255.585 2151.98 258.756 Q2151.98 262.367 2149.11 264.473 Q2146.26 266.58 2141.26 266.58 Q2139.18 266.58 2136.91 266.163 Q2134.66 265.77 2132.16 264.96 L2132.16 260.561 Q2134.52 261.788 2136.81 262.413 Q2139.11 263.015 2141.35 263.015 Q2144.36 263.015 2145.98 261.997 Q2147.6 260.955 2147.6 259.08 Q2147.6 257.344 2146.42 256.418 Q2145.26 255.492 2141.31 254.636 L2139.82 254.288 Q2135.87 253.455 2134.11 251.742 Q2132.35 250.006 2132.35 246.997 Q2132.35 243.339 2134.94 241.349 Q2137.53 239.358 2142.3 239.358 Q2144.66 239.358 2146.75 239.705 Q2148.83 240.052 2150.59 240.747 Z\" fill=\"#000000\" fill-rule=\"nonzero\" fill-opacity=\"1\" /><path clip-path=\"url(#clip170)\" d=\"M2158.76 239.983 L2163.02 239.983 L2163.02 265.909 L2158.76 265.909 L2158.76 239.983 M2158.76 229.89 L2163.02 229.89 L2163.02 235.284 L2158.76 235.284 L2158.76 229.89 Z\" fill=\"#000000\" fill-rule=\"nonzero\" fill-opacity=\"1\" /><path clip-path=\"url(#clip170)\" d=\"M2176.14 232.622 L2176.14 239.983 L2184.92 239.983 L2184.92 243.293 L2176.14 243.293 L2176.14 257.367 Q2176.14 260.538 2177 261.441 Q2177.88 262.344 2180.54 262.344 L2184.92 262.344 L2184.92 265.909 L2180.54 265.909 Q2175.61 265.909 2173.74 264.08 Q2171.86 262.228 2171.86 257.367 L2171.86 243.293 L2168.74 243.293 L2168.74 239.983 L2171.86 239.983 L2171.86 232.622 L2176.14 232.622 Z\" fill=\"#000000\" fill-rule=\"nonzero\" fill-opacity=\"1\" /><path clip-path=\"url(#clip170)\" d=\"M2190.52 239.983 L2194.78 239.983 L2194.78 265.909 L2190.52 265.909 L2190.52 239.983 M2190.52 229.89 L2194.78 229.89 L2194.78 235.284 L2190.52 235.284 L2190.52 229.89 Z\" fill=\"#000000\" fill-rule=\"nonzero\" fill-opacity=\"1\" /><path clip-path=\"url(#clip170)\" d=\"M2213.74 242.969 Q2210.31 242.969 2208.32 245.654 Q2206.33 248.316 2206.33 252.969 Q2206.33 257.622 2208.3 260.307 Q2210.29 262.969 2213.74 262.969 Q2217.14 262.969 2219.13 260.284 Q2221.12 257.598 2221.12 252.969 Q2221.12 248.362 2219.13 245.677 Q2217.14 242.969 2213.74 242.969 M2213.74 239.358 Q2219.29 239.358 2222.46 242.969 Q2225.63 246.58 2225.63 252.969 Q2225.63 259.335 2222.46 262.969 Q2219.29 266.58 2213.74 266.58 Q2208.16 266.58 2204.99 262.969 Q2201.84 259.335 2201.84 252.969 Q2201.84 246.58 2204.99 242.969 Q2208.16 239.358 2213.74 239.358 Z\" fill=\"#000000\" fill-rule=\"nonzero\" fill-opacity=\"1\" /><path clip-path=\"url(#clip170)\" d=\"M2254.24 250.261 L2254.24 265.909 L2249.99 265.909 L2249.99 250.399 Q2249.99 246.719 2248.55 244.89 Q2247.12 243.062 2244.24 243.062 Q2240.8 243.062 2238.81 245.261 Q2236.81 247.46 2236.81 251.256 L2236.81 265.909 L2232.53 265.909 L2232.53 239.983 L2236.81 239.983 L2236.81 244.011 Q2238.34 241.673 2240.4 240.515 Q2242.49 239.358 2245.19 239.358 Q2249.66 239.358 2251.95 242.136 Q2254.24 244.89 2254.24 250.261 Z\" fill=\"#000000\" fill-rule=\"nonzero\" fill-opacity=\"1\" /></svg>\n"
      ],
      "text/html": [
       "<img src=\"data:image/png;base64,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\" />"
      ]
     },
     "execution_count": 7,
     "metadata": {},
     "output_type": "execute_result"
    }
   ],
   "source": [
    "#y = ax\n",
    "n = 5\n",
    "#x = rand(1:14, n)\n",
    "x = collect(1:n)\n",
    "pos_0 = 0\n",
    "vel_0 = 0\n",
    "\n",
    "#function enforces the dynamics based off of what is going on, assumes dt=1, and will be used for validation of our A mtx\n",
    "\n",
    "function get_y_vec(x, p_0, v_0)\n",
    "    n = length(x)\n",
    "    pos = zeros(n)\n",
    "    vel = zeros(n)\n",
    "    # get first indices\n",
    "    vel[1] = x[1] + v_0\n",
    "    pos[1] = (0.5 * x[1]) + (v_0) + p_0\n",
    "    for i in 2:n\n",
    "        vel[i] = x[i] + vel[i-1]\n",
    "        pos[i] = 0.5*x[i] + vel[i-1] + pos[i-1]\n",
    "    end\n",
    "    return vel, pos\n",
    "end\n",
    "\n",
    "v, pos = get_y_vec(x, pos_0, vel_0)\n",
    "\n",
    "println(\"x vector: \", x)\n",
    "println(\"\\nv vector: \", v)\n",
    "println(\"\\npos vector: \", pos)\n",
    "\n",
    "tsteps = 1:n\n",
    "\n",
    "plot(tsteps, x, label=\"force\", xlabel=\"Time\", ylabel=\"Value\", legend=:topright)\n",
    "plot!(tsteps, v, label=\"velocity\")\n",
    "plot!(tsteps, pos, label=\"position\")"
   ]
  },
  {
   "cell_type": "code",
   "execution_count": 13,
   "id": "b3adee3a-c329-48ab-a242-ab491ebb91c4",
   "metadata": {},
   "outputs": [
    {
     "name": "stdout",
     "output_type": "stream",
     "text": [
      "A matrix:\n"
     ]
    },
    {
     "data": {
      "text/plain": [
       "2×5 Matrix{Float64}:\n",
       " 1.0  1.0  1.0  1.0  1.0\n",
       " 4.5  3.5  2.5  1.5  0.5"
      ]
     },
     "metadata": {},
     "output_type": "display_data"
    },
    {
     "name": "stdout",
     "output_type": "stream",
     "text": [
      "[15.0, 27.5]\n"
     ]
    }
   ],
   "source": [
    "### now make the A matrix\n",
    "function make_A_mtx(n)\n",
    "    A = zeros(2, n)\n",
    "    for i in 1:n\n",
    "        #velocity\n",
    "        A[1, i] = 1\n",
    "        #position\n",
    "        A[2, i] = (n-i) + 0.5\n",
    "    end\n",
    "    return A\n",
    "end\n",
    "A = make_A_mtx(n)\n",
    "println(\"A matrix:\")\n",
    "display(A)\n",
    "# now check and validate\n",
    "p_v = A * x\n",
    "println(p_v)"
   ]
  },
  {
   "cell_type": "code",
   "execution_count": 15,
   "id": "772f54b4-9161-4d02-8d40-5f3ef98a5fca",
   "metadata": {},
   "outputs": [
    {
     "name": "stdout",
     "output_type": "stream",
     "text": [
      "\n",
      "Test case 1: random x = [4, 4, 3, 2, 4, 1]\n",
      "Matrix form y1 = [18.0, 62.0]\n",
      "Recursive v1[ end ] = 18.0, p1[end] = 62.0\n",
      "\n",
      "Test case 2: x = ones\n",
      "Matrix form y2 = [6.0, 18.0]\n",
      "Recursive v2[ end ] = 6.0, p2[end] = 18.0\n",
      "\n",
      "Test case 3: x = 1:n\n",
      "Matrix form y3 = [21.0, 45.5]\n",
      "Recursive v3[ end ] = 21.0, p3[end] = 45.5\n"
     ]
    }
   ],
   "source": [
    "# now validate other cases where we still have pos_0 = 0 and vel_0 = 0\n",
    "n = 6\n",
    "p_0, v_0 = 0, 0\n",
    "x1 = rand(1:6, n)\n",
    "x2 = ones(n)\n",
    "x3 = collect(1:n)\n",
    "v1, p1 = get_y_vec(x1, p_0, v_0)\n",
    "v2, p2 = get_y_vec(x2, p_0, v_0)\n",
    "v3, p3 = get_y_vec(x3, p_0, v_0)\n",
    "A = make_A_mtx(n)\n",
    "y1 = A *x1\n",
    "y2 = A *x2\n",
    "y3 = A*x3\n",
    "\n",
    "println(\"\\nTest case 1: random x = \", x1)\n",
    "println(\"Matrix form y1 = \", y1)\n",
    "println(\"Recursive v1[ end ] = \", v1[end], \", p1[end] = \", p1[end])\n",
    "\n",
    "println(\"\\nTest case 2: x = ones\")\n",
    "println(\"Matrix form y2 = \", y2)\n",
    "println(\"Recursive v2[ end ] = \", v2[end], \", p2[end] = \", p2[end])\n",
    "\n",
    "println(\"\\nTest case 3: x = 1:n\")\n",
    "println(\"Matrix form y3 = \", y3)\n",
    "println(\"Recursive v3[ end ] = \", v3[end], \", p3[end] = \", p3[end])\n",
    "\n"
   ]
  },
  {
   "cell_type": "markdown",
   "id": "bc819ee3-e17e-48a9-bba4-dba525cda773",
   "metadata": {},
   "source": [
    "## Problem 2.110: Counting paths in an undirected graph\n",
    "\n",
    "Consider an undirected graph with \\(n\\) nodes and no self-loops (i.e., all branches connect two different nodes).  \n",
    "Let $A \\in \\mathbb{R}^{n \\times n}$ be the adjacency matrix, defined as  \n",
    "\n",
    "$$\n",
    "A_{ij} =\n",
    "\\begin{cases}\n",
    "1 & \\text{if there is a branch from node $i$ to node $j$}, \\\\\n",
    "0 & \\text{otherwise}.\n",
    "\\end{cases}\n",
    "$$  \n",
    "\n",
    "Note that $A = A^T$ and $A_{ii}=0$.  \n",
    "\n",
    "Let  \n",
    "\n",
    "$$\n",
    "B = A^k, \\quad k \\in \\mathbb{Z},\\; k \\geq 1.\n",
    "$$  \n",
    "\n",
    "Give a simple interpretation of $B_{ij}$ in terms of the original graph.  \n"
   ]
  },
  {
   "cell_type": "markdown",
   "id": "c0552341-5642-4503-a9c4-b8bcd28e6383",
   "metadata": {},
   "source": [
    "### Example Graph"
   ]
  },
  {
   "cell_type": "code",
   "execution_count": 9,
   "id": "af1e5eb9-f7cc-4b94-99b3-d9fee71c90cd",
   "metadata": {},
   "outputs": [
    {
     "name": "stdout",
     "output_type": "stream",
     "text": [
      "Adjacency matrix:\n",
      "sparse([2, 5, 1, 3, 5, 2, 4, 3, 5, 1, 2, 4], [1, 1, 2, 2, 2, 3, 3, 4, 4, 5, 5, 5], [1, 1, 1, 1, 1, 1, 1, 1, 1, 1, 1, 1], 5, 5)\n"
     ]
    },
    {
     "data": {
      "text/plain": [
       "5×5 Matrix{Int64}:\n",
       " 0  1  0  0  1\n",
       " 1  0  1  0  1\n",
       " 0  1  0  1  0\n",
       " 0  0  1  0  1\n",
       " 1  1  0  1  0"
      ]
     },
     "metadata": {},
     "output_type": "display_data"
    },
    {
     "data": {
      "image/svg+xml": [
       "<?xml version=\"1.0\" encoding=\"UTF-8\"?>\n",
       "<svg xmlns=\"http://www.w3.org/2000/svg\"\n",
       "     xmlns:xlink=\"http://www.w3.org/1999/xlink\"\n",
       "     version=\"1.2\"\n",
       "     width=\"100mm\" height=\"100mm\" viewBox=\"0 0 100 100\"\n",
       "     stroke=\"none\"\n",
       "     fill=\"#000000\"\n",
       "     stroke-width=\"0.3\"\n",
       "     font-size=\"3.88\"\n",
       ">\n",
       "<defs>\n",
       "  <marker id=\"arrow\" markerWidth=\"15\" markerHeight=\"7\" refX=\"5\" refY=\"3.5\" orient=\"auto\" markerUnits=\"strokeWidth\">\n",
       "    <path d=\"M0,0 L15,3.5 L0,7 z\" stroke=\"context-stroke\" fill=\"context-stroke\"/>\n",
       "  </marker>\n",
       "</defs>\n",
       "<g fill=\"#000000\" fill-opacity=\"0.000\" id=\"img-f7071d32-1\">\n",
       "  <g transform=\"translate(50,50)\">\n",
       "    <path d=\"M-50,-50 L50,-50 50,50 -50,50  z\" class=\"primitive\"/>\n",
       "  </g>\n",
       "</g>\n",
       "<g stroke-width=\"1.34\" stroke=\"#000000\" id=\"img-f7071d32-2\">\n",
       "</g>\n",
       "<g stroke-width=\"1.34\" stroke=\"#000000\" id=\"img-f7071d32-3\">\n",
       "  <g transform=\"translate(10.53,29.51)\">\n",
       "    <path fill=\"none\" d=\"M-1.71,-16.54 L1.71,16.54 \" class=\"primitive\"/>\n",
       "  </g>\n",
       "  <g transform=\"translate(32.5,19.07)\">\n",
       "    <path fill=\"none\" d=\"M-19.91,-8.84 L19.91,8.84 \" class=\"primitive\"/>\n",
       "  </g>\n",
       "  <g transform=\"translate(28.36,71.17)\">\n",
       "    <path fill=\"none\" d=\"M-12.81,-16.79 L12.81,16.79 \" class=\"primitive\"/>\n",
       "  </g>\n",
       "  <g transform=\"translate(34.7,40.24)\">\n",
       "    <path fill=\"none\" d=\"M-17.77,8.44 L17.77,-8.44 \" class=\"primitive\"/>\n",
       "  </g>\n",
       "  <g transform=\"translate(67.83,80.35)\">\n",
       "    <path fill=\"none\" d=\"M-19.63,9.32 L19.63,-9.32 \" class=\"primitive\"/>\n",
       "  </g>\n",
       "  <g transform=\"translate(74.17,49.41)\">\n",
       "    <path fill=\"none\" d=\"M14.4,16.14 L-14.4,-16.14 \" class=\"primitive\"/>\n",
       "  </g>\n",
       "</g>\n",
       "<g fill=\"#000000\" id=\"img-f7071d32-4\">\n",
       "</g>\n",
       "<g fill=\"#000000\" id=\"img-f7071d32-5\">\n",
       "</g>\n",
       "<g font-size=\"4\" fill=\"#000000\" id=\"img-f7071d32-6\">\n",
       "</g>\n",
       "<g stroke-width=\"0\" stroke=\"#000000\" stroke-opacity=\"0.000\" fill=\"#8C1515\" id=\"img-f7071d32-7\">\n",
       "  <g transform=\"translate(8.33,8.33)\">\n",
       "    <circle cx=\"0\" cy=\"0\" r=\"4.47\" class=\"primitive\"/>\n",
       "  </g>\n",
       "  <g transform=\"translate(12.72,50.68)\">\n",
       "    <circle cx=\"0\" cy=\"0\" r=\"4.47\" class=\"primitive\"/>\n",
       "  </g>\n",
       "  <g transform=\"translate(44,91.67)\">\n",
       "    <circle cx=\"0\" cy=\"0\" r=\"4.47\" class=\"primitive\"/>\n",
       "  </g>\n",
       "  <g transform=\"translate(91.67,69.02)\">\n",
       "    <circle cx=\"0\" cy=\"0\" r=\"4.47\" class=\"primitive\"/>\n",
       "  </g>\n",
       "  <g transform=\"translate(56.67,29.8)\">\n",
       "    <circle cx=\"0\" cy=\"0\" r=\"4.47\" class=\"primitive\"/>\n",
       "  </g>\n",
       "</g>\n",
       "<g font-family=\"Helvetica\" font-size=\"4\" fill=\"#FFFFFF\" id=\"img-f7071d32-8\">\n",
       "  <g transform=\"translate(8.33,8.33)\">\n",
       "    <g class=\"primitive\">\n",
       "      <text text-anchor=\"middle\" dy=\"0.35em\">1</text>\n",
       "    </g>\n",
       "  </g>\n",
       "  <g transform=\"translate(12.72,50.68)\">\n",
       "    <g class=\"primitive\">\n",
       "      <text text-anchor=\"middle\" dy=\"0.35em\">2</text>\n",
       "    </g>\n",
       "  </g>\n",
       "  <g transform=\"translate(44,91.67)\">\n",
       "    <g class=\"primitive\">\n",
       "      <text text-anchor=\"middle\" dy=\"0.35em\">3</text>\n",
       "    </g>\n",
       "  </g>\n",
       "  <g transform=\"translate(91.67,69.02)\">\n",
       "    <g class=\"primitive\">\n",
       "      <text text-anchor=\"middle\" dy=\"0.35em\">4</text>\n",
       "    </g>\n",
       "  </g>\n",
       "  <g transform=\"translate(56.67,29.8)\">\n",
       "    <g class=\"primitive\">\n",
       "      <text text-anchor=\"middle\" dy=\"0.35em\">5</text>\n",
       "    </g>\n",
       "  </g>\n",
       "</g>\n",
       "<g font-family=\"Helvetica\" font-size=\"4\" fill=\"#000000\" id=\"img-f7071d32-9\">\n",
       "  <g transform=\"translate(50,0)\">\n",
       "    <g class=\"primitive\">\n",
       "      <text text-anchor=\"middle\" dy=\"0.35em\"></text>\n",
       "    </g>\n",
       "  </g>\n",
       "</g>\n",
       "</svg>\n"
      ],
      "text/html": [
       "<?xml version=\"1.0\" encoding=\"UTF-8\"?>\n",
       "<svg xmlns=\"http://www.w3.org/2000/svg\"\n",
       "     xmlns:xlink=\"http://www.w3.org/1999/xlink\"\n",
       "     version=\"1.2\"\n",
       "     width=\"100mm\" height=\"100mm\" viewBox=\"0 0 100 100\"\n",
       "     stroke=\"none\"\n",
       "     fill=\"#000000\"\n",
       "     stroke-width=\"0.3\"\n",
       "     font-size=\"3.88\"\n",
       "\n",
       "     id=\"img-5c379220\">\n",
       "<defs>\n",
       "  <marker id=\"arrow\" markerWidth=\"15\" markerHeight=\"7\" refX=\"5\" refY=\"3.5\" orient=\"auto\" markerUnits=\"strokeWidth\">\n",
       "    <path d=\"M0,0 L15,3.5 L0,7 z\" stroke=\"context-stroke\" fill=\"context-stroke\"/>\n",
       "  </marker>\n",
       "</defs>\n",
       "<g fill=\"#000000\" fill-opacity=\"0.000\" id=\"img-5c379220-1\">\n",
       "  <g transform=\"translate(50,50)\">\n",
       "    <path d=\"M-50,-50 L50,-50 50,50 -50,50  z\" class=\"primitive\"/>\n",
       "  </g>\n",
       "</g>\n",
       "<g stroke-width=\"1.34\" stroke=\"#000000\" id=\"img-5c379220-2\">\n",
       "</g>\n",
       "<g stroke-width=\"1.34\" stroke=\"#000000\" id=\"img-5c379220-3\">\n",
       "  <g transform=\"translate(10.53,29.51)\">\n",
       "    <path fill=\"none\" d=\"M-1.71,-16.54 L1.71,16.54 \" class=\"primitive\"/>\n",
       "  </g>\n",
       "  <g transform=\"translate(32.5,19.07)\">\n",
       "    <path fill=\"none\" d=\"M-19.91,-8.84 L19.91,8.84 \" class=\"primitive\"/>\n",
       "  </g>\n",
       "  <g transform=\"translate(28.36,71.17)\">\n",
       "    <path fill=\"none\" d=\"M-12.81,-16.79 L12.81,16.79 \" class=\"primitive\"/>\n",
       "  </g>\n",
       "  <g transform=\"translate(34.7,40.24)\">\n",
       "    <path fill=\"none\" d=\"M-17.77,8.44 L17.77,-8.44 \" class=\"primitive\"/>\n",
       "  </g>\n",
       "  <g transform=\"translate(67.83,80.35)\">\n",
       "    <path fill=\"none\" d=\"M-19.63,9.32 L19.63,-9.32 \" class=\"primitive\"/>\n",
       "  </g>\n",
       "  <g transform=\"translate(74.17,49.41)\">\n",
       "    <path fill=\"none\" d=\"M14.4,16.14 L-14.4,-16.14 \" class=\"primitive\"/>\n",
       "  </g>\n",
       "</g>\n",
       "<g fill=\"#000000\" id=\"img-5c379220-4\">\n",
       "</g>\n",
       "<g fill=\"#000000\" id=\"img-5c379220-5\">\n",
       "</g>\n",
       "<g font-size=\"4\" fill=\"#000000\" id=\"img-5c379220-6\">\n",
       "</g>\n",
       "<g stroke-width=\"0\" stroke=\"#000000\" stroke-opacity=\"0.000\" fill=\"#8C1515\" id=\"img-5c379220-7\">\n",
       "  <g transform=\"translate(8.33,8.33)\">\n",
       "    <circle cx=\"0\" cy=\"0\" r=\"4.47\" class=\"primitive\"/>\n",
       "  </g>\n",
       "  <g transform=\"translate(12.72,50.68)\">\n",
       "    <circle cx=\"0\" cy=\"0\" r=\"4.47\" class=\"primitive\"/>\n",
       "  </g>\n",
       "  <g transform=\"translate(44,91.67)\">\n",
       "    <circle cx=\"0\" cy=\"0\" r=\"4.47\" class=\"primitive\"/>\n",
       "  </g>\n",
       "  <g transform=\"translate(91.67,69.02)\">\n",
       "    <circle cx=\"0\" cy=\"0\" r=\"4.47\" class=\"primitive\"/>\n",
       "  </g>\n",
       "  <g transform=\"translate(56.67,29.8)\">\n",
       "    <circle cx=\"0\" cy=\"0\" r=\"4.47\" class=\"primitive\"/>\n",
       "  </g>\n",
       "</g>\n",
       "<g font-family=\"Helvetica\" font-size=\"4\" fill=\"#FFFFFF\" id=\"img-5c379220-8\">\n",
       "  <g transform=\"translate(8.33,8.33)\">\n",
       "    <g class=\"primitive\">\n",
       "      <text text-anchor=\"middle\" dy=\"0.35em\">1</text>\n",
       "    </g>\n",
       "  </g>\n",
       "  <g transform=\"translate(12.72,50.68)\">\n",
       "    <g class=\"primitive\">\n",
       "      <text text-anchor=\"middle\" dy=\"0.35em\">2</text>\n",
       "    </g>\n",
       "  </g>\n",
       "  <g transform=\"translate(44,91.67)\">\n",
       "    <g class=\"primitive\">\n",
       "      <text text-anchor=\"middle\" dy=\"0.35em\">3</text>\n",
       "    </g>\n",
       "  </g>\n",
       "  <g transform=\"translate(91.67,69.02)\">\n",
       "    <g class=\"primitive\">\n",
       "      <text text-anchor=\"middle\" dy=\"0.35em\">4</text>\n",
       "    </g>\n",
       "  </g>\n",
       "  <g transform=\"translate(56.67,29.8)\">\n",
       "    <g class=\"primitive\">\n",
       "      <text text-anchor=\"middle\" dy=\"0.35em\">5</text>\n",
       "    </g>\n",
       "  </g>\n",
       "</g>\n",
       "<g font-family=\"Helvetica\" font-size=\"4\" fill=\"#000000\" id=\"img-5c379220-9\">\n",
       "  <g transform=\"translate(50,0)\">\n",
       "    <g class=\"primitive\">\n",
       "      <text text-anchor=\"middle\" dy=\"0.35em\"></text>\n",
       "    </g>\n",
       "  </g>\n",
       "</g>\n",
       "<script> <![CDATA[\n",
       "(function(N){var k=/[\\.\\/]/,L=/\\s*,\\s*/,C=function(a,d){return a-d},a,v,y={n:{}},M=function(){for(var a=0,d=this.length;a<d;a++)if(\"undefined\"!=typeof this[a])return this[a]},A=function(){for(var a=this.length;--a;)if(\"undefined\"!=typeof this[a])return this[a]},w=function(k,d){k=String(k);var f=v,n=Array.prototype.slice.call(arguments,2),u=w.listeners(k),p=0,b,q=[],e={},l=[],r=a;l.firstDefined=M;l.lastDefined=A;a=k;for(var s=v=0,x=u.length;s<x;s++)\"zIndex\"in u[s]&&(q.push(u[s].zIndex),0>u[s].zIndex&&\n",
       "(e[u[s].zIndex]=u[s]));for(q.sort(C);0>q[p];)if(b=e[q[p++] ],l.push(b.apply(d,n)),v)return v=f,l;for(s=0;s<x;s++)if(b=u[s],\"zIndex\"in b)if(b.zIndex==q[p]){l.push(b.apply(d,n));if(v)break;do if(p++,(b=e[q[p] ])&&l.push(b.apply(d,n)),v)break;while(b)}else e[b.zIndex]=b;else if(l.push(b.apply(d,n)),v)break;v=f;a=r;return l};w._events=y;w.listeners=function(a){a=a.split(k);var d=y,f,n,u,p,b,q,e,l=[d],r=[];u=0;for(p=a.length;u<p;u++){e=[];b=0;for(q=l.length;b<q;b++)for(d=l[b].n,f=[d[a[u] ],d[\"*\"] ],n=2;n--;)if(d=\n",
       "f[n])e.push(d),r=r.concat(d.f||[]);l=e}return r};w.on=function(a,d){a=String(a);if(\"function\"!=typeof d)return function(){};for(var f=a.split(L),n=0,u=f.length;n<u;n++)(function(a){a=a.split(k);for(var b=y,f,e=0,l=a.length;e<l;e++)b=b.n,b=b.hasOwnProperty(a[e])&&b[a[e] ]||(b[a[e] ]={n:{}});b.f=b.f||[];e=0;for(l=b.f.length;e<l;e++)if(b.f[e]==d){f=!0;break}!f&&b.f.push(d)})(f[n]);return function(a){+a==+a&&(d.zIndex=+a)}};w.f=function(a){var d=[].slice.call(arguments,1);return function(){w.apply(null,\n",
       "[a,null].concat(d).concat([].slice.call(arguments,0)))}};w.stop=function(){v=1};w.nt=function(k){return k?(new RegExp(\"(?:\\\\.|\\\\/|^)\"+k+\"(?:\\\\.|\\\\/|$)\")).test(a):a};w.nts=function(){return a.split(k)};w.off=w.unbind=function(a,d){if(a){var f=a.split(L);if(1<f.length)for(var n=0,u=f.length;n<u;n++)w.off(f[n],d);else{for(var f=a.split(k),p,b,q,e,l=[y],n=0,u=f.length;n<u;n++)for(e=0;e<l.length;e+=q.length-2){q=[e,1];p=l[e].n;if(\"*\"!=f[n])p[f[n] ]&&q.push(p[f[n] ]);else for(b in p)p.hasOwnProperty(b)&&\n",
       "q.push(p[b]);l.splice.apply(l,q)}n=0;for(u=l.length;n<u;n++)for(p=l[n];p.n;){if(d){if(p.f){e=0;for(f=p.f.length;e<f;e++)if(p.f[e]==d){p.f.splice(e,1);break}!p.f.length&&delete p.f}for(b in p.n)if(p.n.hasOwnProperty(b)&&p.n[b].f){q=p.n[b].f;e=0;for(f=q.length;e<f;e++)if(q[e]==d){q.splice(e,1);break}!q.length&&delete p.n[b].f}}else for(b in delete p.f,p.n)p.n.hasOwnProperty(b)&&p.n[b].f&&delete p.n[b].f;p=p.n}}}else w._events=y={n:{}}};w.once=function(a,d){var f=function(){w.unbind(a,f);return d.apply(this,\n",
       "arguments)};return w.on(a,f)};w.version=\"0.4.2\";w.toString=function(){return\"You are running Eve 0.4.2\"};\"undefined\"!=typeof module&&module.exports?module.exports=w:\"function\"===typeof define&&define.amd?define(\"eve\",[],function(){return w}):N.eve=w})(this);\n",
       "(function(N,k){\"function\"===typeof define&&define.amd?define(\"Snap.svg\",[\"eve\"],function(L){return k(N,L)}):k(N,N.eve)})(this,function(N,k){var L=function(a){var k={},y=N.requestAnimationFrame||N.webkitRequestAnimationFrame||N.mozRequestAnimationFrame||N.oRequestAnimationFrame||N.msRequestAnimationFrame||function(a){setTimeout(a,16)},M=Array.isArray||function(a){return a instanceof Array||\"[object Array]\"==Object.prototype.toString.call(a)},A=0,w=\"M\"+(+new Date).toString(36),z=function(a){if(null==\n",
       "a)return this.s;var b=this.s-a;this.b+=this.dur*b;this.B+=this.dur*b;this.s=a},d=function(a){if(null==a)return this.spd;this.spd=a},f=function(a){if(null==a)return this.dur;this.s=this.s*a/this.dur;this.dur=a},n=function(){delete k[this.id];this.update();a(\"mina.stop.\"+this.id,this)},u=function(){this.pdif||(delete k[this.id],this.update(),this.pdif=this.get()-this.b)},p=function(){this.pdif&&(this.b=this.get()-this.pdif,delete this.pdif,k[this.id]=this)},b=function(){var a;if(M(this.start)){a=[];\n",
       "for(var b=0,e=this.start.length;b<e;b++)a[b]=+this.start[b]+(this.end[b]-this.start[b])*this.easing(this.s)}else a=+this.start+(this.end-this.start)*this.easing(this.s);this.set(a)},q=function(){var l=0,b;for(b in k)if(k.hasOwnProperty(b)){var e=k[b],f=e.get();l++;e.s=(f-e.b)/(e.dur/e.spd);1<=e.s&&(delete k[b],e.s=1,l--,function(b){setTimeout(function(){a(\"mina.finish.\"+b.id,b)})}(e));e.update()}l&&y(q)},e=function(a,r,s,x,G,h,J){a={id:w+(A++).toString(36),start:a,end:r,b:s,s:0,dur:x-s,spd:1,get:G,\n",
       "set:h,easing:J||e.linear,status:z,speed:d,duration:f,stop:n,pause:u,resume:p,update:b};k[a.id]=a;r=0;for(var K in k)if(k.hasOwnProperty(K)&&(r++,2==r))break;1==r&&y(q);return a};e.time=Date.now||function(){return+new Date};e.getById=function(a){return k[a]||null};e.linear=function(a){return a};e.easeout=function(a){return Math.pow(a,1.7)};e.easein=function(a){return Math.pow(a,0.48)};e.easeinout=function(a){if(1==a)return 1;if(0==a)return 0;var b=0.48-a/1.04,e=Math.sqrt(0.1734+b*b);a=e-b;a=Math.pow(Math.abs(a),\n",
       "1/3)*(0>a?-1:1);b=-e-b;b=Math.pow(Math.abs(b),1/3)*(0>b?-1:1);a=a+b+0.5;return 3*(1-a)*a*a+a*a*a};e.backin=function(a){return 1==a?1:a*a*(2.70158*a-1.70158)};e.backout=function(a){if(0==a)return 0;a-=1;return a*a*(2.70158*a+1.70158)+1};e.elastic=function(a){return a==!!a?a:Math.pow(2,-10*a)*Math.sin(2*(a-0.075)*Math.PI/0.3)+1};e.bounce=function(a){a<1/2.75?a*=7.5625*a:a<2/2.75?(a-=1.5/2.75,a=7.5625*a*a+0.75):a<2.5/2.75?(a-=2.25/2.75,a=7.5625*a*a+0.9375):(a-=2.625/2.75,a=7.5625*a*a+0.984375);return a};\n",
       "return N.mina=e}(\"undefined\"==typeof k?function(){}:k),C=function(){function a(c,t){if(c){if(c.tagName)return x(c);if(y(c,\"array\")&&a.set)return a.set.apply(a,c);if(c instanceof e)return c;if(null==t)return c=G.doc.querySelector(c),x(c)}return new s(null==c?\"100%\":c,null==t?\"100%\":t)}function v(c,a){if(a){\"#text\"==c&&(c=G.doc.createTextNode(a.text||\"\"));\"string\"==typeof c&&(c=v(c));if(\"string\"==typeof a)return\"xlink:\"==a.substring(0,6)?c.getAttributeNS(m,a.substring(6)):\"xml:\"==a.substring(0,4)?c.getAttributeNS(la,\n",
       "a.substring(4)):c.getAttribute(a);for(var da in a)if(a[h](da)){var b=J(a[da]);b?\"xlink:\"==da.substring(0,6)?c.setAttributeNS(m,da.substring(6),b):\"xml:\"==da.substring(0,4)?c.setAttributeNS(la,da.substring(4),b):c.setAttribute(da,b):c.removeAttribute(da)}}else c=G.doc.createElementNS(la,c);return c}function y(c,a){a=J.prototype.toLowerCase.call(a);return\"finite\"==a?isFinite(c):\"array\"==a&&(c instanceof Array||Array.isArray&&Array.isArray(c))?!0:\"null\"==a&&null===c||a==typeof c&&null!==c||\"object\"==\n",
       "a&&c===Object(c)||$.call(c).slice(8,-1).toLowerCase()==a}function M(c){if(\"function\"==typeof c||Object(c)!==c)return c;var a=new c.constructor,b;for(b in c)c[h](b)&&(a[b]=M(c[b]));return a}function A(c,a,b){function m(){var e=Array.prototype.slice.call(arguments,0),f=e.join(\"\\u2400\"),d=m.cache=m.cache||{},l=m.count=m.count||[];if(d[h](f)){a:for(var e=l,l=f,B=0,H=e.length;B<H;B++)if(e[B]===l){e.push(e.splice(B,1)[0]);break a}return b?b(d[f]):d[f]}1E3<=l.length&&delete d[l.shift()];l.push(f);d[f]=c.apply(a,\n",
       "e);return b?b(d[f]):d[f]}return m}function w(c,a,b,m,e,f){return null==e?(c-=b,a-=m,c||a?(180*I.atan2(-a,-c)/C+540)%360:0):w(c,a,e,f)-w(b,m,e,f)}function z(c){return c%360*C/180}function d(c){var a=[];c=c.replace(/(?:^|\\s)(\\w+)\\(([^)]+)\\)/g,function(c,b,m){m=m.split(/\\s*,\\s*|\\s+/);\"rotate\"==b&&1==m.length&&m.push(0,0);\"scale\"==b&&(2<m.length?m=m.slice(0,2):2==m.length&&m.push(0,0),1==m.length&&m.push(m[0],0,0));\"skewX\"==b?a.push([\"m\",1,0,I.tan(z(m[0])),1,0,0]):\"skewY\"==b?a.push([\"m\",1,I.tan(z(m[0])),\n",
       "0,1,0,0]):a.push([b.charAt(0)].concat(m));return c});return a}function f(c,t){var b=O(c),m=new a.Matrix;if(b)for(var e=0,f=b.length;e<f;e++){var h=b[e],d=h.length,B=J(h[0]).toLowerCase(),H=h[0]!=B,l=H?m.invert():0,E;\"t\"==B&&2==d?m.translate(h[1],0):\"t\"==B&&3==d?H?(d=l.x(0,0),B=l.y(0,0),H=l.x(h[1],h[2]),l=l.y(h[1],h[2]),m.translate(H-d,l-B)):m.translate(h[1],h[2]):\"r\"==B?2==d?(E=E||t,m.rotate(h[1],E.x+E.width/2,E.y+E.height/2)):4==d&&(H?(H=l.x(h[2],h[3]),l=l.y(h[2],h[3]),m.rotate(h[1],H,l)):m.rotate(h[1],\n",
       "h[2],h[3])):\"s\"==B?2==d||3==d?(E=E||t,m.scale(h[1],h[d-1],E.x+E.width/2,E.y+E.height/2)):4==d?H?(H=l.x(h[2],h[3]),l=l.y(h[2],h[3]),m.scale(h[1],h[1],H,l)):m.scale(h[1],h[1],h[2],h[3]):5==d&&(H?(H=l.x(h[3],h[4]),l=l.y(h[3],h[4]),m.scale(h[1],h[2],H,l)):m.scale(h[1],h[2],h[3],h[4])):\"m\"==B&&7==d&&m.add(h[1],h[2],h[3],h[4],h[5],h[6])}return m}function n(c,t){if(null==t){var m=!0;t=\"linearGradient\"==c.type||\"radialGradient\"==c.type?c.node.getAttribute(\"gradientTransform\"):\"pattern\"==c.type?c.node.getAttribute(\"patternTransform\"):\n",
       "c.node.getAttribute(\"transform\");if(!t)return new a.Matrix;t=d(t)}else t=a._.rgTransform.test(t)?J(t).replace(/\\.{3}|\\u2026/g,c._.transform||aa):d(t),y(t,\"array\")&&(t=a.path?a.path.toString.call(t):J(t)),c._.transform=t;var b=f(t,c.getBBox(1));if(m)return b;c.matrix=b}function u(c){c=c.node.ownerSVGElement&&x(c.node.ownerSVGElement)||c.node.parentNode&&x(c.node.parentNode)||a.select(\"svg\")||a(0,0);var t=c.select(\"defs\"),t=null==t?!1:t.node;t||(t=r(\"defs\",c.node).node);return t}function p(c){return c.node.ownerSVGElement&&\n",
       "x(c.node.ownerSVGElement)||a.select(\"svg\")}function b(c,a,m){function b(c){if(null==c)return aa;if(c==+c)return c;v(B,{width:c});try{return B.getBBox().width}catch(a){return 0}}function h(c){if(null==c)return aa;if(c==+c)return c;v(B,{height:c});try{return B.getBBox().height}catch(a){return 0}}function e(b,B){null==a?d[b]=B(c.attr(b)||0):b==a&&(d=B(null==m?c.attr(b)||0:m))}var f=p(c).node,d={},B=f.querySelector(\".svg---mgr\");B||(B=v(\"rect\"),v(B,{x:-9E9,y:-9E9,width:10,height:10,\"class\":\"svg---mgr\",\n",
       "fill:\"none\"}),f.appendChild(B));switch(c.type){case \"rect\":e(\"rx\",b),e(\"ry\",h);case \"image\":e(\"width\",b),e(\"height\",h);case \"text\":e(\"x\",b);e(\"y\",h);break;case \"circle\":e(\"cx\",b);e(\"cy\",h);e(\"r\",b);break;case \"ellipse\":e(\"cx\",b);e(\"cy\",h);e(\"rx\",b);e(\"ry\",h);break;case \"line\":e(\"x1\",b);e(\"x2\",b);e(\"y1\",h);e(\"y2\",h);break;case \"marker\":e(\"refX\",b);e(\"markerWidth\",b);e(\"refY\",h);e(\"markerHeight\",h);break;case \"radialGradient\":e(\"fx\",b);e(\"fy\",h);break;case \"tspan\":e(\"dx\",b);e(\"dy\",h);break;default:e(a,\n",
       "b)}f.removeChild(B);return d}function q(c){y(c,\"array\")||(c=Array.prototype.slice.call(arguments,0));for(var a=0,b=0,m=this.node;this[a];)delete this[a++];for(a=0;a<c.length;a++)\"set\"==c[a].type?c[a].forEach(function(c){m.appendChild(c.node)}):m.appendChild(c[a].node);for(var h=m.childNodes,a=0;a<h.length;a++)this[b++]=x(h[a]);return this}function e(c){if(c.snap in E)return E[c.snap];var a=this.id=V(),b;try{b=c.ownerSVGElement}catch(m){}this.node=c;b&&(this.paper=new s(b));this.type=c.tagName;this.anims=\n",
       "{};this._={transform:[]};c.snap=a;E[a]=this;\"g\"==this.type&&(this.add=q);if(this.type in{g:1,mask:1,pattern:1})for(var e in s.prototype)s.prototype[h](e)&&(this[e]=s.prototype[e])}function l(c){this.node=c}function r(c,a){var b=v(c);a.appendChild(b);return x(b)}function s(c,a){var b,m,f,d=s.prototype;if(c&&\"svg\"==c.tagName){if(c.snap in E)return E[c.snap];var l=c.ownerDocument;b=new e(c);m=c.getElementsByTagName(\"desc\")[0];f=c.getElementsByTagName(\"defs\")[0];m||(m=v(\"desc\"),m.appendChild(l.createTextNode(\"Created with Snap\")),\n",
       "b.node.appendChild(m));f||(f=v(\"defs\"),b.node.appendChild(f));b.defs=f;for(var ca in d)d[h](ca)&&(b[ca]=d[ca]);b.paper=b.root=b}else b=r(\"svg\",G.doc.body),v(b.node,{height:a,version:1.1,width:c,xmlns:la});return b}function x(c){return!c||c instanceof e||c instanceof l?c:c.tagName&&\"svg\"==c.tagName.toLowerCase()?new s(c):c.tagName&&\"object\"==c.tagName.toLowerCase()&&\"image/svg+xml\"==c.type?new s(c.contentDocument.getElementsByTagName(\"svg\")[0]):new e(c)}a.version=\"0.3.0\";a.toString=function(){return\"Snap v\"+\n",
       "this.version};a._={};var G={win:N,doc:N.document};a._.glob=G;var h=\"hasOwnProperty\",J=String,K=parseFloat,U=parseInt,I=Math,P=I.max,Q=I.min,Y=I.abs,C=I.PI,aa=\"\",$=Object.prototype.toString,F=/^\\s*((#[a-f\\d]{6})|(#[a-f\\d]{3})|rgba?\\(\\s*([\\d\\.]+%?\\s*,\\s*[\\d\\.]+%?\\s*,\\s*[\\d\\.]+%?(?:\\s*,\\s*[\\d\\.]+%?)?)\\s*\\)|hsba?\\(\\s*([\\d\\.]+(?:deg|\\xb0|%)?\\s*,\\s*[\\d\\.]+%?\\s*,\\s*[\\d\\.]+(?:%?\\s*,\\s*[\\d\\.]+)?%?)\\s*\\)|hsla?\\(\\s*([\\d\\.]+(?:deg|\\xb0|%)?\\s*,\\s*[\\d\\.]+%?\\s*,\\s*[\\d\\.]+(?:%?\\s*,\\s*[\\d\\.]+)?%?)\\s*\\))\\s*$/i;a._.separator=\n",
       "RegExp(\"[,\\t\\n\\x0B\\f\\r \\u00a0\\u1680\\u180e\\u2000\\u2001\\u2002\\u2003\\u2004\\u2005\\u2006\\u2007\\u2008\\u2009\\u200a\\u202f\\u205f\\u3000\\u2028\\u2029]+\");var S=RegExp(\"[\\t\\n\\x0B\\f\\r \\u00a0\\u1680\\u180e\\u2000\\u2001\\u2002\\u2003\\u2004\\u2005\\u2006\\u2007\\u2008\\u2009\\u200a\\u202f\\u205f\\u3000\\u2028\\u2029]*,[\\t\\n\\x0B\\f\\r \\u00a0\\u1680\\u180e\\u2000\\u2001\\u2002\\u2003\\u2004\\u2005\\u2006\\u2007\\u2008\\u2009\\u200a\\u202f\\u205f\\u3000\\u2028\\u2029]*\"),X={hs:1,rg:1},W=RegExp(\"([a-z])[\\t\\n\\x0B\\f\\r \\u00a0\\u1680\\u180e\\u2000\\u2001\\u2002\\u2003\\u2004\\u2005\\u2006\\u2007\\u2008\\u2009\\u200a\\u202f\\u205f\\u3000\\u2028\\u2029,]*((-?\\\\d*\\\\.?\\\\d*(?:e[\\\\-+]?\\\\d+)?[\\t\\n\\x0B\\f\\r \\u00a0\\u1680\\u180e\\u2000\\u2001\\u2002\\u2003\\u2004\\u2005\\u2006\\u2007\\u2008\\u2009\\u200a\\u202f\\u205f\\u3000\\u2028\\u2029]*,?[\\t\\n\\x0B\\f\\r \\u00a0\\u1680\\u180e\\u2000\\u2001\\u2002\\u2003\\u2004\\u2005\\u2006\\u2007\\u2008\\u2009\\u200a\\u202f\\u205f\\u3000\\u2028\\u2029]*)+)\",\n",
       "\"ig\"),ma=RegExp(\"([rstm])[\\t\\n\\x0B\\f\\r \\u00a0\\u1680\\u180e\\u2000\\u2001\\u2002\\u2003\\u2004\\u2005\\u2006\\u2007\\u2008\\u2009\\u200a\\u202f\\u205f\\u3000\\u2028\\u2029,]*((-?\\\\d*\\\\.?\\\\d*(?:e[\\\\-+]?\\\\d+)?[\\t\\n\\x0B\\f\\r \\u00a0\\u1680\\u180e\\u2000\\u2001\\u2002\\u2003\\u2004\\u2005\\u2006\\u2007\\u2008\\u2009\\u200a\\u202f\\u205f\\u3000\\u2028\\u2029]*,?[\\t\\n\\x0B\\f\\r \\u00a0\\u1680\\u180e\\u2000\\u2001\\u2002\\u2003\\u2004\\u2005\\u2006\\u2007\\u2008\\u2009\\u200a\\u202f\\u205f\\u3000\\u2028\\u2029]*)+)\",\"ig\"),Z=RegExp(\"(-?\\\\d*\\\\.?\\\\d*(?:e[\\\\-+]?\\\\d+)?)[\\t\\n\\x0B\\f\\r \\u00a0\\u1680\\u180e\\u2000\\u2001\\u2002\\u2003\\u2004\\u2005\\u2006\\u2007\\u2008\\u2009\\u200a\\u202f\\u205f\\u3000\\u2028\\u2029]*,?[\\t\\n\\x0B\\f\\r \\u00a0\\u1680\\u180e\\u2000\\u2001\\u2002\\u2003\\u2004\\u2005\\u2006\\u2007\\u2008\\u2009\\u200a\\u202f\\u205f\\u3000\\u2028\\u2029]*\",\n",
       "\"ig\"),na=0,ba=\"S\"+(+new Date).toString(36),V=function(){return ba+(na++).toString(36)},m=\"http://www.w3.org/1999/xlink\",la=\"http://www.w3.org/2000/svg\",E={},ca=a.url=function(c){return\"url('#\"+c+\"')\"};a._.$=v;a._.id=V;a.format=function(){var c=/\\{([^\\}]+)\\}/g,a=/(?:(?:^|\\.)(.+?)(?=\\[|\\.|$|\\()|\\[('|\")(.+?)\\2\\])(\\(\\))?/g,b=function(c,b,m){var h=m;b.replace(a,function(c,a,b,m,t){a=a||m;h&&(a in h&&(h=h[a]),\"function\"==typeof h&&t&&(h=h()))});return h=(null==h||h==m?c:h)+\"\"};return function(a,m){return J(a).replace(c,\n",
       "function(c,a){return b(c,a,m)})}}();a._.clone=M;a._.cacher=A;a.rad=z;a.deg=function(c){return 180*c/C%360};a.angle=w;a.is=y;a.snapTo=function(c,a,b){b=y(b,\"finite\")?b:10;if(y(c,\"array\"))for(var m=c.length;m--;){if(Y(c[m]-a)<=b)return c[m]}else{c=+c;m=a%c;if(m<b)return a-m;if(m>c-b)return a-m+c}return a};a.getRGB=A(function(c){if(!c||(c=J(c)).indexOf(\"-\")+1)return{r:-1,g:-1,b:-1,hex:\"none\",error:1,toString:ka};if(\"none\"==c)return{r:-1,g:-1,b:-1,hex:\"none\",toString:ka};!X[h](c.toLowerCase().substring(0,\n",
       "2))&&\"#\"!=c.charAt()&&(c=T(c));if(!c)return{r:-1,g:-1,b:-1,hex:\"none\",error:1,toString:ka};var b,m,e,f,d;if(c=c.match(F)){c[2]&&(e=U(c[2].substring(5),16),m=U(c[2].substring(3,5),16),b=U(c[2].substring(1,3),16));c[3]&&(e=U((d=c[3].charAt(3))+d,16),m=U((d=c[3].charAt(2))+d,16),b=U((d=c[3].charAt(1))+d,16));c[4]&&(d=c[4].split(S),b=K(d[0]),\"%\"==d[0].slice(-1)&&(b*=2.55),m=K(d[1]),\"%\"==d[1].slice(-1)&&(m*=2.55),e=K(d[2]),\"%\"==d[2].slice(-1)&&(e*=2.55),\"rgba\"==c[1].toLowerCase().slice(0,4)&&(f=K(d[3])),\n",
       "d[3]&&\"%\"==d[3].slice(-1)&&(f/=100));if(c[5])return d=c[5].split(S),b=K(d[0]),\"%\"==d[0].slice(-1)&&(b/=100),m=K(d[1]),\"%\"==d[1].slice(-1)&&(m/=100),e=K(d[2]),\"%\"==d[2].slice(-1)&&(e/=100),\"deg\"!=d[0].slice(-3)&&\"\\u00b0\"!=d[0].slice(-1)||(b/=360),\"hsba\"==c[1].toLowerCase().slice(0,4)&&(f=K(d[3])),d[3]&&\"%\"==d[3].slice(-1)&&(f/=100),a.hsb2rgb(b,m,e,f);if(c[6])return d=c[6].split(S),b=K(d[0]),\"%\"==d[0].slice(-1)&&(b/=100),m=K(d[1]),\"%\"==d[1].slice(-1)&&(m/=100),e=K(d[2]),\"%\"==d[2].slice(-1)&&(e/=100),\n",
       "\"deg\"!=d[0].slice(-3)&&\"\\u00b0\"!=d[0].slice(-1)||(b/=360),\"hsla\"==c[1].toLowerCase().slice(0,4)&&(f=K(d[3])),d[3]&&\"%\"==d[3].slice(-1)&&(f/=100),a.hsl2rgb(b,m,e,f);b=Q(I.round(b),255);m=Q(I.round(m),255);e=Q(I.round(e),255);f=Q(P(f,0),1);c={r:b,g:m,b:e,toString:ka};c.hex=\"#\"+(16777216|e|m<<8|b<<16).toString(16).slice(1);c.opacity=y(f,\"finite\")?f:1;return c}return{r:-1,g:-1,b:-1,hex:\"none\",error:1,toString:ka}},a);a.hsb=A(function(c,b,m){return a.hsb2rgb(c,b,m).hex});a.hsl=A(function(c,b,m){return a.hsl2rgb(c,\n",
       "b,m).hex});a.rgb=A(function(c,a,b,m){if(y(m,\"finite\")){var e=I.round;return\"rgba(\"+[e(c),e(a),e(b),+m.toFixed(2)]+\")\"}return\"#\"+(16777216|b|a<<8|c<<16).toString(16).slice(1)});var T=function(c){var a=G.doc.getElementsByTagName(\"head\")[0]||G.doc.getElementsByTagName(\"svg\")[0];T=A(function(c){if(\"red\"==c.toLowerCase())return\"rgb(255, 0, 0)\";a.style.color=\"rgb(255, 0, 0)\";a.style.color=c;c=G.doc.defaultView.getComputedStyle(a,aa).getPropertyValue(\"color\");return\"rgb(255, 0, 0)\"==c?null:c});return T(c)},\n",
       "qa=function(){return\"hsb(\"+[this.h,this.s,this.b]+\")\"},ra=function(){return\"hsl(\"+[this.h,this.s,this.l]+\")\"},ka=function(){return 1==this.opacity||null==this.opacity?this.hex:\"rgba(\"+[this.r,this.g,this.b,this.opacity]+\")\"},D=function(c,b,m){null==b&&y(c,\"object\")&&\"r\"in c&&\"g\"in c&&\"b\"in c&&(m=c.b,b=c.g,c=c.r);null==b&&y(c,string)&&(m=a.getRGB(c),c=m.r,b=m.g,m=m.b);if(1<c||1<b||1<m)c/=255,b/=255,m/=255;return[c,b,m]},oa=function(c,b,m,e){c=I.round(255*c);b=I.round(255*b);m=I.round(255*m);c={r:c,\n",
       "g:b,b:m,opacity:y(e,\"finite\")?e:1,hex:a.rgb(c,b,m),toString:ka};y(e,\"finite\")&&(c.opacity=e);return c};a.color=function(c){var b;y(c,\"object\")&&\"h\"in c&&\"s\"in c&&\"b\"in c?(b=a.hsb2rgb(c),c.r=b.r,c.g=b.g,c.b=b.b,c.opacity=1,c.hex=b.hex):y(c,\"object\")&&\"h\"in c&&\"s\"in c&&\"l\"in c?(b=a.hsl2rgb(c),c.r=b.r,c.g=b.g,c.b=b.b,c.opacity=1,c.hex=b.hex):(y(c,\"string\")&&(c=a.getRGB(c)),y(c,\"object\")&&\"r\"in c&&\"g\"in c&&\"b\"in c&&!(\"error\"in c)?(b=a.rgb2hsl(c),c.h=b.h,c.s=b.s,c.l=b.l,b=a.rgb2hsb(c),c.v=b.b):(c={hex:\"none\"},\n",
       "c.r=c.g=c.b=c.h=c.s=c.v=c.l=-1,c.error=1));c.toString=ka;return c};a.hsb2rgb=function(c,a,b,m){y(c,\"object\")&&\"h\"in c&&\"s\"in c&&\"b\"in c&&(b=c.b,a=c.s,c=c.h,m=c.o);var e,h,d;c=360*c%360/60;d=b*a;a=d*(1-Y(c%2-1));b=e=h=b-d;c=~~c;b+=[d,a,0,0,a,d][c];e+=[a,d,d,a,0,0][c];h+=[0,0,a,d,d,a][c];return oa(b,e,h,m)};a.hsl2rgb=function(c,a,b,m){y(c,\"object\")&&\"h\"in c&&\"s\"in c&&\"l\"in c&&(b=c.l,a=c.s,c=c.h);if(1<c||1<a||1<b)c/=360,a/=100,b/=100;var e,h,d;c=360*c%360/60;d=2*a*(0.5>b?b:1-b);a=d*(1-Y(c%2-1));b=e=\n",
       "h=b-d/2;c=~~c;b+=[d,a,0,0,a,d][c];e+=[a,d,d,a,0,0][c];h+=[0,0,a,d,d,a][c];return oa(b,e,h,m)};a.rgb2hsb=function(c,a,b){b=D(c,a,b);c=b[0];a=b[1];b=b[2];var m,e;m=P(c,a,b);e=m-Q(c,a,b);c=((0==e?0:m==c?(a-b)/e:m==a?(b-c)/e+2:(c-a)/e+4)+360)%6*60/360;return{h:c,s:0==e?0:e/m,b:m,toString:qa}};a.rgb2hsl=function(c,a,b){b=D(c,a,b);c=b[0];a=b[1];b=b[2];var m,e,h;m=P(c,a,b);e=Q(c,a,b);h=m-e;c=((0==h?0:m==c?(a-b)/h:m==a?(b-c)/h+2:(c-a)/h+4)+360)%6*60/360;m=(m+e)/2;return{h:c,s:0==h?0:0.5>m?h/(2*m):h/(2-2*\n",
       "m),l:m,toString:ra}};a.parsePathString=function(c){if(!c)return null;var b=a.path(c);if(b.arr)return a.path.clone(b.arr);var m={a:7,c:6,o:2,h:1,l:2,m:2,r:4,q:4,s:4,t:2,v:1,u:3,z:0},e=[];y(c,\"array\")&&y(c[0],\"array\")&&(e=a.path.clone(c));e.length||J(c).replace(W,function(c,a,b){var h=[];c=a.toLowerCase();b.replace(Z,function(c,a){a&&h.push(+a)});\"m\"==c&&2<h.length&&(e.push([a].concat(h.splice(0,2))),c=\"l\",a=\"m\"==a?\"l\":\"L\");\"o\"==c&&1==h.length&&e.push([a,h[0] ]);if(\"r\"==c)e.push([a].concat(h));else for(;h.length>=\n",
       "m[c]&&(e.push([a].concat(h.splice(0,m[c]))),m[c]););});e.toString=a.path.toString;b.arr=a.path.clone(e);return e};var O=a.parseTransformString=function(c){if(!c)return null;var b=[];y(c,\"array\")&&y(c[0],\"array\")&&(b=a.path.clone(c));b.length||J(c).replace(ma,function(c,a,m){var e=[];a.toLowerCase();m.replace(Z,function(c,a){a&&e.push(+a)});b.push([a].concat(e))});b.toString=a.path.toString;return b};a._.svgTransform2string=d;a._.rgTransform=RegExp(\"^[a-z][\\t\\n\\x0B\\f\\r \\u00a0\\u1680\\u180e\\u2000\\u2001\\u2002\\u2003\\u2004\\u2005\\u2006\\u2007\\u2008\\u2009\\u200a\\u202f\\u205f\\u3000\\u2028\\u2029]*-?\\\\.?\\\\d\",\n",
       "\"i\");a._.transform2matrix=f;a._unit2px=b;a._.getSomeDefs=u;a._.getSomeSVG=p;a.select=function(c){return x(G.doc.querySelector(c))};a.selectAll=function(c){c=G.doc.querySelectorAll(c);for(var b=(a.set||Array)(),m=0;m<c.length;m++)b.push(x(c[m]));return b};setInterval(function(){for(var c in E)if(E[h](c)){var a=E[c],b=a.node;(\"svg\"!=a.type&&!b.ownerSVGElement||\"svg\"==a.type&&(!b.parentNode||\"ownerSVGElement\"in b.parentNode&&!b.ownerSVGElement))&&delete E[c]}},1E4);(function(c){function m(c){function a(c,\n",
       "b){var m=v(c.node,b);(m=(m=m&&m.match(d))&&m[2])&&\"#\"==m.charAt()&&(m=m.substring(1))&&(f[m]=(f[m]||[]).concat(function(a){var m={};m[b]=ca(a);v(c.node,m)}))}function b(c){var a=v(c.node,\"xlink:href\");a&&\"#\"==a.charAt()&&(a=a.substring(1))&&(f[a]=(f[a]||[]).concat(function(a){c.attr(\"xlink:href\",\"#\"+a)}))}var e=c.selectAll(\"*\"),h,d=/^\\s*url\\((\"|'|)(.*)\\1\\)\\s*$/;c=[];for(var f={},l=0,E=e.length;l<E;l++){h=e[l];a(h,\"fill\");a(h,\"stroke\");a(h,\"filter\");a(h,\"mask\");a(h,\"clip-path\");b(h);var t=v(h.node,\n",
       "\"id\");t&&(v(h.node,{id:h.id}),c.push({old:t,id:h.id}))}l=0;for(E=c.length;l<E;l++)if(e=f[c[l].old])for(h=0,t=e.length;h<t;h++)e[h](c[l].id)}function e(c,a,b){return function(m){m=m.slice(c,a);1==m.length&&(m=m[0]);return b?b(m):m}}function d(c){return function(){var a=c?\"<\"+this.type:\"\",b=this.node.attributes,m=this.node.childNodes;if(c)for(var e=0,h=b.length;e<h;e++)a+=\" \"+b[e].name+'=\"'+b[e].value.replace(/\"/g,'\\\\\"')+'\"';if(m.length){c&&(a+=\">\");e=0;for(h=m.length;e<h;e++)3==m[e].nodeType?a+=m[e].nodeValue:\n",
       "1==m[e].nodeType&&(a+=x(m[e]).toString());c&&(a+=\"</\"+this.type+\">\")}else c&&(a+=\"/>\");return a}}c.attr=function(c,a){if(!c)return this;if(y(c,\"string\"))if(1<arguments.length){var b={};b[c]=a;c=b}else return k(\"snap.util.getattr.\"+c,this).firstDefined();for(var m in c)c[h](m)&&k(\"snap.util.attr.\"+m,this,c[m]);return this};c.getBBox=function(c){if(!a.Matrix||!a.path)return this.node.getBBox();var b=this,m=new a.Matrix;if(b.removed)return a._.box();for(;\"use\"==b.type;)if(c||(m=m.add(b.transform().localMatrix.translate(b.attr(\"x\")||\n",
       "0,b.attr(\"y\")||0))),b.original)b=b.original;else var e=b.attr(\"xlink:href\"),b=b.original=b.node.ownerDocument.getElementById(e.substring(e.indexOf(\"#\")+1));var e=b._,h=a.path.get[b.type]||a.path.get.deflt;try{if(c)return e.bboxwt=h?a.path.getBBox(b.realPath=h(b)):a._.box(b.node.getBBox()),a._.box(e.bboxwt);b.realPath=h(b);b.matrix=b.transform().localMatrix;e.bbox=a.path.getBBox(a.path.map(b.realPath,m.add(b.matrix)));return a._.box(e.bbox)}catch(d){return a._.box()}};var f=function(){return this.string};\n",
       "c.transform=function(c){var b=this._;if(null==c){var m=this;c=new a.Matrix(this.node.getCTM());for(var e=n(this),h=[e],d=new a.Matrix,l=e.toTransformString(),b=J(e)==J(this.matrix)?J(b.transform):l;\"svg\"!=m.type&&(m=m.parent());)h.push(n(m));for(m=h.length;m--;)d.add(h[m]);return{string:b,globalMatrix:c,totalMatrix:d,localMatrix:e,diffMatrix:c.clone().add(e.invert()),global:c.toTransformString(),total:d.toTransformString(),local:l,toString:f}}c instanceof a.Matrix?this.matrix=c:n(this,c);this.node&&\n",
       "(\"linearGradient\"==this.type||\"radialGradient\"==this.type?v(this.node,{gradientTransform:this.matrix}):\"pattern\"==this.type?v(this.node,{patternTransform:this.matrix}):v(this.node,{transform:this.matrix}));return this};c.parent=function(){return x(this.node.parentNode)};c.append=c.add=function(c){if(c){if(\"set\"==c.type){var a=this;c.forEach(function(c){a.add(c)});return this}c=x(c);this.node.appendChild(c.node);c.paper=this.paper}return this};c.appendTo=function(c){c&&(c=x(c),c.append(this));return this};\n",
       "c.prepend=function(c){if(c){if(\"set\"==c.type){var a=this,b;c.forEach(function(c){b?b.after(c):a.prepend(c);b=c});return this}c=x(c);var m=c.parent();this.node.insertBefore(c.node,this.node.firstChild);this.add&&this.add();c.paper=this.paper;this.parent()&&this.parent().add();m&&m.add()}return this};c.prependTo=function(c){c=x(c);c.prepend(this);return this};c.before=function(c){if(\"set\"==c.type){var a=this;c.forEach(function(c){var b=c.parent();a.node.parentNode.insertBefore(c.node,a.node);b&&b.add()});\n",
       "this.parent().add();return this}c=x(c);var b=c.parent();this.node.parentNode.insertBefore(c.node,this.node);this.parent()&&this.parent().add();b&&b.add();c.paper=this.paper;return this};c.after=function(c){c=x(c);var a=c.parent();this.node.nextSibling?this.node.parentNode.insertBefore(c.node,this.node.nextSibling):this.node.parentNode.appendChild(c.node);this.parent()&&this.parent().add();a&&a.add();c.paper=this.paper;return this};c.insertBefore=function(c){c=x(c);var a=this.parent();c.node.parentNode.insertBefore(this.node,\n",
       "c.node);this.paper=c.paper;a&&a.add();c.parent()&&c.parent().add();return this};c.insertAfter=function(c){c=x(c);var a=this.parent();c.node.parentNode.insertBefore(this.node,c.node.nextSibling);this.paper=c.paper;a&&a.add();c.parent()&&c.parent().add();return this};c.remove=function(){var c=this.parent();this.node.parentNode&&this.node.parentNode.removeChild(this.node);delete this.paper;this.removed=!0;c&&c.add();return this};c.select=function(c){return x(this.node.querySelector(c))};c.selectAll=\n",
       "function(c){c=this.node.querySelectorAll(c);for(var b=(a.set||Array)(),m=0;m<c.length;m++)b.push(x(c[m]));return b};c.asPX=function(c,a){null==a&&(a=this.attr(c));return+b(this,c,a)};c.use=function(){var c,a=this.node.id;a||(a=this.id,v(this.node,{id:a}));c=\"linearGradient\"==this.type||\"radialGradient\"==this.type||\"pattern\"==this.type?r(this.type,this.node.parentNode):r(\"use\",this.node.parentNode);v(c.node,{\"xlink:href\":\"#\"+a});c.original=this;return c};var l=/\\S+/g;c.addClass=function(c){var a=(c||\n",
       "\"\").match(l)||[];c=this.node;var b=c.className.baseVal,m=b.match(l)||[],e,h,d;if(a.length){for(e=0;d=a[e++];)h=m.indexOf(d),~h||m.push(d);a=m.join(\" \");b!=a&&(c.className.baseVal=a)}return this};c.removeClass=function(c){var a=(c||\"\").match(l)||[];c=this.node;var b=c.className.baseVal,m=b.match(l)||[],e,h;if(m.length){for(e=0;h=a[e++];)h=m.indexOf(h),~h&&m.splice(h,1);a=m.join(\" \");b!=a&&(c.className.baseVal=a)}return this};c.hasClass=function(c){return!!~(this.node.className.baseVal.match(l)||[]).indexOf(c)};\n",
       "c.toggleClass=function(c,a){if(null!=a)return a?this.addClass(c):this.removeClass(c);var b=(c||\"\").match(l)||[],m=this.node,e=m.className.baseVal,h=e.match(l)||[],d,f,E;for(d=0;E=b[d++];)f=h.indexOf(E),~f?h.splice(f,1):h.push(E);b=h.join(\" \");e!=b&&(m.className.baseVal=b);return this};c.clone=function(){var c=x(this.node.cloneNode(!0));v(c.node,\"id\")&&v(c.node,{id:c.id});m(c);c.insertAfter(this);return c};c.toDefs=function(){u(this).appendChild(this.node);return this};c.pattern=c.toPattern=function(c,\n",
       "a,b,m){var e=r(\"pattern\",u(this));null==c&&(c=this.getBBox());y(c,\"object\")&&\"x\"in c&&(a=c.y,b=c.width,m=c.height,c=c.x);v(e.node,{x:c,y:a,width:b,height:m,patternUnits:\"userSpaceOnUse\",id:e.id,viewBox:[c,a,b,m].join(\" \")});e.node.appendChild(this.node);return e};c.marker=function(c,a,b,m,e,h){var d=r(\"marker\",u(this));null==c&&(c=this.getBBox());y(c,\"object\")&&\"x\"in c&&(a=c.y,b=c.width,m=c.height,e=c.refX||c.cx,h=c.refY||c.cy,c=c.x);v(d.node,{viewBox:[c,a,b,m].join(\" \"),markerWidth:b,markerHeight:m,\n",
       "orient:\"auto\",refX:e||0,refY:h||0,id:d.id});d.node.appendChild(this.node);return d};var E=function(c,a,b,m){\"function\"!=typeof b||b.length||(m=b,b=L.linear);this.attr=c;this.dur=a;b&&(this.easing=b);m&&(this.callback=m)};a._.Animation=E;a.animation=function(c,a,b,m){return new E(c,a,b,m)};c.inAnim=function(){var c=[],a;for(a in this.anims)this.anims[h](a)&&function(a){c.push({anim:new E(a._attrs,a.dur,a.easing,a._callback),mina:a,curStatus:a.status(),status:function(c){return a.status(c)},stop:function(){a.stop()}})}(this.anims[a]);\n",
       "return c};a.animate=function(c,a,b,m,e,h){\"function\"!=typeof e||e.length||(h=e,e=L.linear);var d=L.time();c=L(c,a,d,d+m,L.time,b,e);h&&k.once(\"mina.finish.\"+c.id,h);return c};c.stop=function(){for(var c=this.inAnim(),a=0,b=c.length;a<b;a++)c[a].stop();return this};c.animate=function(c,a,b,m){\"function\"!=typeof b||b.length||(m=b,b=L.linear);c instanceof E&&(m=c.callback,b=c.easing,a=b.dur,c=c.attr);var d=[],f=[],l={},t,ca,n,T=this,q;for(q in c)if(c[h](q)){T.equal?(n=T.equal(q,J(c[q])),t=n.from,ca=\n",
       "n.to,n=n.f):(t=+T.attr(q),ca=+c[q]);var la=y(t,\"array\")?t.length:1;l[q]=e(d.length,d.length+la,n);d=d.concat(t);f=f.concat(ca)}t=L.time();var p=L(d,f,t,t+a,L.time,function(c){var a={},b;for(b in l)l[h](b)&&(a[b]=l[b](c));T.attr(a)},b);T.anims[p.id]=p;p._attrs=c;p._callback=m;k(\"snap.animcreated.\"+T.id,p);k.once(\"mina.finish.\"+p.id,function(){delete T.anims[p.id];m&&m.call(T)});k.once(\"mina.stop.\"+p.id,function(){delete T.anims[p.id]});return T};var T={};c.data=function(c,b){var m=T[this.id]=T[this.id]||\n",
       "{};if(0==arguments.length)return k(\"snap.data.get.\"+this.id,this,m,null),m;if(1==arguments.length){if(a.is(c,\"object\")){for(var e in c)c[h](e)&&this.data(e,c[e]);return this}k(\"snap.data.get.\"+this.id,this,m[c],c);return m[c]}m[c]=b;k(\"snap.data.set.\"+this.id,this,b,c);return this};c.removeData=function(c){null==c?T[this.id]={}:T[this.id]&&delete T[this.id][c];return this};c.outerSVG=c.toString=d(1);c.innerSVG=d()})(e.prototype);a.parse=function(c){var a=G.doc.createDocumentFragment(),b=!0,m=G.doc.createElement(\"div\");\n",
       "c=J(c);c.match(/^\\s*<\\s*svg(?:\\s|>)/)||(c=\"<svg>\"+c+\"</svg>\",b=!1);m.innerHTML=c;if(c=m.getElementsByTagName(\"svg\")[0])if(b)a=c;else for(;c.firstChild;)a.appendChild(c.firstChild);m.innerHTML=aa;return new l(a)};l.prototype.select=e.prototype.select;l.prototype.selectAll=e.prototype.selectAll;a.fragment=function(){for(var c=Array.prototype.slice.call(arguments,0),b=G.doc.createDocumentFragment(),m=0,e=c.length;m<e;m++){var h=c[m];h.node&&h.node.nodeType&&b.appendChild(h.node);h.nodeType&&b.appendChild(h);\n",
       "\"string\"==typeof h&&b.appendChild(a.parse(h).node)}return new l(b)};a._.make=r;a._.wrap=x;s.prototype.el=function(c,a){var b=r(c,this.node);a&&b.attr(a);return b};k.on(\"snap.util.getattr\",function(){var c=k.nt(),c=c.substring(c.lastIndexOf(\".\")+1),a=c.replace(/[A-Z]/g,function(c){return\"-\"+c.toLowerCase()});return pa[h](a)?this.node.ownerDocument.defaultView.getComputedStyle(this.node,null).getPropertyValue(a):v(this.node,c)});var pa={\"alignment-baseline\":0,\"baseline-shift\":0,clip:0,\"clip-path\":0,\n",
       "\"clip-rule\":0,color:0,\"color-interpolation\":0,\"color-interpolation-filters\":0,\"color-profile\":0,\"color-rendering\":0,cursor:0,direction:0,display:0,\"dominant-baseline\":0,\"enable-background\":0,fill:0,\"fill-opacity\":0,\"fill-rule\":0,filter:0,\"flood-color\":0,\"flood-opacity\":0,font:0,\"font-family\":0,\"font-size\":0,\"font-size-adjust\":0,\"font-stretch\":0,\"font-style\":0,\"font-variant\":0,\"font-weight\":0,\"glyph-orientation-horizontal\":0,\"glyph-orientation-vertical\":0,\"image-rendering\":0,kerning:0,\"letter-spacing\":0,\n",
       "\"lighting-color\":0,marker:0,\"marker-end\":0,\"marker-mid\":0,\"marker-start\":0,mask:0,opacity:0,overflow:0,\"pointer-events\":0,\"shape-rendering\":0,\"stop-color\":0,\"stop-opacity\":0,stroke:0,\"stroke-dasharray\":0,\"stroke-dashoffset\":0,\"stroke-linecap\":0,\"stroke-linejoin\":0,\"stroke-miterlimit\":0,\"stroke-opacity\":0,\"stroke-width\":0,\"text-anchor\":0,\"text-decoration\":0,\"text-rendering\":0,\"unicode-bidi\":0,visibility:0,\"word-spacing\":0,\"writing-mode\":0};k.on(\"snap.util.attr\",function(c){var a=k.nt(),b={},a=a.substring(a.lastIndexOf(\".\")+\n",
       "1);b[a]=c;var m=a.replace(/-(\\w)/gi,function(c,a){return a.toUpperCase()}),a=a.replace(/[A-Z]/g,function(c){return\"-\"+c.toLowerCase()});pa[h](a)?this.node.style[m]=null==c?aa:c:v(this.node,b)});a.ajax=function(c,a,b,m){var e=new XMLHttpRequest,h=V();if(e){if(y(a,\"function\"))m=b,b=a,a=null;else if(y(a,\"object\")){var d=[],f;for(f in a)a.hasOwnProperty(f)&&d.push(encodeURIComponent(f)+\"=\"+encodeURIComponent(a[f]));a=d.join(\"&\")}e.open(a?\"POST\":\"GET\",c,!0);a&&(e.setRequestHeader(\"X-Requested-With\",\"XMLHttpRequest\"),\n",
       "e.setRequestHeader(\"Content-type\",\"application/x-www-form-urlencoded\"));b&&(k.once(\"snap.ajax.\"+h+\".0\",b),k.once(\"snap.ajax.\"+h+\".200\",b),k.once(\"snap.ajax.\"+h+\".304\",b));e.onreadystatechange=function(){4==e.readyState&&k(\"snap.ajax.\"+h+\".\"+e.status,m,e)};if(4==e.readyState)return e;e.send(a);return e}};a.load=function(c,b,m){a.ajax(c,function(c){c=a.parse(c.responseText);m?b.call(m,c):b(c)})};a.getElementByPoint=function(c,a){var b,m,e=G.doc.elementFromPoint(c,a);if(G.win.opera&&\"svg\"==e.tagName){b=\n",
       "e;m=b.getBoundingClientRect();b=b.ownerDocument;var h=b.body,d=b.documentElement;b=m.top+(g.win.pageYOffset||d.scrollTop||h.scrollTop)-(d.clientTop||h.clientTop||0);m=m.left+(g.win.pageXOffset||d.scrollLeft||h.scrollLeft)-(d.clientLeft||h.clientLeft||0);h=e.createSVGRect();h.x=c-m;h.y=a-b;h.width=h.height=1;b=e.getIntersectionList(h,null);b.length&&(e=b[b.length-1])}return e?x(e):null};a.plugin=function(c){c(a,e,s,G,l)};return G.win.Snap=a}();C.plugin(function(a,k,y,M,A){function w(a,d,f,b,q,e){null==\n",
       "d&&\"[object SVGMatrix]\"==z.call(a)?(this.a=a.a,this.b=a.b,this.c=a.c,this.d=a.d,this.e=a.e,this.f=a.f):null!=a?(this.a=+a,this.b=+d,this.c=+f,this.d=+b,this.e=+q,this.f=+e):(this.a=1,this.c=this.b=0,this.d=1,this.f=this.e=0)}var z=Object.prototype.toString,d=String,f=Math;(function(n){function k(a){return a[0]*a[0]+a[1]*a[1]}function p(a){var d=f.sqrt(k(a));a[0]&&(a[0]/=d);a[1]&&(a[1]/=d)}n.add=function(a,d,e,f,n,p){var k=[[],[],[] ],u=[[this.a,this.c,this.e],[this.b,this.d,this.f],[0,0,1] ];d=[[a,\n",
       "e,n],[d,f,p],[0,0,1] ];a&&a instanceof w&&(d=[[a.a,a.c,a.e],[a.b,a.d,a.f],[0,0,1] ]);for(a=0;3>a;a++)for(e=0;3>e;e++){for(f=n=0;3>f;f++)n+=u[a][f]*d[f][e];k[a][e]=n}this.a=k[0][0];this.b=k[1][0];this.c=k[0][1];this.d=k[1][1];this.e=k[0][2];this.f=k[1][2];return this};n.invert=function(){var a=this.a*this.d-this.b*this.c;return new w(this.d/a,-this.b/a,-this.c/a,this.a/a,(this.c*this.f-this.d*this.e)/a,(this.b*this.e-this.a*this.f)/a)};n.clone=function(){return new w(this.a,this.b,this.c,this.d,this.e,\n",
       "this.f)};n.translate=function(a,d){return this.add(1,0,0,1,a,d)};n.scale=function(a,d,e,f){null==d&&(d=a);(e||f)&&this.add(1,0,0,1,e,f);this.add(a,0,0,d,0,0);(e||f)&&this.add(1,0,0,1,-e,-f);return this};n.rotate=function(b,d,e){b=a.rad(b);d=d||0;e=e||0;var l=+f.cos(b).toFixed(9);b=+f.sin(b).toFixed(9);this.add(l,b,-b,l,d,e);return this.add(1,0,0,1,-d,-e)};n.x=function(a,d){return a*this.a+d*this.c+this.e};n.y=function(a,d){return a*this.b+d*this.d+this.f};n.get=function(a){return+this[d.fromCharCode(97+\n",
       "a)].toFixed(4)};n.toString=function(){return\"matrix(\"+[this.get(0),this.get(1),this.get(2),this.get(3),this.get(4),this.get(5)].join()+\")\"};n.offset=function(){return[this.e.toFixed(4),this.f.toFixed(4)]};n.determinant=function(){return this.a*this.d-this.b*this.c};n.split=function(){var b={};b.dx=this.e;b.dy=this.f;var d=[[this.a,this.c],[this.b,this.d] ];b.scalex=f.sqrt(k(d[0]));p(d[0]);b.shear=d[0][0]*d[1][0]+d[0][1]*d[1][1];d[1]=[d[1][0]-d[0][0]*b.shear,d[1][1]-d[0][1]*b.shear];b.scaley=f.sqrt(k(d[1]));\n",
       "p(d[1]);b.shear/=b.scaley;0>this.determinant()&&(b.scalex=-b.scalex);var e=-d[0][1],d=d[1][1];0>d?(b.rotate=a.deg(f.acos(d)),0>e&&(b.rotate=360-b.rotate)):b.rotate=a.deg(f.asin(e));b.isSimple=!+b.shear.toFixed(9)&&(b.scalex.toFixed(9)==b.scaley.toFixed(9)||!b.rotate);b.isSuperSimple=!+b.shear.toFixed(9)&&b.scalex.toFixed(9)==b.scaley.toFixed(9)&&!b.rotate;b.noRotation=!+b.shear.toFixed(9)&&!b.rotate;return b};n.toTransformString=function(a){a=a||this.split();if(+a.shear.toFixed(9))return\"m\"+[this.get(0),\n",
       "this.get(1),this.get(2),this.get(3),this.get(4),this.get(5)];a.scalex=+a.scalex.toFixed(4);a.scaley=+a.scaley.toFixed(4);a.rotate=+a.rotate.toFixed(4);return(a.dx||a.dy?\"t\"+[+a.dx.toFixed(4),+a.dy.toFixed(4)]:\"\")+(1!=a.scalex||1!=a.scaley?\"s\"+[a.scalex,a.scaley,0,0]:\"\")+(a.rotate?\"r\"+[+a.rotate.toFixed(4),0,0]:\"\")}})(w.prototype);a.Matrix=w;a.matrix=function(a,d,f,b,k,e){return new w(a,d,f,b,k,e)}});C.plugin(function(a,v,y,M,A){function w(h){return function(d){k.stop();d instanceof A&&1==d.node.childNodes.length&&\n",
       "(\"radialGradient\"==d.node.firstChild.tagName||\"linearGradient\"==d.node.firstChild.tagName||\"pattern\"==d.node.firstChild.tagName)&&(d=d.node.firstChild,b(this).appendChild(d),d=u(d));if(d instanceof v)if(\"radialGradient\"==d.type||\"linearGradient\"==d.type||\"pattern\"==d.type){d.node.id||e(d.node,{id:d.id});var f=l(d.node.id)}else f=d.attr(h);else f=a.color(d),f.error?(f=a(b(this).ownerSVGElement).gradient(d))?(f.node.id||e(f.node,{id:f.id}),f=l(f.node.id)):f=d:f=r(f);d={};d[h]=f;e(this.node,d);this.node.style[h]=\n",
       "x}}function z(a){k.stop();a==+a&&(a+=\"px\");this.node.style.fontSize=a}function d(a){var b=[];a=a.childNodes;for(var e=0,f=a.length;e<f;e++){var l=a[e];3==l.nodeType&&b.push(l.nodeValue);\"tspan\"==l.tagName&&(1==l.childNodes.length&&3==l.firstChild.nodeType?b.push(l.firstChild.nodeValue):b.push(d(l)))}return b}function f(){k.stop();return this.node.style.fontSize}var n=a._.make,u=a._.wrap,p=a.is,b=a._.getSomeDefs,q=/^url\\(#?([^)]+)\\)$/,e=a._.$,l=a.url,r=String,s=a._.separator,x=\"\";k.on(\"snap.util.attr.mask\",\n",
       "function(a){if(a instanceof v||a instanceof A){k.stop();a instanceof A&&1==a.node.childNodes.length&&(a=a.node.firstChild,b(this).appendChild(a),a=u(a));if(\"mask\"==a.type)var d=a;else d=n(\"mask\",b(this)),d.node.appendChild(a.node);!d.node.id&&e(d.node,{id:d.id});e(this.node,{mask:l(d.id)})}});(function(a){k.on(\"snap.util.attr.clip\",a);k.on(\"snap.util.attr.clip-path\",a);k.on(\"snap.util.attr.clipPath\",a)})(function(a){if(a instanceof v||a instanceof A){k.stop();if(\"clipPath\"==a.type)var d=a;else d=\n",
       "n(\"clipPath\",b(this)),d.node.appendChild(a.node),!d.node.id&&e(d.node,{id:d.id});e(this.node,{\"clip-path\":l(d.id)})}});k.on(\"snap.util.attr.fill\",w(\"fill\"));k.on(\"snap.util.attr.stroke\",w(\"stroke\"));var G=/^([lr])(?:\\(([^)]*)\\))?(.*)$/i;k.on(\"snap.util.grad.parse\",function(a){a=r(a);var b=a.match(G);if(!b)return null;a=b[1];var e=b[2],b=b[3],e=e.split(/\\s*,\\s*/).map(function(a){return+a==a?+a:a});1==e.length&&0==e[0]&&(e=[]);b=b.split(\"-\");b=b.map(function(a){a=a.split(\":\");var b={color:a[0]};a[1]&&\n",
       "(b.offset=parseFloat(a[1]));return b});return{type:a,params:e,stops:b}});k.on(\"snap.util.attr.d\",function(b){k.stop();p(b,\"array\")&&p(b[0],\"array\")&&(b=a.path.toString.call(b));b=r(b);b.match(/[ruo]/i)&&(b=a.path.toAbsolute(b));e(this.node,{d:b})})(-1);k.on(\"snap.util.attr.#text\",function(a){k.stop();a=r(a);for(a=M.doc.createTextNode(a);this.node.firstChild;)this.node.removeChild(this.node.firstChild);this.node.appendChild(a)})(-1);k.on(\"snap.util.attr.path\",function(a){k.stop();this.attr({d:a})})(-1);\n",
       "k.on(\"snap.util.attr.class\",function(a){k.stop();this.node.className.baseVal=a})(-1);k.on(\"snap.util.attr.viewBox\",function(a){a=p(a,\"object\")&&\"x\"in a?[a.x,a.y,a.width,a.height].join(\" \"):p(a,\"array\")?a.join(\" \"):a;e(this.node,{viewBox:a});k.stop()})(-1);k.on(\"snap.util.attr.transform\",function(a){this.transform(a);k.stop()})(-1);k.on(\"snap.util.attr.r\",function(a){\"rect\"==this.type&&(k.stop(),e(this.node,{rx:a,ry:a}))})(-1);k.on(\"snap.util.attr.textpath\",function(a){k.stop();if(\"text\"==this.type){var d,\n",
       "f;if(!a&&this.textPath){for(a=this.textPath;a.node.firstChild;)this.node.appendChild(a.node.firstChild);a.remove();delete this.textPath}else if(p(a,\"string\")?(d=b(this),a=u(d.parentNode).path(a),d.appendChild(a.node),d=a.id,a.attr({id:d})):(a=u(a),a instanceof v&&(d=a.attr(\"id\"),d||(d=a.id,a.attr({id:d})))),d)if(a=this.textPath,f=this.node,a)a.attr({\"xlink:href\":\"#\"+d});else{for(a=e(\"textPath\",{\"xlink:href\":\"#\"+d});f.firstChild;)a.appendChild(f.firstChild);f.appendChild(a);this.textPath=u(a)}}})(-1);\n",
       "k.on(\"snap.util.attr.text\",function(a){if(\"text\"==this.type){for(var b=this.node,d=function(a){var b=e(\"tspan\");if(p(a,\"array\"))for(var f=0;f<a.length;f++)b.appendChild(d(a[f]));else b.appendChild(M.doc.createTextNode(a));b.normalize&&b.normalize();return b};b.firstChild;)b.removeChild(b.firstChild);for(a=d(a);a.firstChild;)b.appendChild(a.firstChild)}k.stop()})(-1);k.on(\"snap.util.attr.fontSize\",z)(-1);k.on(\"snap.util.attr.font-size\",z)(-1);k.on(\"snap.util.getattr.transform\",function(){k.stop();\n",
       "return this.transform()})(-1);k.on(\"snap.util.getattr.textpath\",function(){k.stop();return this.textPath})(-1);(function(){function b(d){return function(){k.stop();var b=M.doc.defaultView.getComputedStyle(this.node,null).getPropertyValue(\"marker-\"+d);return\"none\"==b?b:a(M.doc.getElementById(b.match(q)[1]))}}function d(a){return function(b){k.stop();var d=\"marker\"+a.charAt(0).toUpperCase()+a.substring(1);if(\"\"==b||!b)this.node.style[d]=\"none\";else if(\"marker\"==b.type){var f=b.node.id;f||e(b.node,{id:b.id});\n",
       "this.node.style[d]=l(f)}}}k.on(\"snap.util.getattr.marker-end\",b(\"end\"))(-1);k.on(\"snap.util.getattr.markerEnd\",b(\"end\"))(-1);k.on(\"snap.util.getattr.marker-start\",b(\"start\"))(-1);k.on(\"snap.util.getattr.markerStart\",b(\"start\"))(-1);k.on(\"snap.util.getattr.marker-mid\",b(\"mid\"))(-1);k.on(\"snap.util.getattr.markerMid\",b(\"mid\"))(-1);k.on(\"snap.util.attr.marker-end\",d(\"end\"))(-1);k.on(\"snap.util.attr.markerEnd\",d(\"end\"))(-1);k.on(\"snap.util.attr.marker-start\",d(\"start\"))(-1);k.on(\"snap.util.attr.markerStart\",\n",
       "d(\"start\"))(-1);k.on(\"snap.util.attr.marker-mid\",d(\"mid\"))(-1);k.on(\"snap.util.attr.markerMid\",d(\"mid\"))(-1)})();k.on(\"snap.util.getattr.r\",function(){if(\"rect\"==this.type&&e(this.node,\"rx\")==e(this.node,\"ry\"))return k.stop(),e(this.node,\"rx\")})(-1);k.on(\"snap.util.getattr.text\",function(){if(\"text\"==this.type||\"tspan\"==this.type){k.stop();var a=d(this.node);return 1==a.length?a[0]:a}})(-1);k.on(\"snap.util.getattr.#text\",function(){return this.node.textContent})(-1);k.on(\"snap.util.getattr.viewBox\",\n",
       "function(){k.stop();var b=e(this.node,\"viewBox\");if(b)return b=b.split(s),a._.box(+b[0],+b[1],+b[2],+b[3])})(-1);k.on(\"snap.util.getattr.points\",function(){var a=e(this.node,\"points\");k.stop();if(a)return a.split(s)})(-1);k.on(\"snap.util.getattr.path\",function(){var a=e(this.node,\"d\");k.stop();return a})(-1);k.on(\"snap.util.getattr.class\",function(){return this.node.className.baseVal})(-1);k.on(\"snap.util.getattr.fontSize\",f)(-1);k.on(\"snap.util.getattr.font-size\",f)(-1)});C.plugin(function(a,v,y,\n",
       "M,A){function w(a){return a}function z(a){return function(b){return+b.toFixed(3)+a}}var d={\"+\":function(a,b){return a+b},\"-\":function(a,b){return a-b},\"/\":function(a,b){return a/b},\"*\":function(a,b){return a*b}},f=String,n=/[a-z]+$/i,u=/^\\s*([+\\-\\/*])\\s*=\\s*([\\d.eE+\\-]+)\\s*([^\\d\\s]+)?\\s*$/;k.on(\"snap.util.attr\",function(a){if(a=f(a).match(u)){var b=k.nt(),b=b.substring(b.lastIndexOf(\".\")+1),q=this.attr(b),e={};k.stop();var l=a[3]||\"\",r=q.match(n),s=d[a[1] ];r&&r==l?a=s(parseFloat(q),+a[2]):(q=this.asPX(b),\n",
       "a=s(this.asPX(b),this.asPX(b,a[2]+l)));isNaN(q)||isNaN(a)||(e[b]=a,this.attr(e))}})(-10);k.on(\"snap.util.equal\",function(a,b){var q=f(this.attr(a)||\"\"),e=f(b).match(u);if(e){k.stop();var l=e[3]||\"\",r=q.match(n),s=d[e[1] ];if(r&&r==l)return{from:parseFloat(q),to:s(parseFloat(q),+e[2]),f:z(r)};q=this.asPX(a);return{from:q,to:s(q,this.asPX(a,e[2]+l)),f:w}}})(-10)});C.plugin(function(a,v,y,M,A){var w=y.prototype,z=a.is;w.rect=function(a,d,k,p,b,q){var e;null==q&&(q=b);z(a,\"object\")&&\"[object Object]\"==\n",
       "a?e=a:null!=a&&(e={x:a,y:d,width:k,height:p},null!=b&&(e.rx=b,e.ry=q));return this.el(\"rect\",e)};w.circle=function(a,d,k){var p;z(a,\"object\")&&\"[object Object]\"==a?p=a:null!=a&&(p={cx:a,cy:d,r:k});return this.el(\"circle\",p)};var d=function(){function a(){this.parentNode.removeChild(this)}return function(d,k){var p=M.doc.createElement(\"img\"),b=M.doc.body;p.style.cssText=\"position:absolute;left:-9999em;top:-9999em\";p.onload=function(){k.call(p);p.onload=p.onerror=null;b.removeChild(p)};p.onerror=a;\n",
       "b.appendChild(p);p.src=d}}();w.image=function(f,n,k,p,b){var q=this.el(\"image\");if(z(f,\"object\")&&\"src\"in f)q.attr(f);else if(null!=f){var e={\"xlink:href\":f,preserveAspectRatio:\"none\"};null!=n&&null!=k&&(e.x=n,e.y=k);null!=p&&null!=b?(e.width=p,e.height=b):d(f,function(){a._.$(q.node,{width:this.offsetWidth,height:this.offsetHeight})});a._.$(q.node,e)}return q};w.ellipse=function(a,d,k,p){var b;z(a,\"object\")&&\"[object Object]\"==a?b=a:null!=a&&(b={cx:a,cy:d,rx:k,ry:p});return this.el(\"ellipse\",b)};\n",
       "w.path=function(a){var d;z(a,\"object\")&&!z(a,\"array\")?d=a:a&&(d={d:a});return this.el(\"path\",d)};w.group=w.g=function(a){var d=this.el(\"g\");1==arguments.length&&a&&!a.type?d.attr(a):arguments.length&&d.add(Array.prototype.slice.call(arguments,0));return d};w.svg=function(a,d,k,p,b,q,e,l){var r={};z(a,\"object\")&&null==d?r=a:(null!=a&&(r.x=a),null!=d&&(r.y=d),null!=k&&(r.width=k),null!=p&&(r.height=p),null!=b&&null!=q&&null!=e&&null!=l&&(r.viewBox=[b,q,e,l]));return this.el(\"svg\",r)};w.mask=function(a){var d=\n",
       "this.el(\"mask\");1==arguments.length&&a&&!a.type?d.attr(a):arguments.length&&d.add(Array.prototype.slice.call(arguments,0));return d};w.ptrn=function(a,d,k,p,b,q,e,l){if(z(a,\"object\"))var r=a;else arguments.length?(r={},null!=a&&(r.x=a),null!=d&&(r.y=d),null!=k&&(r.width=k),null!=p&&(r.height=p),null!=b&&null!=q&&null!=e&&null!=l&&(r.viewBox=[b,q,e,l])):r={patternUnits:\"userSpaceOnUse\"};return this.el(\"pattern\",r)};w.use=function(a){return null!=a?(make(\"use\",this.node),a instanceof v&&(a.attr(\"id\")||\n",
       "a.attr({id:ID()}),a=a.attr(\"id\")),this.el(\"use\",{\"xlink:href\":a})):v.prototype.use.call(this)};w.text=function(a,d,k){var p={};z(a,\"object\")?p=a:null!=a&&(p={x:a,y:d,text:k||\"\"});return this.el(\"text\",p)};w.line=function(a,d,k,p){var b={};z(a,\"object\")?b=a:null!=a&&(b={x1:a,x2:k,y1:d,y2:p});return this.el(\"line\",b)};w.polyline=function(a){1<arguments.length&&(a=Array.prototype.slice.call(arguments,0));var d={};z(a,\"object\")&&!z(a,\"array\")?d=a:null!=a&&(d={points:a});return this.el(\"polyline\",d)};\n",
       "w.polygon=function(a){1<arguments.length&&(a=Array.prototype.slice.call(arguments,0));var d={};z(a,\"object\")&&!z(a,\"array\")?d=a:null!=a&&(d={points:a});return this.el(\"polygon\",d)};(function(){function d(){return this.selectAll(\"stop\")}function n(b,d){var f=e(\"stop\"),k={offset:+d+\"%\"};b=a.color(b);k[\"stop-color\"]=b.hex;1>b.opacity&&(k[\"stop-opacity\"]=b.opacity);e(f,k);this.node.appendChild(f);return this}function u(){if(\"linearGradient\"==this.type){var b=e(this.node,\"x1\")||0,d=e(this.node,\"x2\")||\n",
       "1,f=e(this.node,\"y1\")||0,k=e(this.node,\"y2\")||0;return a._.box(b,f,math.abs(d-b),math.abs(k-f))}b=this.node.r||0;return a._.box((this.node.cx||0.5)-b,(this.node.cy||0.5)-b,2*b,2*b)}function p(a,d){function f(a,b){for(var d=(b-u)/(a-w),e=w;e<a;e++)h[e].offset=+(+u+d*(e-w)).toFixed(2);w=a;u=b}var n=k(\"snap.util.grad.parse\",null,d).firstDefined(),p;if(!n)return null;n.params.unshift(a);p=\"l\"==n.type.toLowerCase()?b.apply(0,n.params):q.apply(0,n.params);n.type!=n.type.toLowerCase()&&e(p.node,{gradientUnits:\"userSpaceOnUse\"});\n",
       "var h=n.stops,n=h.length,u=0,w=0;n--;for(var v=0;v<n;v++)\"offset\"in h[v]&&f(v,h[v].offset);h[n].offset=h[n].offset||100;f(n,h[n].offset);for(v=0;v<=n;v++){var y=h[v];p.addStop(y.color,y.offset)}return p}function b(b,k,p,q,w){b=a._.make(\"linearGradient\",b);b.stops=d;b.addStop=n;b.getBBox=u;null!=k&&e(b.node,{x1:k,y1:p,x2:q,y2:w});return b}function q(b,k,p,q,w,h){b=a._.make(\"radialGradient\",b);b.stops=d;b.addStop=n;b.getBBox=u;null!=k&&e(b.node,{cx:k,cy:p,r:q});null!=w&&null!=h&&e(b.node,{fx:w,fy:h});\n",
       "return b}var e=a._.$;w.gradient=function(a){return p(this.defs,a)};w.gradientLinear=function(a,d,e,f){return b(this.defs,a,d,e,f)};w.gradientRadial=function(a,b,d,e,f){return q(this.defs,a,b,d,e,f)};w.toString=function(){var b=this.node.ownerDocument,d=b.createDocumentFragment(),b=b.createElement(\"div\"),e=this.node.cloneNode(!0);d.appendChild(b);b.appendChild(e);a._.$(e,{xmlns:\"http://www.w3.org/2000/svg\"});b=b.innerHTML;d.removeChild(d.firstChild);return b};w.clear=function(){for(var a=this.node.firstChild,\n",
       "b;a;)b=a.nextSibling,\"defs\"!=a.tagName?a.parentNode.removeChild(a):w.clear.call({node:a}),a=b}})()});C.plugin(function(a,k,y,M){function A(a){var b=A.ps=A.ps||{};b[a]?b[a].sleep=100:b[a]={sleep:100};setTimeout(function(){for(var d in b)b[L](d)&&d!=a&&(b[d].sleep--,!b[d].sleep&&delete b[d])});return b[a]}function w(a,b,d,e){null==a&&(a=b=d=e=0);null==b&&(b=a.y,d=a.width,e=a.height,a=a.x);return{x:a,y:b,width:d,w:d,height:e,h:e,x2:a+d,y2:b+e,cx:a+d/2,cy:b+e/2,r1:F.min(d,e)/2,r2:F.max(d,e)/2,r0:F.sqrt(d*\n",
       "d+e*e)/2,path:s(a,b,d,e),vb:[a,b,d,e].join(\" \")}}function z(){return this.join(\",\").replace(N,\"$1\")}function d(a){a=C(a);a.toString=z;return a}function f(a,b,d,h,f,k,l,n,p){if(null==p)return e(a,b,d,h,f,k,l,n);if(0>p||e(a,b,d,h,f,k,l,n)<p)p=void 0;else{var q=0.5,O=1-q,s;for(s=e(a,b,d,h,f,k,l,n,O);0.01<Z(s-p);)q/=2,O+=(s<p?1:-1)*q,s=e(a,b,d,h,f,k,l,n,O);p=O}return u(a,b,d,h,f,k,l,n,p)}function n(b,d){function e(a){return+(+a).toFixed(3)}return a._.cacher(function(a,h,l){a instanceof k&&(a=a.attr(\"d\"));\n",
       "a=I(a);for(var n,p,D,q,O=\"\",s={},c=0,t=0,r=a.length;t<r;t++){D=a[t];if(\"M\"==D[0])n=+D[1],p=+D[2];else{q=f(n,p,D[1],D[2],D[3],D[4],D[5],D[6]);if(c+q>h){if(d&&!s.start){n=f(n,p,D[1],D[2],D[3],D[4],D[5],D[6],h-c);O+=[\"C\"+e(n.start.x),e(n.start.y),e(n.m.x),e(n.m.y),e(n.x),e(n.y)];if(l)return O;s.start=O;O=[\"M\"+e(n.x),e(n.y)+\"C\"+e(n.n.x),e(n.n.y),e(n.end.x),e(n.end.y),e(D[5]),e(D[6])].join();c+=q;n=+D[5];p=+D[6];continue}if(!b&&!d)return n=f(n,p,D[1],D[2],D[3],D[4],D[5],D[6],h-c)}c+=q;n=+D[5];p=+D[6]}O+=\n",
       "D.shift()+D}s.end=O;return n=b?c:d?s:u(n,p,D[0],D[1],D[2],D[3],D[4],D[5],1)},null,a._.clone)}function u(a,b,d,e,h,f,k,l,n){var p=1-n,q=ma(p,3),s=ma(p,2),c=n*n,t=c*n,r=q*a+3*s*n*d+3*p*n*n*h+t*k,q=q*b+3*s*n*e+3*p*n*n*f+t*l,s=a+2*n*(d-a)+c*(h-2*d+a),t=b+2*n*(e-b)+c*(f-2*e+b),x=d+2*n*(h-d)+c*(k-2*h+d),c=e+2*n*(f-e)+c*(l-2*f+e);a=p*a+n*d;b=p*b+n*e;h=p*h+n*k;f=p*f+n*l;l=90-180*F.atan2(s-x,t-c)/S;return{x:r,y:q,m:{x:s,y:t},n:{x:x,y:c},start:{x:a,y:b},end:{x:h,y:f},alpha:l}}function p(b,d,e,h,f,n,k,l){a.is(b,\n",
       "\"array\")||(b=[b,d,e,h,f,n,k,l]);b=U.apply(null,b);return w(b.min.x,b.min.y,b.max.x-b.min.x,b.max.y-b.min.y)}function b(a,b,d){return b>=a.x&&b<=a.x+a.width&&d>=a.y&&d<=a.y+a.height}function q(a,d){a=w(a);d=w(d);return b(d,a.x,a.y)||b(d,a.x2,a.y)||b(d,a.x,a.y2)||b(d,a.x2,a.y2)||b(a,d.x,d.y)||b(a,d.x2,d.y)||b(a,d.x,d.y2)||b(a,d.x2,d.y2)||(a.x<d.x2&&a.x>d.x||d.x<a.x2&&d.x>a.x)&&(a.y<d.y2&&a.y>d.y||d.y<a.y2&&d.y>a.y)}function e(a,b,d,e,h,f,n,k,l){null==l&&(l=1);l=(1<l?1:0>l?0:l)/2;for(var p=[-0.1252,\n",
       "0.1252,-0.3678,0.3678,-0.5873,0.5873,-0.7699,0.7699,-0.9041,0.9041,-0.9816,0.9816],q=[0.2491,0.2491,0.2335,0.2335,0.2032,0.2032,0.1601,0.1601,0.1069,0.1069,0.0472,0.0472],s=0,c=0;12>c;c++)var t=l*p[c]+l,r=t*(t*(-3*a+9*d-9*h+3*n)+6*a-12*d+6*h)-3*a+3*d,t=t*(t*(-3*b+9*e-9*f+3*k)+6*b-12*e+6*f)-3*b+3*e,s=s+q[c]*F.sqrt(r*r+t*t);return l*s}function l(a,b,d){a=I(a);b=I(b);for(var h,f,l,n,k,s,r,O,x,c,t=d?0:[],w=0,v=a.length;w<v;w++)if(x=a[w],\"M\"==x[0])h=k=x[1],f=s=x[2];else{\"C\"==x[0]?(x=[h,f].concat(x.slice(1)),\n",
       "h=x[6],f=x[7]):(x=[h,f,h,f,k,s,k,s],h=k,f=s);for(var G=0,y=b.length;G<y;G++)if(c=b[G],\"M\"==c[0])l=r=c[1],n=O=c[2];else{\"C\"==c[0]?(c=[l,n].concat(c.slice(1)),l=c[6],n=c[7]):(c=[l,n,l,n,r,O,r,O],l=r,n=O);var z;var K=x,B=c;z=d;var H=p(K),J=p(B);if(q(H,J)){for(var H=e.apply(0,K),J=e.apply(0,B),H=~~(H/8),J=~~(J/8),U=[],A=[],F={},M=z?0:[],P=0;P<H+1;P++){var C=u.apply(0,K.concat(P/H));U.push({x:C.x,y:C.y,t:P/H})}for(P=0;P<J+1;P++)C=u.apply(0,B.concat(P/J)),A.push({x:C.x,y:C.y,t:P/J});for(P=0;P<H;P++)for(K=\n",
       "0;K<J;K++){var Q=U[P],L=U[P+1],B=A[K],C=A[K+1],N=0.001>Z(L.x-Q.x)?\"y\":\"x\",S=0.001>Z(C.x-B.x)?\"y\":\"x\",R;R=Q.x;var Y=Q.y,V=L.x,ea=L.y,fa=B.x,ga=B.y,ha=C.x,ia=C.y;if(W(R,V)<X(fa,ha)||X(R,V)>W(fa,ha)||W(Y,ea)<X(ga,ia)||X(Y,ea)>W(ga,ia))R=void 0;else{var $=(R*ea-Y*V)*(fa-ha)-(R-V)*(fa*ia-ga*ha),aa=(R*ea-Y*V)*(ga-ia)-(Y-ea)*(fa*ia-ga*ha),ja=(R-V)*(ga-ia)-(Y-ea)*(fa-ha);if(ja){var $=$/ja,aa=aa/ja,ja=+$.toFixed(2),ba=+aa.toFixed(2);R=ja<+X(R,V).toFixed(2)||ja>+W(R,V).toFixed(2)||ja<+X(fa,ha).toFixed(2)||\n",
       "ja>+W(fa,ha).toFixed(2)||ba<+X(Y,ea).toFixed(2)||ba>+W(Y,ea).toFixed(2)||ba<+X(ga,ia).toFixed(2)||ba>+W(ga,ia).toFixed(2)?void 0:{x:$,y:aa}}else R=void 0}R&&F[R.x.toFixed(4)]!=R.y.toFixed(4)&&(F[R.x.toFixed(4)]=R.y.toFixed(4),Q=Q.t+Z((R[N]-Q[N])/(L[N]-Q[N]))*(L.t-Q.t),B=B.t+Z((R[S]-B[S])/(C[S]-B[S]))*(C.t-B.t),0<=Q&&1>=Q&&0<=B&&1>=B&&(z?M++:M.push({x:R.x,y:R.y,t1:Q,t2:B})))}z=M}else z=z?0:[];if(d)t+=z;else{H=0;for(J=z.length;H<J;H++)z[H].segment1=w,z[H].segment2=G,z[H].bez1=x,z[H].bez2=c;t=t.concat(z)}}}return t}\n",
       "function r(a){var b=A(a);if(b.bbox)return C(b.bbox);if(!a)return w();a=I(a);for(var d=0,e=0,h=[],f=[],l,n=0,k=a.length;n<k;n++)l=a[n],\"M\"==l[0]?(d=l[1],e=l[2],h.push(d),f.push(e)):(d=U(d,e,l[1],l[2],l[3],l[4],l[5],l[6]),h=h.concat(d.min.x,d.max.x),f=f.concat(d.min.y,d.max.y),d=l[5],e=l[6]);a=X.apply(0,h);l=X.apply(0,f);h=W.apply(0,h);f=W.apply(0,f);f=w(a,l,h-a,f-l);b.bbox=C(f);return f}function s(a,b,d,e,h){if(h)return[[\"M\",+a+ +h,b],[\"l\",d-2*h,0],[\"a\",h,h,0,0,1,h,h],[\"l\",0,e-2*h],[\"a\",h,h,0,0,1,\n",
       "-h,h],[\"l\",2*h-d,0],[\"a\",h,h,0,0,1,-h,-h],[\"l\",0,2*h-e],[\"a\",h,h,0,0,1,h,-h],[\"z\"] ];a=[[\"M\",a,b],[\"l\",d,0],[\"l\",0,e],[\"l\",-d,0],[\"z\"] ];a.toString=z;return a}function x(a,b,d,e,h){null==h&&null==e&&(e=d);a=+a;b=+b;d=+d;e=+e;if(null!=h){var f=Math.PI/180,l=a+d*Math.cos(-e*f);a+=d*Math.cos(-h*f);var n=b+d*Math.sin(-e*f);b+=d*Math.sin(-h*f);d=[[\"M\",l,n],[\"A\",d,d,0,+(180<h-e),0,a,b] ]}else d=[[\"M\",a,b],[\"m\",0,-e],[\"a\",d,e,0,1,1,0,2*e],[\"a\",d,e,0,1,1,0,-2*e],[\"z\"] ];d.toString=z;return d}function G(b){var e=\n",
       "A(b);if(e.abs)return d(e.abs);Q(b,\"array\")&&Q(b&&b[0],\"array\")||(b=a.parsePathString(b));if(!b||!b.length)return[[\"M\",0,0] ];var h=[],f=0,l=0,n=0,k=0,p=0;\"M\"==b[0][0]&&(f=+b[0][1],l=+b[0][2],n=f,k=l,p++,h[0]=[\"M\",f,l]);for(var q=3==b.length&&\"M\"==b[0][0]&&\"R\"==b[1][0].toUpperCase()&&\"Z\"==b[2][0].toUpperCase(),s,r,w=p,c=b.length;w<c;w++){h.push(s=[]);r=b[w];p=r[0];if(p!=p.toUpperCase())switch(s[0]=p.toUpperCase(),s[0]){case \"A\":s[1]=r[1];s[2]=r[2];s[3]=r[3];s[4]=r[4];s[5]=r[5];s[6]=+r[6]+f;s[7]=+r[7]+\n",
       "l;break;case \"V\":s[1]=+r[1]+l;break;case \"H\":s[1]=+r[1]+f;break;case \"R\":for(var t=[f,l].concat(r.slice(1)),u=2,v=t.length;u<v;u++)t[u]=+t[u]+f,t[++u]=+t[u]+l;h.pop();h=h.concat(P(t,q));break;case \"O\":h.pop();t=x(f,l,r[1],r[2]);t.push(t[0]);h=h.concat(t);break;case \"U\":h.pop();h=h.concat(x(f,l,r[1],r[2],r[3]));s=[\"U\"].concat(h[h.length-1].slice(-2));break;case \"M\":n=+r[1]+f,k=+r[2]+l;default:for(u=1,v=r.length;u<v;u++)s[u]=+r[u]+(u%2?f:l)}else if(\"R\"==p)t=[f,l].concat(r.slice(1)),h.pop(),h=h.concat(P(t,\n",
       "q)),s=[\"R\"].concat(r.slice(-2));else if(\"O\"==p)h.pop(),t=x(f,l,r[1],r[2]),t.push(t[0]),h=h.concat(t);else if(\"U\"==p)h.pop(),h=h.concat(x(f,l,r[1],r[2],r[3])),s=[\"U\"].concat(h[h.length-1].slice(-2));else for(t=0,u=r.length;t<u;t++)s[t]=r[t];p=p.toUpperCase();if(\"O\"!=p)switch(s[0]){case \"Z\":f=+n;l=+k;break;case \"H\":f=s[1];break;case \"V\":l=s[1];break;case \"M\":n=s[s.length-2],k=s[s.length-1];default:f=s[s.length-2],l=s[s.length-1]}}h.toString=z;e.abs=d(h);return h}function h(a,b,d,e){return[a,b,d,e,d,\n",
       "e]}function J(a,b,d,e,h,f){var l=1/3,n=2/3;return[l*a+n*d,l*b+n*e,l*h+n*d,l*f+n*e,h,f]}function K(b,d,e,h,f,l,n,k,p,s){var r=120*S/180,q=S/180*(+f||0),c=[],t,x=a._.cacher(function(a,b,c){var d=a*F.cos(c)-b*F.sin(c);a=a*F.sin(c)+b*F.cos(c);return{x:d,y:a}});if(s)v=s[0],t=s[1],l=s[2],u=s[3];else{t=x(b,d,-q);b=t.x;d=t.y;t=x(k,p,-q);k=t.x;p=t.y;F.cos(S/180*f);F.sin(S/180*f);t=(b-k)/2;v=(d-p)/2;u=t*t/(e*e)+v*v/(h*h);1<u&&(u=F.sqrt(u),e*=u,h*=u);var u=e*e,w=h*h,u=(l==n?-1:1)*F.sqrt(Z((u*w-u*v*v-w*t*t)/\n",
       "(u*v*v+w*t*t)));l=u*e*v/h+(b+k)/2;var u=u*-h*t/e+(d+p)/2,v=F.asin(((d-u)/h).toFixed(9));t=F.asin(((p-u)/h).toFixed(9));v=b<l?S-v:v;t=k<l?S-t:t;0>v&&(v=2*S+v);0>t&&(t=2*S+t);n&&v>t&&(v-=2*S);!n&&t>v&&(t-=2*S)}if(Z(t-v)>r){var c=t,w=k,G=p;t=v+r*(n&&t>v?1:-1);k=l+e*F.cos(t);p=u+h*F.sin(t);c=K(k,p,e,h,f,0,n,w,G,[t,c,l,u])}l=t-v;f=F.cos(v);r=F.sin(v);n=F.cos(t);t=F.sin(t);l=F.tan(l/4);e=4/3*e*l;l*=4/3*h;h=[b,d];b=[b+e*r,d-l*f];d=[k+e*t,p-l*n];k=[k,p];b[0]=2*h[0]-b[0];b[1]=2*h[1]-b[1];if(s)return[b,d,k].concat(c);\n",
       "c=[b,d,k].concat(c).join().split(\",\");s=[];k=0;for(p=c.length;k<p;k++)s[k]=k%2?x(c[k-1],c[k],q).y:x(c[k],c[k+1],q).x;return s}function U(a,b,d,e,h,f,l,k){for(var n=[],p=[[],[] ],s,r,c,t,q=0;2>q;++q)0==q?(r=6*a-12*d+6*h,s=-3*a+9*d-9*h+3*l,c=3*d-3*a):(r=6*b-12*e+6*f,s=-3*b+9*e-9*f+3*k,c=3*e-3*b),1E-12>Z(s)?1E-12>Z(r)||(s=-c/r,0<s&&1>s&&n.push(s)):(t=r*r-4*c*s,c=F.sqrt(t),0>t||(t=(-r+c)/(2*s),0<t&&1>t&&n.push(t),s=(-r-c)/(2*s),0<s&&1>s&&n.push(s)));for(r=q=n.length;q--;)s=n[q],c=1-s,p[0][q]=c*c*c*a+3*\n",
       "c*c*s*d+3*c*s*s*h+s*s*s*l,p[1][q]=c*c*c*b+3*c*c*s*e+3*c*s*s*f+s*s*s*k;p[0][r]=a;p[1][r]=b;p[0][r+1]=l;p[1][r+1]=k;p[0].length=p[1].length=r+2;return{min:{x:X.apply(0,p[0]),y:X.apply(0,p[1])},max:{x:W.apply(0,p[0]),y:W.apply(0,p[1])}}}function I(a,b){var e=!b&&A(a);if(!b&&e.curve)return d(e.curve);var f=G(a),l=b&&G(b),n={x:0,y:0,bx:0,by:0,X:0,Y:0,qx:null,qy:null},k={x:0,y:0,bx:0,by:0,X:0,Y:0,qx:null,qy:null},p=function(a,b,c){if(!a)return[\"C\",b.x,b.y,b.x,b.y,b.x,b.y];a[0]in{T:1,Q:1}||(b.qx=b.qy=null);\n",
       "switch(a[0]){case \"M\":b.X=a[1];b.Y=a[2];break;case \"A\":a=[\"C\"].concat(K.apply(0,[b.x,b.y].concat(a.slice(1))));break;case \"S\":\"C\"==c||\"S\"==c?(c=2*b.x-b.bx,b=2*b.y-b.by):(c=b.x,b=b.y);a=[\"C\",c,b].concat(a.slice(1));break;case \"T\":\"Q\"==c||\"T\"==c?(b.qx=2*b.x-b.qx,b.qy=2*b.y-b.qy):(b.qx=b.x,b.qy=b.y);a=[\"C\"].concat(J(b.x,b.y,b.qx,b.qy,a[1],a[2]));break;case \"Q\":b.qx=a[1];b.qy=a[2];a=[\"C\"].concat(J(b.x,b.y,a[1],a[2],a[3],a[4]));break;case \"L\":a=[\"C\"].concat(h(b.x,b.y,a[1],a[2]));break;case \"H\":a=[\"C\"].concat(h(b.x,\n",
       "b.y,a[1],b.y));break;case \"V\":a=[\"C\"].concat(h(b.x,b.y,b.x,a[1]));break;case \"Z\":a=[\"C\"].concat(h(b.x,b.y,b.X,b.Y))}return a},s=function(a,b){if(7<a[b].length){a[b].shift();for(var c=a[b];c.length;)q[b]=\"A\",l&&(u[b]=\"A\"),a.splice(b++,0,[\"C\"].concat(c.splice(0,6)));a.splice(b,1);v=W(f.length,l&&l.length||0)}},r=function(a,b,c,d,e){a&&b&&\"M\"==a[e][0]&&\"M\"!=b[e][0]&&(b.splice(e,0,[\"M\",d.x,d.y]),c.bx=0,c.by=0,c.x=a[e][1],c.y=a[e][2],v=W(f.length,l&&l.length||0))},q=[],u=[],c=\"\",t=\"\",x=0,v=W(f.length,\n",
       "l&&l.length||0);for(;x<v;x++){f[x]&&(c=f[x][0]);\"C\"!=c&&(q[x]=c,x&&(t=q[x-1]));f[x]=p(f[x],n,t);\"A\"!=q[x]&&\"C\"==c&&(q[x]=\"C\");s(f,x);l&&(l[x]&&(c=l[x][0]),\"C\"!=c&&(u[x]=c,x&&(t=u[x-1])),l[x]=p(l[x],k,t),\"A\"!=u[x]&&\"C\"==c&&(u[x]=\"C\"),s(l,x));r(f,l,n,k,x);r(l,f,k,n,x);var w=f[x],z=l&&l[x],y=w.length,U=l&&z.length;n.x=w[y-2];n.y=w[y-1];n.bx=$(w[y-4])||n.x;n.by=$(w[y-3])||n.y;k.bx=l&&($(z[U-4])||k.x);k.by=l&&($(z[U-3])||k.y);k.x=l&&z[U-2];k.y=l&&z[U-1]}l||(e.curve=d(f));return l?[f,l]:f}function P(a,\n",
       "b){for(var d=[],e=0,h=a.length;h-2*!b>e;e+=2){var f=[{x:+a[e-2],y:+a[e-1]},{x:+a[e],y:+a[e+1]},{x:+a[e+2],y:+a[e+3]},{x:+a[e+4],y:+a[e+5]}];b?e?h-4==e?f[3]={x:+a[0],y:+a[1]}:h-2==e&&(f[2]={x:+a[0],y:+a[1]},f[3]={x:+a[2],y:+a[3]}):f[0]={x:+a[h-2],y:+a[h-1]}:h-4==e?f[3]=f[2]:e||(f[0]={x:+a[e],y:+a[e+1]});d.push([\"C\",(-f[0].x+6*f[1].x+f[2].x)/6,(-f[0].y+6*f[1].y+f[2].y)/6,(f[1].x+6*f[2].x-f[3].x)/6,(f[1].y+6*f[2].y-f[3].y)/6,f[2].x,f[2].y])}return d}y=k.prototype;var Q=a.is,C=a._.clone,L=\"hasOwnProperty\",\n",
       "N=/,?([a-z]),?/gi,$=parseFloat,F=Math,S=F.PI,X=F.min,W=F.max,ma=F.pow,Z=F.abs;M=n(1);var na=n(),ba=n(0,1),V=a._unit2px;a.path=A;a.path.getTotalLength=M;a.path.getPointAtLength=na;a.path.getSubpath=function(a,b,d){if(1E-6>this.getTotalLength(a)-d)return ba(a,b).end;a=ba(a,d,1);return b?ba(a,b).end:a};y.getTotalLength=function(){if(this.node.getTotalLength)return this.node.getTotalLength()};y.getPointAtLength=function(a){return na(this.attr(\"d\"),a)};y.getSubpath=function(b,d){return a.path.getSubpath(this.attr(\"d\"),\n",
       "b,d)};a._.box=w;a.path.findDotsAtSegment=u;a.path.bezierBBox=p;a.path.isPointInsideBBox=b;a.path.isBBoxIntersect=q;a.path.intersection=function(a,b){return l(a,b)};a.path.intersectionNumber=function(a,b){return l(a,b,1)};a.path.isPointInside=function(a,d,e){var h=r(a);return b(h,d,e)&&1==l(a,[[\"M\",d,e],[\"H\",h.x2+10] ],1)%2};a.path.getBBox=r;a.path.get={path:function(a){return a.attr(\"path\")},circle:function(a){a=V(a);return x(a.cx,a.cy,a.r)},ellipse:function(a){a=V(a);return x(a.cx||0,a.cy||0,a.rx,\n",
       "a.ry)},rect:function(a){a=V(a);return s(a.x||0,a.y||0,a.width,a.height,a.rx,a.ry)},image:function(a){a=V(a);return s(a.x||0,a.y||0,a.width,a.height)},line:function(a){return\"M\"+[a.attr(\"x1\")||0,a.attr(\"y1\")||0,a.attr(\"x2\"),a.attr(\"y2\")]},polyline:function(a){return\"M\"+a.attr(\"points\")},polygon:function(a){return\"M\"+a.attr(\"points\")+\"z\"},deflt:function(a){a=a.node.getBBox();return s(a.x,a.y,a.width,a.height)}};a.path.toRelative=function(b){var e=A(b),h=String.prototype.toLowerCase;if(e.rel)return d(e.rel);\n",
       "a.is(b,\"array\")&&a.is(b&&b[0],\"array\")||(b=a.parsePathString(b));var f=[],l=0,n=0,k=0,p=0,s=0;\"M\"==b[0][0]&&(l=b[0][1],n=b[0][2],k=l,p=n,s++,f.push([\"M\",l,n]));for(var r=b.length;s<r;s++){var q=f[s]=[],x=b[s];if(x[0]!=h.call(x[0]))switch(q[0]=h.call(x[0]),q[0]){case \"a\":q[1]=x[1];q[2]=x[2];q[3]=x[3];q[4]=x[4];q[5]=x[5];q[6]=+(x[6]-l).toFixed(3);q[7]=+(x[7]-n).toFixed(3);break;case \"v\":q[1]=+(x[1]-n).toFixed(3);break;case \"m\":k=x[1],p=x[2];default:for(var c=1,t=x.length;c<t;c++)q[c]=+(x[c]-(c%2?l:\n",
       "n)).toFixed(3)}else for(f[s]=[],\"m\"==x[0]&&(k=x[1]+l,p=x[2]+n),q=0,c=x.length;q<c;q++)f[s][q]=x[q];x=f[s].length;switch(f[s][0]){case \"z\":l=k;n=p;break;case \"h\":l+=+f[s][x-1];break;case \"v\":n+=+f[s][x-1];break;default:l+=+f[s][x-2],n+=+f[s][x-1]}}f.toString=z;e.rel=d(f);return f};a.path.toAbsolute=G;a.path.toCubic=I;a.path.map=function(a,b){if(!b)return a;var d,e,h,f,l,n,k;a=I(a);h=0;for(l=a.length;h<l;h++)for(k=a[h],f=1,n=k.length;f<n;f+=2)d=b.x(k[f],k[f+1]),e=b.y(k[f],k[f+1]),k[f]=d,k[f+1]=e;return a};\n",
       "a.path.toString=z;a.path.clone=d});C.plugin(function(a,v,y,C){var A=Math.max,w=Math.min,z=function(a){this.items=[];this.bindings={};this.length=0;this.type=\"set\";if(a)for(var f=0,n=a.length;f<n;f++)a[f]&&(this[this.items.length]=this.items[this.items.length]=a[f],this.length++)};v=z.prototype;v.push=function(){for(var a,f,n=0,k=arguments.length;n<k;n++)if(a=arguments[n])f=this.items.length,this[f]=this.items[f]=a,this.length++;return this};v.pop=function(){this.length&&delete this[this.length--];\n",
       "return this.items.pop()};v.forEach=function(a,f){for(var n=0,k=this.items.length;n<k&&!1!==a.call(f,this.items[n],n);n++);return this};v.animate=function(d,f,n,u){\"function\"!=typeof n||n.length||(u=n,n=L.linear);d instanceof a._.Animation&&(u=d.callback,n=d.easing,f=n.dur,d=d.attr);var p=arguments;if(a.is(d,\"array\")&&a.is(p[p.length-1],\"array\"))var b=!0;var q,e=function(){q?this.b=q:q=this.b},l=0,r=u&&function(){l++==this.length&&u.call(this)};return this.forEach(function(a,l){k.once(\"snap.animcreated.\"+\n",
       "a.id,e);b?p[l]&&a.animate.apply(a,p[l]):a.animate(d,f,n,r)})};v.remove=function(){for(;this.length;)this.pop().remove();return this};v.bind=function(a,f,k){var u={};if(\"function\"==typeof f)this.bindings[a]=f;else{var p=k||a;this.bindings[a]=function(a){u[p]=a;f.attr(u)}}return this};v.attr=function(a){var f={},k;for(k in a)if(this.bindings[k])this.bindings[k](a[k]);else f[k]=a[k];a=0;for(k=this.items.length;a<k;a++)this.items[a].attr(f);return this};v.clear=function(){for(;this.length;)this.pop()};\n",
       "v.splice=function(a,f,k){a=0>a?A(this.length+a,0):a;f=A(0,w(this.length-a,f));var u=[],p=[],b=[],q;for(q=2;q<arguments.length;q++)b.push(arguments[q]);for(q=0;q<f;q++)p.push(this[a+q]);for(;q<this.length-a;q++)u.push(this[a+q]);var e=b.length;for(q=0;q<e+u.length;q++)this.items[a+q]=this[a+q]=q<e?b[q]:u[q-e];for(q=this.items.length=this.length-=f-e;this[q];)delete this[q++];return new z(p)};v.exclude=function(a){for(var f=0,k=this.length;f<k;f++)if(this[f]==a)return this.splice(f,1),!0;return!1};\n",
       "v.insertAfter=function(a){for(var f=this.items.length;f--;)this.items[f].insertAfter(a);return this};v.getBBox=function(){for(var a=[],f=[],k=[],u=[],p=this.items.length;p--;)if(!this.items[p].removed){var b=this.items[p].getBBox();a.push(b.x);f.push(b.y);k.push(b.x+b.width);u.push(b.y+b.height)}a=w.apply(0,a);f=w.apply(0,f);k=A.apply(0,k);u=A.apply(0,u);return{x:a,y:f,x2:k,y2:u,width:k-a,height:u-f,cx:a+(k-a)/2,cy:f+(u-f)/2}};v.clone=function(a){a=new z;for(var f=0,k=this.items.length;f<k;f++)a.push(this.items[f].clone());\n",
       "return a};v.toString=function(){return\"Snap\\u2018s set\"};v.type=\"set\";a.set=function(){var a=new z;arguments.length&&a.push.apply(a,Array.prototype.slice.call(arguments,0));return a}});C.plugin(function(a,v,y,C){function A(a){var b=a[0];switch(b.toLowerCase()){case \"t\":return[b,0,0];case \"m\":return[b,1,0,0,1,0,0];case \"r\":return 4==a.length?[b,0,a[2],a[3] ]:[b,0];case \"s\":return 5==a.length?[b,1,1,a[3],a[4] ]:3==a.length?[b,1,1]:[b,1]}}function w(b,d,f){d=q(d).replace(/\\.{3}|\\u2026/g,b);b=a.parseTransformString(b)||\n",
       "[];d=a.parseTransformString(d)||[];for(var k=Math.max(b.length,d.length),p=[],v=[],h=0,w,z,y,I;h<k;h++){y=b[h]||A(d[h]);I=d[h]||A(y);if(y[0]!=I[0]||\"r\"==y[0].toLowerCase()&&(y[2]!=I[2]||y[3]!=I[3])||\"s\"==y[0].toLowerCase()&&(y[3]!=I[3]||y[4]!=I[4])){b=a._.transform2matrix(b,f());d=a._.transform2matrix(d,f());p=[[\"m\",b.a,b.b,b.c,b.d,b.e,b.f] ];v=[[\"m\",d.a,d.b,d.c,d.d,d.e,d.f] ];break}p[h]=[];v[h]=[];w=0;for(z=Math.max(y.length,I.length);w<z;w++)w in y&&(p[h][w]=y[w]),w in I&&(v[h][w]=I[w])}return{from:u(p),\n",
       "to:u(v),f:n(p)}}function z(a){return a}function d(a){return function(b){return+b.toFixed(3)+a}}function f(b){return a.rgb(b[0],b[1],b[2])}function n(a){var b=0,d,f,k,n,h,p,q=[];d=0;for(f=a.length;d<f;d++){h=\"[\";p=['\"'+a[d][0]+'\"'];k=1;for(n=a[d].length;k<n;k++)p[k]=\"val[\"+b++ +\"]\";h+=p+\"]\";q[d]=h}return Function(\"val\",\"return Snap.path.toString.call([\"+q+\"])\")}function u(a){for(var b=[],d=0,f=a.length;d<f;d++)for(var k=1,n=a[d].length;k<n;k++)b.push(a[d][k]);return b}var p={},b=/[a-z]+$/i,q=String;\n",
       "p.stroke=p.fill=\"colour\";v.prototype.equal=function(a,b){return k(\"snap.util.equal\",this,a,b).firstDefined()};k.on(\"snap.util.equal\",function(e,k){var r,s;r=q(this.attr(e)||\"\");var x=this;if(r==+r&&k==+k)return{from:+r,to:+k,f:z};if(\"colour\"==p[e])return r=a.color(r),s=a.color(k),{from:[r.r,r.g,r.b,r.opacity],to:[s.r,s.g,s.b,s.opacity],f:f};if(\"transform\"==e||\"gradientTransform\"==e||\"patternTransform\"==e)return k instanceof a.Matrix&&(k=k.toTransformString()),a._.rgTransform.test(k)||(k=a._.svgTransform2string(k)),\n",
       "w(r,k,function(){return x.getBBox(1)});if(\"d\"==e||\"path\"==e)return r=a.path.toCubic(r,k),{from:u(r[0]),to:u(r[1]),f:n(r[0])};if(\"points\"==e)return r=q(r).split(a._.separator),s=q(k).split(a._.separator),{from:r,to:s,f:function(a){return a}};aUnit=r.match(b);s=q(k).match(b);return aUnit&&aUnit==s?{from:parseFloat(r),to:parseFloat(k),f:d(aUnit)}:{from:this.asPX(e),to:this.asPX(e,k),f:z}})});C.plugin(function(a,v,y,C){var A=v.prototype,w=\"createTouch\"in C.doc;v=\"click dblclick mousedown mousemove mouseout mouseover mouseup touchstart touchmove touchend touchcancel\".split(\" \");\n",
       "var z={mousedown:\"touchstart\",mousemove:\"touchmove\",mouseup:\"touchend\"},d=function(a,b){var d=\"y\"==a?\"scrollTop\":\"scrollLeft\",e=b&&b.node?b.node.ownerDocument:C.doc;return e[d in e.documentElement?\"documentElement\":\"body\"][d]},f=function(){this.returnValue=!1},n=function(){return this.originalEvent.preventDefault()},u=function(){this.cancelBubble=!0},p=function(){return this.originalEvent.stopPropagation()},b=function(){if(C.doc.addEventListener)return function(a,b,e,f){var k=w&&z[b]?z[b]:b,l=function(k){var l=\n",
       "d(\"y\",f),q=d(\"x\",f);if(w&&z.hasOwnProperty(b))for(var r=0,u=k.targetTouches&&k.targetTouches.length;r<u;r++)if(k.targetTouches[r].target==a||a.contains(k.targetTouches[r].target)){u=k;k=k.targetTouches[r];k.originalEvent=u;k.preventDefault=n;k.stopPropagation=p;break}return e.call(f,k,k.clientX+q,k.clientY+l)};b!==k&&a.addEventListener(b,l,!1);a.addEventListener(k,l,!1);return function(){b!==k&&a.removeEventListener(b,l,!1);a.removeEventListener(k,l,!1);return!0}};if(C.doc.attachEvent)return function(a,\n",
       "b,e,h){var k=function(a){a=a||h.node.ownerDocument.window.event;var b=d(\"y\",h),k=d(\"x\",h),k=a.clientX+k,b=a.clientY+b;a.preventDefault=a.preventDefault||f;a.stopPropagation=a.stopPropagation||u;return e.call(h,a,k,b)};a.attachEvent(\"on\"+b,k);return function(){a.detachEvent(\"on\"+b,k);return!0}}}(),q=[],e=function(a){for(var b=a.clientX,e=a.clientY,f=d(\"y\"),l=d(\"x\"),n,p=q.length;p--;){n=q[p];if(w)for(var r=a.touches&&a.touches.length,u;r--;){if(u=a.touches[r],u.identifier==n.el._drag.id||n.el.node.contains(u.target)){b=\n",
       "u.clientX;e=u.clientY;(a.originalEvent?a.originalEvent:a).preventDefault();break}}else a.preventDefault();b+=l;e+=f;k(\"snap.drag.move.\"+n.el.id,n.move_scope||n.el,b-n.el._drag.x,e-n.el._drag.y,b,e,a)}},l=function(b){a.unmousemove(e).unmouseup(l);for(var d=q.length,f;d--;)f=q[d],f.el._drag={},k(\"snap.drag.end.\"+f.el.id,f.end_scope||f.start_scope||f.move_scope||f.el,b);q=[]};for(y=v.length;y--;)(function(d){a[d]=A[d]=function(e,f){a.is(e,\"function\")&&(this.events=this.events||[],this.events.push({name:d,\n",
       "f:e,unbind:b(this.node||document,d,e,f||this)}));return this};a[\"un\"+d]=A[\"un\"+d]=function(a){for(var b=this.events||[],e=b.length;e--;)if(b[e].name==d&&(b[e].f==a||!a)){b[e].unbind();b.splice(e,1);!b.length&&delete this.events;break}return this}})(v[y]);A.hover=function(a,b,d,e){return this.mouseover(a,d).mouseout(b,e||d)};A.unhover=function(a,b){return this.unmouseover(a).unmouseout(b)};var r=[];A.drag=function(b,d,f,h,n,p){function u(r,v,w){(r.originalEvent||r).preventDefault();this._drag.x=v;\n",
       "this._drag.y=w;this._drag.id=r.identifier;!q.length&&a.mousemove(e).mouseup(l);q.push({el:this,move_scope:h,start_scope:n,end_scope:p});d&&k.on(\"snap.drag.start.\"+this.id,d);b&&k.on(\"snap.drag.move.\"+this.id,b);f&&k.on(\"snap.drag.end.\"+this.id,f);k(\"snap.drag.start.\"+this.id,n||h||this,v,w,r)}if(!arguments.length){var v;return this.drag(function(a,b){this.attr({transform:v+(v?\"T\":\"t\")+[a,b]})},function(){v=this.transform().local})}this._drag={};r.push({el:this,start:u});this.mousedown(u);return this};\n",
       "A.undrag=function(){for(var b=r.length;b--;)r[b].el==this&&(this.unmousedown(r[b].start),r.splice(b,1),k.unbind(\"snap.drag.*.\"+this.id));!r.length&&a.unmousemove(e).unmouseup(l);return this}});C.plugin(function(a,v,y,C){y=y.prototype;var A=/^\\s*url\\((.+)\\)/,w=String,z=a._.$;a.filter={};y.filter=function(d){var f=this;\"svg\"!=f.type&&(f=f.paper);d=a.parse(w(d));var k=a._.id(),u=z(\"filter\");z(u,{id:k,filterUnits:\"userSpaceOnUse\"});u.appendChild(d.node);f.defs.appendChild(u);return new v(u)};k.on(\"snap.util.getattr.filter\",\n",
       "function(){k.stop();var d=z(this.node,\"filter\");if(d)return(d=w(d).match(A))&&a.select(d[1])});k.on(\"snap.util.attr.filter\",function(d){if(d instanceof v&&\"filter\"==d.type){k.stop();var f=d.node.id;f||(z(d.node,{id:d.id}),f=d.id);z(this.node,{filter:a.url(f)})}d&&\"none\"!=d||(k.stop(),this.node.removeAttribute(\"filter\"))});a.filter.blur=function(d,f){null==d&&(d=2);return a.format('<feGaussianBlur stdDeviation=\"{def}\"/>',{def:null==f?d:[d,f]})};a.filter.blur.toString=function(){return this()};a.filter.shadow=\n",
       "function(d,f,k,u,p){\"string\"==typeof k&&(p=u=k,k=4);\"string\"!=typeof u&&(p=u,u=\"#000\");null==k&&(k=4);null==p&&(p=1);null==d&&(d=0,f=2);null==f&&(f=d);u=a.color(u||\"#000\");return a.format('<feGaussianBlur in=\"SourceAlpha\" stdDeviation=\"{blur}\"/><feOffset dx=\"{dx}\" dy=\"{dy}\" result=\"offsetblur\"/><feFlood flood-color=\"{color}\"/><feComposite in2=\"offsetblur\" operator=\"in\"/><feComponentTransfer><feFuncA type=\"linear\" slope=\"{opacity}\"/></feComponentTransfer><feMerge><feMergeNode/><feMergeNode in=\"SourceGraphic\"/></feMerge>',\n",
       "{color:u,dx:d,dy:f,blur:k,opacity:p})};a.filter.shadow.toString=function(){return this()};a.filter.grayscale=function(d){null==d&&(d=1);return a.format('<feColorMatrix type=\"matrix\" values=\"{a} {b} {c} 0 0 {d} {e} {f} 0 0 {g} {b} {h} 0 0 0 0 0 1 0\"/>',{a:0.2126+0.7874*(1-d),b:0.7152-0.7152*(1-d),c:0.0722-0.0722*(1-d),d:0.2126-0.2126*(1-d),e:0.7152+0.2848*(1-d),f:0.0722-0.0722*(1-d),g:0.2126-0.2126*(1-d),h:0.0722+0.9278*(1-d)})};a.filter.grayscale.toString=function(){return this()};a.filter.sepia=\n",
       "function(d){null==d&&(d=1);return a.format('<feColorMatrix type=\"matrix\" values=\"{a} {b} {c} 0 0 {d} {e} {f} 0 0 {g} {h} {i} 0 0 0 0 0 1 0\"/>',{a:0.393+0.607*(1-d),b:0.769-0.769*(1-d),c:0.189-0.189*(1-d),d:0.349-0.349*(1-d),e:0.686+0.314*(1-d),f:0.168-0.168*(1-d),g:0.272-0.272*(1-d),h:0.534-0.534*(1-d),i:0.131+0.869*(1-d)})};a.filter.sepia.toString=function(){return this()};a.filter.saturate=function(d){null==d&&(d=1);return a.format('<feColorMatrix type=\"saturate\" values=\"{amount}\"/>',{amount:1-\n",
       "d})};a.filter.saturate.toString=function(){return this()};a.filter.hueRotate=function(d){return a.format('<feColorMatrix type=\"hueRotate\" values=\"{angle}\"/>',{angle:d||0})};a.filter.hueRotate.toString=function(){return this()};a.filter.invert=function(d){null==d&&(d=1);return a.format('<feComponentTransfer><feFuncR type=\"table\" tableValues=\"{amount} {amount2}\"/><feFuncG type=\"table\" tableValues=\"{amount} {amount2}\"/><feFuncB type=\"table\" tableValues=\"{amount} {amount2}\"/></feComponentTransfer>',{amount:d,\n",
       "amount2:1-d})};a.filter.invert.toString=function(){return this()};a.filter.brightness=function(d){null==d&&(d=1);return a.format('<feComponentTransfer><feFuncR type=\"linear\" slope=\"{amount}\"/><feFuncG type=\"linear\" slope=\"{amount}\"/><feFuncB type=\"linear\" slope=\"{amount}\"/></feComponentTransfer>',{amount:d})};a.filter.brightness.toString=function(){return this()};a.filter.contrast=function(d){null==d&&(d=1);return a.format('<feComponentTransfer><feFuncR type=\"linear\" slope=\"{amount}\" intercept=\"{amount2}\"/><feFuncG type=\"linear\" slope=\"{amount}\" intercept=\"{amount2}\"/><feFuncB type=\"linear\" slope=\"{amount}\" intercept=\"{amount2}\"/></feComponentTransfer>',\n",
       "{amount:d,amount2:0.5-d/2})};a.filter.contrast.toString=function(){return this()}});return C});\n",
       "\n",
       "]]> </script>\n",
       "</svg>\n"
      ],
      "text/plain": [
       "Compose.Context(BBox{l,t,r,b,w,h = 0.0w,0.0h, 1.0w,1.0h, 1.0w,1.0h}, Compose.UnitBox{Float64, Float64, Float64, Float64}(-1.2, -1.2, 2.4, 2.4, 0.0mm, 0.0mm, 0.0mm, 0.0mm), nothing, nothing, nothing, List([Compose.Context(BBox{l,t,r,b,w,h = 0.0w,0.0h, 1.0w,1.0h, 1.0w,1.0h}, Compose.UnitBox{Float64, Float64, Float64, Float64}(-1.2, -1.2, 2.4, 2.4, 0.0mm, 0.0mm, 0.0mm, 0.0mm), nothing, nothing, nothing, List([]), List([Compose.Form{Compose.RectanglePrimitive{Tuple{Measures.Length{:cx, Float64}, Measures.Length{:cy, Float64}}, Measures.Length{:cx, Float64}, Measures.Length{:cy, Float64}}}(Compose.RectanglePrimitive{Tuple{Measures.Length{:cx, Float64}, Measures.Length{:cy, Float64}}, Measures.Length{:cx, Float64}, Measures.Length{:cy, Float64}}[Compose.RectanglePrimitive{Tuple{Measures.Length{:cx, Float64}, Measures.Length{:cy, Float64}}, Measures.Length{:cx, Float64}, Measures.Length{:cy, Float64}}((-1.2cx, -1.2cy), 2.4cx, 2.4cy)], Symbol(\"\"))]), List([Compose.Property{Compose.FillPrimitive}(Compose.FillPrimitive[Compose.FillPrimitive(RGBA{Float64}(0.0,0.0,0.0,0.0))])]), 0, false, false, false, false, nothing, nothing, 0.0, Symbol(\"\")), Compose.Context(BBox{l,t,r,b,w,h = 0.0w,0.0h, 1.0w,1.0h, 1.0w,1.0h}, nothing, nothing, nothing, nothing, List([]), List([]), List([Compose.Property{Compose.LineWidthPrimitive}(Compose.LineWidthPrimitive[Compose.LineWidthPrimitive(1.3416407864998738mm)]), Compose.Property{Compose.StrokePrimitive}(Compose.StrokePrimitive[Compose.StrokePrimitive(RGBA{Float64}(0.0,0.0,0.0,1.0))])]), 0, false, false, false, false, nothing, nothing, 0.0, Symbol(\"\")), Compose.Context(BBox{l,t,r,b,w,h = 0.0w,0.0h, 1.0w,1.0h, 1.0w,1.0h}, nothing, nothing, nothing, nothing, List([]), List([Compose.Form{Compose.LinePrimitive}(Compose.LinePrimitive[Compose.LinePrimitive{Tuple{Measures.Measure, Measures.Measure}}(Tuple{Measures.Measure, Measures.Measure}[(-0.9884818982878074cx, -0.888791487138135cy), (-0.9062587725842451cx, -0.09491835067607714cy)]), Compose.LinePrimitive{Tuple{Measures.Measure, Measures.Measure}}(Tuple{Measures.Measure, Measures.Measure}[(-0.8978205114998308cx, -0.9546199148321229cy), (0.05795502172181273cx, -0.5301396621354239cy)]), Compose.LinePrimitive{Tuple{Measures.Measure, Measures.Measure}}(Tuple{Measures.Measure, Measures.Measure}[(-0.826916437705977cx, 0.10517139414976218cy), (-0.21190738125855602cx, 0.9111187680360257cy)]), Compose.LinePrimitive{Tuple{Measures.Measure, Measures.Measure}}(Tuple{Measures.Measure, Measures.Measure}[(-0.7937505831551334cx, -0.031678600388714374cy), (0.0591444225050628cx, -0.43679081439304457cy)]), Compose.LinePrimitive{Tuple{Measures.Measure, Measures.Measure}}(Tuple{Measures.Measure, Measures.Measure}[(-0.04309300416493268cx, 0.9520313557676143cy), (0.8990098560724522cx, 0.5045481145766602cy)]), Compose.LinePrimitive{Tuple{Measures.Measure, Measures.Measure}}(Tuple{Measures.Measure, Measures.Measure}[(0.9255675450280366cx, 0.3731539967355101cy), (0.23456696519394538cx, -0.4013341033587824cy)])], Symbol(\"\"))]), List([Compose.Property{Compose.LineWidthPrimitive}(Compose.LineWidthPrimitive[Compose.LineWidthPrimitive(1.3416407864998738mm)]), Compose.Property{Compose.StrokePrimitive}(Compose.StrokePrimitive[Compose.StrokePrimitive(RGBA{Float64}(0.0,0.0,0.0,1.0))])]), 0, false, false, false, false, nothing, nothing, 0.0, Symbol(\"\")), Compose.Context(BBox{l,t,r,b,w,h = 0.0w,0.0h, 1.0w,1.0h, 1.0w,1.0h}, nothing, nothing, nothing, nothing, List([]), List([]), List([Compose.Property{Compose.FillPrimitive}(Compose.FillPrimitive[Compose.FillPrimitive(RGBA{Float64}(0.0,0.0,0.0,1.0))])]), 0, false, false, false, false, nothing, nothing, 0.0, Symbol(\"\")), Compose.Context(BBox{l,t,r,b,w,h = 0.0w,0.0h, 1.0w,1.0h, 1.0w,1.0h}, nothing, nothing, nothing, nothing, List([]), List([]), List([Compose.Property{Compose.FillPrimitive}(Compose.FillPrimitive[Compose.FillPrimitive(RGBA{Float64}(0.0,0.0,0.0,1.0))])]), 0, false, false, false, false, nothing, nothing, 0.0, Symbol(\"\")), Compose.Context(BBox{l,t,r,b,w,h = 0.0w,0.0h, 1.0w,1.0h, 1.0w,1.0h}, nothing, nothing, nothing, nothing, List([]), List([]), List([Compose.Property{Compose.FontSizePrimitive}(Compose.FontSizePrimitive[Compose.FontSizePrimitive(4.0mm)]), Compose.Property{Compose.FillPrimitive}(Compose.FillPrimitive[Compose.FillPrimitive(RGBA{Float64}(0.0,0.0,0.0,1.0))])]), 0, false, false, false, false, nothing, nothing, 0.0, Symbol(\"\")), Compose.Context(BBox{l,t,r,b,w,h = 0.0w,0.0h, 1.0w,1.0h, 1.0w,1.0h}, nothing, nothing, nothing, nothing, List([]), List([Compose.Form{Compose.CirclePrimitive{Tuple{Measures.Measure, Measures.Measure}, Measures.Measure}}(Compose.CirclePrimitive{Tuple{Measures.Measure, Measures.Measure}, Measures.Measure}[Compose.CirclePrimitive{Tuple{Measures.Measure, Measures.Measure}, Measures.Measure}((-1.0cx, -1.0cy), 0.1073312629199899cx), Compose.CirclePrimitive{Tuple{Measures.Measure, Measures.Measure}, Measures.Measure}((-0.8947406708720526cx, 0.016290162185787826cy), 0.1073312629199899cx), Compose.CirclePrimitive{Tuple{Measures.Measure, Measures.Measure}, Measures.Measure}((-0.14408314809248046cx, 1.0cy), 0.1073312629199899cx), Compose.CirclePrimitive{Tuple{Measures.Measure, Measures.Measure}, Measures.Measure}((1.0cx, 0.4565794703442745cy), 0.1073312629199899cx), Compose.CirclePrimitive{Tuple{Measures.Measure, Measures.Measure}, Measures.Measure}((0.160134510221982cx, -0.4847595769675468cy), 0.1073312629199899cx)], Symbol(\"\"))]), List([Compose.Property{Compose.LineWidthPrimitive}(Compose.LineWidthPrimitive[Compose.LineWidthPrimitive(0.0mm)]), Compose.Property{Compose.StrokePrimitive}(Compose.StrokePrimitive[Compose.StrokePrimitive(RGBA{Float64}(0.0,0.0,0.0,0.0))]), Compose.Property{Compose.FillPrimitive}(Compose.FillPrimitive[Compose.FillPrimitive(RGBA{Float64}(0.5490196078431373,0.08235294117647059,0.08235294117647059,1.0))])]), 0, false, false, false, false, nothing, nothing, 0.0, Symbol(\"\")), Compose.Context(BBox{l,t,r,b,w,h = 0.0w,0.0h, 1.0w,1.0h, 1.0w,1.0h}, nothing, nothing, nothing, nothing, List([]), List([Compose.Form{Compose.TextPrimitive{Tuple{Measures.Length{:cx, Float64}, Measures.Length{:cy, Float64}}, Compose.Rotation{Tuple{Measures.Length{:w, Float64}, Measures.Length{:h, Float64}}}, Tuple{Measures.AbsoluteLength, Measures.AbsoluteLength}}}(Compose.TextPrimitive{Tuple{Measures.Length{:cx, Float64}, Measures.Length{:cy, Float64}}, Compose.Rotation{Tuple{Measures.Length{:w, Float64}, Measures.Length{:h, Float64}}}, Tuple{Measures.AbsoluteLength, Measures.AbsoluteLength}}[Compose.TextPrimitive{Tuple{Measures.Length{:cx, Float64}, Measures.Length{:cy, Float64}}, Compose.Rotation{Tuple{Measures.Length{:w, Float64}, Measures.Length{:h, Float64}}}, Tuple{Measures.AbsoluteLength, Measures.AbsoluteLength}}((-1.0cx, -1.0cy), \"1\", Compose.HCenter(), Compose.VCenter(), Compose.Rotation{Tuple{Measures.Length{:w, Float64}, Measures.Length{:h, Float64}}}(0.0, (0.5w, 0.5h)), (0.0mm, 0.0mm)), Compose.TextPrimitive{Tuple{Measures.Length{:cx, Float64}, Measures.Length{:cy, Float64}}, Compose.Rotation{Tuple{Measures.Length{:w, Float64}, Measures.Length{:h, Float64}}}, Tuple{Measures.AbsoluteLength, Measures.AbsoluteLength}}((-0.8947406708720526cx, 0.016290162185787826cy), \"2\", Compose.HCenter(), Compose.VCenter(), Compose.Rotation{Tuple{Measures.Length{:w, Float64}, Measures.Length{:h, Float64}}}(0.0, (0.5w, 0.5h)), (0.0mm, 0.0mm)), Compose.TextPrimitive{Tuple{Measures.Length{:cx, Float64}, Measures.Length{:cy, Float64}}, Compose.Rotation{Tuple{Measures.Length{:w, Float64}, Measures.Length{:h, Float64}}}, Tuple{Measures.AbsoluteLength, Measures.AbsoluteLength}}((-0.14408314809248046cx, 1.0cy), \"3\", Compose.HCenter(), Compose.VCenter(), Compose.Rotation{Tuple{Measures.Length{:w, Float64}, Measures.Length{:h, Float64}}}(0.0, (0.5w, 0.5h)), (0.0mm, 0.0mm)), Compose.TextPrimitive{Tuple{Measures.Length{:cx, Float64}, Measures.Length{:cy, Float64}}, Compose.Rotation{Tuple{Measures.Length{:w, Float64}, Measures.Length{:h, Float64}}}, Tuple{Measures.AbsoluteLength, Measures.AbsoluteLength}}((1.0cx, 0.4565794703442745cy), \"4\", Compose.HCenter(), Compose.VCenter(), Compose.Rotation{Tuple{Measures.Length{:w, Float64}, Measures.Length{:h, Float64}}}(0.0, (0.5w, 0.5h)), (0.0mm, 0.0mm)), Compose.TextPrimitive{Tuple{Measures.Length{:cx, Float64}, Measures.Length{:cy, Float64}}, Compose.Rotation{Tuple{Measures.Length{:w, Float64}, Measures.Length{:h, Float64}}}, Tuple{Measures.AbsoluteLength, Measures.AbsoluteLength}}((0.160134510221982cx, -0.4847595769675468cy), \"5\", Compose.HCenter(), Compose.VCenter(), Compose.Rotation{Tuple{Measures.Length{:w, Float64}, Measures.Length{:h, Float64}}}(0.0, (0.5w, 0.5h)), (0.0mm, 0.0mm))], Symbol(\"\"))]), List([Compose.Property{Compose.FontPrimitive}(Compose.FontPrimitive[Compose.FontPrimitive(\"Helvetica\")]), Compose.Property{Compose.FontSizePrimitive}(Compose.FontSizePrimitive[Compose.FontSizePrimitive(4.0mm)]), Compose.Property{Compose.FillPrimitive}(Compose.FillPrimitive[Compose.FillPrimitive(RGBA{Float64}(1.0,1.0,1.0,1.0))])]), 0, false, false, false, false, nothing, nothing, 0.0, Symbol(\"\")), Compose.Context(BBox{l,t,r,b,w,h = 0.0w,0.0h, 1.0w,1.0h, 1.0w,1.0h}, nothing, nothing, nothing, nothing, List([]), List([Compose.Form{Compose.TextPrimitive{Tuple{Measures.Length{:cx, Int64}, Measures.Length{:cy, Float64}}, Compose.Rotation{Tuple{Measures.Length{:w, Float64}, Measures.Length{:h, Float64}}}, Tuple{Measures.AbsoluteLength, Measures.AbsoluteLength}}}(Compose.TextPrimitive{Tuple{Measures.Length{:cx, Int64}, Measures.Length{:cy, Float64}}, Compose.Rotation{Tuple{Measures.Length{:w, Float64}, Measures.Length{:h, Float64}}}, Tuple{Measures.AbsoluteLength, Measures.AbsoluteLength}}[Compose.TextPrimitive{Tuple{Measures.Length{:cx, Int64}, Measures.Length{:cy, Float64}}, Compose.Rotation{Tuple{Measures.Length{:w, Float64}, Measures.Length{:h, Float64}}}, Tuple{Measures.AbsoluteLength, Measures.AbsoluteLength}}((0cx, -1.2cy), \"\", Compose.HCenter(), Compose.VCenter(), Compose.Rotation{Tuple{Measures.Length{:w, Float64}, Measures.Length{:h, Float64}}}(0.0, (0.5w, 0.5h)), (0.0mm, 0.0mm))], Symbol(\"\"))]), List([Compose.Property{Compose.FontPrimitive}(Compose.FontPrimitive[Compose.FontPrimitive(\"Helvetica\")]), Compose.Property{Compose.FontSizePrimitive}(Compose.FontSizePrimitive[Compose.FontSizePrimitive(4.0mm)]), Compose.Property{Compose.FillPrimitive}(Compose.FillPrimitive[Compose.FillPrimitive(RGBA{Float64}(0.0,0.0,0.0,1.0))])]), 0, false, false, false, false, nothing, nothing, 0.0, Symbol(\"\"))]), List([]), List([]), 0, false, false, false, false, nothing, nothing, 0.0, Symbol(\"\"))"
      ]
     },
     "execution_count": 9,
     "metadata": {},
     "output_type": "execute_result"
    }
   ],
   "source": [
    "# make an undirected graph with 5 nodes\n",
    "g = SimpleGraph(5)\n",
    "\n",
    "# add some edges\n",
    "add_edge!(g, 1, 2)\n",
    "add_edge!(g, 2, 3)\n",
    "add_edge!(g, 3, 4)\n",
    "add_edge!(g, 4, 5)\n",
    "add_edge!(g, 5, 1)\n",
    "add_edge!(g, 5, 2)\n",
    "\n",
    "# adjacency matrix\n",
    "A = adjacency_matrix(g)\n",
    "A_dense = Matrix(A)\n",
    "println(\"Adjacency matrix:\")\n",
    "println(A)\n",
    "display(A_dense)\n",
    "\n",
    "# plot the graph\n",
    "gplot(g, nodelabel=1:nv(g), \n",
    "    nodefillc=color(cardinal),\n",
    "    nodelabelc=colorant\"white\",\n",
    "    edgestrokec=colorant\"black\")\n"
   ]
  },
  {
   "cell_type": "code",
   "execution_count": 10,
   "id": "a9036cc0-3a74-462c-a042-54408a59bca3",
   "metadata": {},
   "outputs": [
    {
     "name": "stdout",
     "output_type": "stream",
     "text": [
      "Adjacency Matrix for A\n"
     ]
    },
    {
     "data": {
      "text/latex": [
       "$$\\begin{bmatrix}\n",
       "0 & 1 & 0 & 0 & 1 \\\\\n",
       "1 & 0 & 1 & 0 & 1 \\\\\n",
       "0 & 1 & 0 & 1 & 0 \\\\\n",
       "0 & 0 & 1 & 0 & 1 \\\\\n",
       "1 & 1 & 0 & 1 & 0\n",
       "\\end{bmatrix}$$\n"
      ],
      "text/markdown": [
       "$$\n",
       "\\begin{bmatrix}\n",
       "0 & 1 & 0 & 0 & 1 \\\\\n",
       "1 & 0 & 1 & 0 & 1 \\\\\n",
       "0 & 1 & 0 & 1 & 0 \\\\\n",
       "0 & 0 & 1 & 0 & 1 \\\\\n",
       "1 & 1 & 0 & 1 & 0\n",
       "\\end{bmatrix}\n",
       "$$\n"
      ],
      "text/plain": [
       "\u001b[35m  \\begin{bmatrix}\u001b[39m\n",
       "\u001b[35m0 & 1 & 0 & 0 & 1 \\\\\u001b[39m\n",
       "\u001b[35m1 & 0 & 1 & 0 & 1 \\\\\u001b[39m\n",
       "\u001b[35m0 & 1 & 0 & 1 & 0 \\\\\u001b[39m\n",
       "\u001b[35m0 & 0 & 1 & 0 & 1 \\\\\u001b[39m\n",
       "\u001b[35m1 & 1 & 0 & 1 & 0\u001b[39m\n",
       "\u001b[35m\\end{bmatrix}\u001b[39m"
      ]
     },
     "metadata": {},
     "output_type": "display_data"
    }
   ],
   "source": [
    "#print adjacency matrix \n",
    "println(\"Adjacency Matrix for A\")\n",
    "display(latex_matrix(A))\n"
   ]
  },
  {
   "cell_type": "markdown",
   "id": "6a2488fa-7168-480e-844f-5a6da822848f",
   "metadata": {},
   "source": [
    "### P2.110 Analysis\n",
    "- Okay let there be an unstructured graph comprised of $n$ nodes, bidirectional edges, and no self edges.\n",
    "- The corresponding adjacency matrix of shape $n$ x $n$ and in accordance with bidirectional edges is symmetric, such that:\n",
    "$$A = A^T$$\n",
    "$$A_{ii} = 0$$ \n",
    "\n",
    "**We know:**\n",
    "- to get from a given node $i$ to $j$, you apply the adjacency matrix $A_{ij}$ iff, $A_{ij} =1$\n",
    "- otherwise, you cannot get from node $i$ to $j$ in one step.\n",
    "\n",
    "**Ex.**\n",
    "- the graph above has adjacency matrix above\n",
    "- in the graph above, if you want to get from node $1$ to $3$, you cannot do so in one \"step\"\n",
    "- you must go to node $2$ first, then to node $3$.\n",
    "- now lets show what happens when we square $A$ and visualize what taking 2 \"steps\" looks like"
   ]
  },
  {
   "cell_type": "code",
   "execution_count": 11,
   "id": "86b0a00d-098a-44f8-9cee-8667ae592149",
   "metadata": {},
   "outputs": [
    {
     "name": "stdout",
     "output_type": "stream",
     "text": [
      "Adjacency Matrix for A^2\n"
     ]
    },
    {
     "data": {
      "text/latex": [
       "$$\\begin{bmatrix}\n",
       "2 & 1 & 1 & 1 & 1 \\\\\n",
       "1 & 3 & 0 & 2 & 1 \\\\\n",
       "1 & 0 & 2 & 0 & 2 \\\\\n",
       "1 & 2 & 0 & 2 & 0 \\\\\n",
       "1 & 1 & 2 & 0 & 3\n",
       "\\end{bmatrix}$$\n"
      ],
      "text/markdown": [
       "$$\n",
       "\\begin{bmatrix}\n",
       "2 & 1 & 1 & 1 & 1 \\\\\n",
       "1 & 3 & 0 & 2 & 1 \\\\\n",
       "1 & 0 & 2 & 0 & 2 \\\\\n",
       "1 & 2 & 0 & 2 & 0 \\\\\n",
       "1 & 1 & 2 & 0 & 3\n",
       "\\end{bmatrix}\n",
       "$$\n"
      ],
      "text/plain": [
       "\u001b[35m  \\begin{bmatrix}\u001b[39m\n",
       "\u001b[35m2 & 1 & 1 & 1 & 1 \\\\\u001b[39m\n",
       "\u001b[35m1 & 3 & 0 & 2 & 1 \\\\\u001b[39m\n",
       "\u001b[35m1 & 0 & 2 & 0 & 2 \\\\\u001b[39m\n",
       "\u001b[35m1 & 2 & 0 & 2 & 0 \\\\\u001b[39m\n",
       "\u001b[35m1 & 1 & 2 & 0 & 3\u001b[39m\n",
       "\u001b[35m\\end{bmatrix}\u001b[39m"
      ]
     },
     "metadata": {},
     "output_type": "display_data"
    },
    {
     "name": "stdout",
     "output_type": "stream",
     "text": [
      "Adjacency Matrix for A^3\n"
     ]
    },
    {
     "data": {
      "text/latex": [
       "$$\\begin{bmatrix}\n",
       "2 & 4 & 2 & 2 & 4 \\\\\n",
       "4 & 2 & 5 & 1 & 6 \\\\\n",
       "2 & 5 & 0 & 4 & 1 \\\\\n",
       "2 & 1 & 4 & 0 & 5 \\\\\n",
       "4 & 6 & 1 & 5 & 2\n",
       "\\end{bmatrix}$$\n"
      ],
      "text/markdown": [
       "$$\n",
       "\\begin{bmatrix}\n",
       "2 & 4 & 2 & 2 & 4 \\\\\n",
       "4 & 2 & 5 & 1 & 6 \\\\\n",
       "2 & 5 & 0 & 4 & 1 \\\\\n",
       "2 & 1 & 4 & 0 & 5 \\\\\n",
       "4 & 6 & 1 & 5 & 2\n",
       "\\end{bmatrix}\n",
       "$$\n"
      ],
      "text/plain": [
       "\u001b[35m  \\begin{bmatrix}\u001b[39m\n",
       "\u001b[35m2 & 4 & 2 & 2 & 4 \\\\\u001b[39m\n",
       "\u001b[35m4 & 2 & 5 & 1 & 6 \\\\\u001b[39m\n",
       "\u001b[35m2 & 5 & 0 & 4 & 1 \\\\\u001b[39m\n",
       "\u001b[35m2 & 1 & 4 & 0 & 5 \\\\\u001b[39m\n",
       "\u001b[35m4 & 6 & 1 & 5 & 2\u001b[39m\n",
       "\u001b[35m\\end{bmatrix}\u001b[39m"
      ]
     },
     "metadata": {},
     "output_type": "display_data"
    },
    {
     "name": "stdout",
     "output_type": "stream",
     "text": [
      "Adjacency Matrix for A^k\n"
     ]
    },
    {
     "data": {
      "text/latex": [
       "$$\\begin{bmatrix}\n",
       "8 & 8 & 6 & 6 & 8 \\\\\n",
       "8 & 15 & 3 & 11 & 7 \\\\\n",
       "6 & 3 & 9 & 1 & 11 \\\\\n",
       "6 & 11 & 1 & 9 & 3 \\\\\n",
       "8 & 7 & 11 & 3 & 15\n",
       "\\end{bmatrix}$$\n"
      ],
      "text/markdown": [
       "$$\n",
       "\\begin{bmatrix}\n",
       "8 & 8 & 6 & 6 & 8 \\\\\n",
       "8 & 15 & 3 & 11 & 7 \\\\\n",
       "6 & 3 & 9 & 1 & 11 \\\\\n",
       "6 & 11 & 1 & 9 & 3 \\\\\n",
       "8 & 7 & 11 & 3 & 15\n",
       "\\end{bmatrix}\n",
       "$$\n"
      ],
      "text/plain": [
       "\u001b[35m  \\begin{bmatrix}\u001b[39m\n",
       "\u001b[35m8 & 8 & 6 & 6 & 8 \\\\\u001b[39m\n",
       "\u001b[35m8 & 15 & 3 & 11 & 7 \\\\\u001b[39m\n",
       "\u001b[35m6 & 3 & 9 & 1 & 11 \\\\\u001b[39m\n",
       "\u001b[35m6 & 11 & 1 & 9 & 3 \\\\\u001b[39m\n",
       "\u001b[35m8 & 7 & 11 & 3 & 15\u001b[39m\n",
       "\u001b[35m\\end{bmatrix}\u001b[39m"
      ]
     },
     "metadata": {},
     "output_type": "display_data"
    }
   ],
   "source": [
    "#do one and 2 steps, then k\n",
    "A_2 = A_dense^2 \n",
    "println(\"Adjacency Matrix for A^2\")\n",
    "display(latex_matrix(A_2))\n",
    "A_3 = A_dense^3\n",
    "println(\"Adjacency Matrix for A^3\")\n",
    "display(latex_matrix(A_3))\n",
    "k = 4\n",
    "A_k = A_dense^k\n",
    "println(\"Adjacency Matrix for A^k\")\n",
    "display(latex_matrix(A_k))"
   ]
  },
  {
   "cell_type": "markdown",
   "id": "0109db2f-cf23-4bca-9927-d73c83b160e8",
   "metadata": {},
   "source": [
    "**Here you can see that:**\n",
    "- there is a base case $A_{ij} = 1$ where you can go from node $i$ to $j$ in one step\n",
    "- Each $i, j$ in $A_{ij}^k$ for $k > 1$ represents the total number of ways to get from $i$ to $j$ in $k$  \"steps\"\n",
    "- where $(A_{ij})^k$ counts the number of possible ways to get from $i$ to $j$ in $k$ steps\n",
    "\n",
    "For a dummy index $\\ell$, number of nodes, $n$, and any integer $k$, you can denote the number of steps by:\n",
    "$$(A^{k+1})_{ij}=\\sum_{\\ell=1}^n (A^k)_{i\\ell}\\,A_{\\ell j}$$\n",
    "where you take $k$ steps to get from $i$ to $\\ell$, and one step from $\\ell$ to $j$\n",
    "\n",
    "Conceptually think of the transisiton from the $A^1$ to $A^2$ where you want to $A_{14}$, but one step does not get you there. So you do\n",
    "$$(A^{1+1})_{14}=\\sum_{\\ell=1}^n (A^1)_{1\\ell}\\,A_{\\ell 4}$$\n",
    "**which reduces to:** \n",
    "$$(A^{2})_{14}=\\sum_{\\ell=1}^n (A^1)_{1\\ell}\\,A_{\\ell 4}$$\n"
   ]
  },
  {
   "cell_type": "markdown",
   "id": "6b65e7ec-377c-4fa9-8534-33cdfe8e387f",
   "metadata": {},
   "source": [
    "## Problem 2.150: Gradient of some common functions\n",
    "\n",
    "Recall that the gradient of a differentiable function  \n",
    "$$f: \\mathbb{R}^n \\to \\mathbb{R},$$  \n",
    "at a point $x \\in \\mathbb{R}^n$, is defined as  \n",
    "\n",
    "$$\n",
    "\\nabla f(x) =\n",
    "\\begin{bmatrix}\n",
    "\\frac{\\partial f}{\\partial x_1} \\\\\n",
    "\\vdots \\\\\n",
    "\\frac{\\partial f}{\\partial x_n}\n",
    "\\end{bmatrix}.\n",
    "$$  \n",
    "\n",
    "The first-order Taylor approximation of \\(f\\), near \\(x\\), is  \n",
    "\n",
    "$$\n",
    "\\hat{f}_{\\text{tay}}(z) = f(x) + \\nabla f(x)^T (z - x).\n",
    "$$  \n",
    "\n",
    "Find the gradient of the following functions, expressed using matrix notation:  \n",
    "\n",
    "a) $f(x) = a^T x + b, \\quad a \\in \\mathbb{R}^n, b \\in \\mathbb{R}$.  \n",
    "\n",
    "b) $f(x) = x^T A x, \\quad A \\in \\mathbb{R}^{n \\times n}$.  \n",
    "\n",
    "c) $f(x) = x^T A x, \\quad A = A^T \\in \\mathbb{R}^{n \\times n}$.  \n"
   ]
  },
  {
   "cell_type": "markdown",
   "id": "394448df-9f92-4da0-904d-04b82c627a69",
   "metadata": {},
   "source": [
    "### P2.150 Analysis\n",
    "\n",
    "#### Part A\n",
    "\n",
    "So $a$ is a vector of length $n$. where $x$ is also a vector of length $n$. and $b$ is a scalar.  \n",
    "Assuming that the $x$ vector is filled with scalar entries and not $i$th degree polynomial $x_i$ for the $i$th entry in an $x$ vector length $n$.  \n",
    "Then, $$df(x) = a^T dx$$ \n",
    "or $$df(x_i) = a^T_i dx_i$$\n",
    "\n",
    "#### Part B\n",
    "\n",
    "So we can start by applying the chain rule to $f(x)$ for both $x$ terms.  \n",
    "where $$df(x) = dx^T(Ax) + (x^T A)dx$$  \n",
    "Since the first term is just a scalar, you can transpose it without changing it. so taking the transpose of the first term you get:  \n",
    "$$ dx^T(Ax) = dx(A^T x^T)$$\n",
    "$$df(x) = dx (A^T x^T) + (x^T A) dx$$  \n",
    "now you can factor out and rewrite  \n",
    "$$df(x) = (x^T(A^T + A))dx$$  \n",
    "so now we have to take the transpose of $df(x)$ to get the taylor expansion  \n",
    "It then becomes $$ \\nabla f(x)^T = (A + A^T)x$$\n",
    "\n",
    "#### Part C\n",
    "\n",
    "now starting from the point in b where we have $df(x) = (x^T(A + A^T)dx$  \n",
    "now we can write that $$\\nabla f(x)^T = (x^T(A + A))^T$$  \n",
    "it becomes $$\\nabla f(x)^T  = (x(2A^T) \\text{ but }A = A^T$$ so it reduces to $$\\nabla f(x)^T  = 2Ax$$\n"
   ]
  },
  {
   "cell_type": "markdown",
   "id": "23b080d9-1284-454a-9b9e-dd1b5a6170be",
   "metadata": {},
   "source": [
    "### Problem 2.210: Express in matrix language\n",
    "\n",
    "Express the following statements in matrix language (assume all matrices have appropriate dimensions).  \n",
    "\n",
    "a) Suppose $Z$ has $n$ columns. For each $i$, row $i$ of $Z$ is a linear combination of rows $i, \\ldots, n$ of $Y$.  \n",
    "\n",
    "b) $W$ is obtained from $V$ by permuting adjacent odd and even columns (i.e., 1 and 2, 3 and 4, …).  \n",
    "\n",
    "c) Each column of $P$ makes an acute angle with each column of $Q$.  \n",
    "\n",
    "d) Each column of $P$ makes an acute angle with the corresponding column of $Q$.  \n",
    "\n",
    "e) The first $k$ columns of $A$ are orthogonal to the remaining columns of $A$.  \n"
   ]
  },
  {
   "cell_type": "markdown",
   "id": "3276d134-99ad-4b62-9b00-a88f5626d4e9",
   "metadata": {},
   "source": [
    "### P2.210 Analysis\n",
    "\n",
    "#### Part A\n",
    "Z is a vector which exists such that: $$Z: \\mathbb{R}^n$$   Such that: $$Z = Ay$$  \n",
    "where: $$A: \\mathbb{R}^{n \\times m} \\text{ and } y: \\mathbb{R}^m$$\n",
    "#### Part B\n",
    "For vector $W: \\mathbb{R}^n$ it can be yielded from the by permuting the odd and even columns of the horizontal vector $V: \\mathbb{R}^n$ by permuting (switching) the odd and even indices, with a Permutation matrix, $P: \\mathbb{R}^{n \\times n}$, such that:$$ W = PV$$\n",
    "#### Part C\n",
    "For Matrix $P: \\mathbb{R}^{n \\times m}$ and Matrix $Q: \\mathbb{R}^{n \\times m}$\n",
    "to align each row and column of P and Q, you can take the transpose of one of the matrices: $$P^TQ$$\n",
    "Now recall that the dot product between to vectors, say x and y is: $\\frac{cos(\\theta)}{||x|| ||y||}$, where $\\theta$ is the angle between the two vectors. \n",
    "Since we take the transpose of P, the product at the $i$th index is equal to the magnitude of the columns times the cosine of the angle between them. And because cosine of $\\theta$ is greater than zero if acute, the resulting equation \n",
    "#### Part D\n",
    "\n",
    "Each column of $P$ makes an acute angle with the corresponding column of $Q$.  \n",
    "This means that the dot product between the $j$-th column of $P$ and the $j$-th column of $Q$ is positive.  \n",
    "So we can write:\n",
    "\n",
    "$$p_j^T q_j > 0, \\quad \\forall j,$$\n",
    "\n",
    "or in compact form:\n",
    "\n",
    "$$\\operatorname{diag}(P^T Q) > 0.$$\n",
    "\n",
    "---\n",
    "\n",
    "#### Part E\n",
    "\n",
    "The first $k$ columns of $A$ are orthogonal to the remaining columns of $A$.  \n",
    "If we partition $A$ into two blocks, $A = [A_1 \\; A_2]$, where $A_1$ contains the first $k$ columns and $A_2$ contains the rest, then the condition is:\n",
    "\n",
    "$$A_1^T A_2 = 0.$$\n"
   ]
  },
  {
   "cell_type": "code",
   "execution_count": null,
   "id": "f9c47ac7-d3c9-42bb-815d-d0f747b37fac",
   "metadata": {},
   "outputs": [],
   "source": []
  }
 ],
 "metadata": {
  "kernelspec": {
   "display_name": "Julia 1.11.7",
   "language": "julia",
   "name": "julia-1.11"
  },
  "language_info": {
   "file_extension": ".jl",
   "mimetype": "application/julia",
   "name": "julia",
   "version": "1.11.7"
  }
 },
 "nbformat": 4,
 "nbformat_minor": 5
}
